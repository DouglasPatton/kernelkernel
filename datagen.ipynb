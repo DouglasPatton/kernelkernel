{
 "cells": [
  {
   "cell_type": "code",
   "execution_count": 1,
   "metadata": {},
   "outputs": [],
   "source": [
    "import datagen as dg\n",
    "import numpy as np\n",
    "from pisces_data_huc12 import PiscesDataTool as pdt\n",
    "import traceback\n",
    "from pisces_params import PiSetup"
   ]
  },
  {
   "cell_type": "code",
   "execution_count": 2,
   "metadata": {},
   "outputs": [],
   "source": [
    "#species_list=pdt().returnspecieslist()"
   ]
  },
  {
   "cell_type": "code",
   "execution_count": 3,
   "metadata": {},
   "outputs": [],
   "source": [
    "params=PiSetup()\n",
    "datagen_dict=params.datagen_dict_template\n",
    "datagen_dict['species']='catostomus insignis'"
   ]
  },
  {
   "cell_type": "code",
   "execution_count": 4,
   "metadata": {},
   "outputs": [],
   "source": [
    "data_obj=dg.dataGenerator(datagen_dict)"
   ]
  },
  {
   "cell_type": "code",
   "execution_count": 5,
   "metadata": {},
   "outputs": [
    {
     "data": {
      "text/plain": [
       "\"fails=0;successes=0\\nfor spec in species_list[:]:\\n    try:\\n        datagen_dict['species']=spec\\n        data_obj=dg.dataGenerator(datagen_dict)\\n        try:\\n            if  len(data_obj.X_train)!=len(data_obj.y_train):\\n                print(f'spec has len(X_train):{len(data_obj.X_train)}, len(y_train):{len(data_obj.y_train)}')\\n                fails+=1\\n            else:successes+=1\\n        except:\\n            print(spec,traceback.format_exc())\\n            fails+=1\\n        #else: print(f'{spec}:{data_obj.X_train.shape}. ',sep='')\\n    except:\\n        print(traceback.format_exc())\""
      ]
     },
     "execution_count": 5,
     "metadata": {},
     "output_type": "execute_result"
    }
   ],
   "source": [
    "'''fails=0;successes=0\n",
    "for spec in species_list[:]:\n",
    "    try:\n",
    "        datagen_dict['species']=spec\n",
    "        data_obj=dg.dataGenerator(datagen_dict)\n",
    "        try:\n",
    "            if  len(data_obj.X_train)!=len(data_obj.y_train):\n",
    "                print(f'spec has len(X_train):{len(data_obj.X_train)}, len(y_train):{len(data_obj.y_train)}')\n",
    "                fails+=1\n",
    "            else:successes+=1\n",
    "        except:\n",
    "            print(spec,traceback.format_exc())\n",
    "            fails+=1\n",
    "        #else: print(f'{spec}:{data_obj.X_train.shape}. ',sep='')\n",
    "    except:\n",
    "        print(traceback.format_exc())'''"
   ]
  },
  {
   "cell_type": "code",
   "execution_count": 6,
   "metadata": {},
   "outputs": [
    {
     "data": {
      "text/plain": [
       "['AgKffactCat',\n",
       " 'AgKffactWs',\n",
       " 'Al2O3Cat',\n",
       " 'Al2O3Ws',\n",
       " 'BFICat',\n",
       " 'BFIWs',\n",
       " 'CBNFCat',\n",
       " 'CBNFWs',\n",
       " 'CCHEM_v2_1',\n",
       " 'CCONN_v2_1',\n",
       " 'CHABT_v2_1',\n",
       " 'CHYD_v2_1',\n",
       " 'CSED_v2_1',\n",
       " 'CTEMP_v2_1',\n",
       " 'CaOCat',\n",
       " 'CaOWs',\n",
       " 'CanalDensCat',\n",
       " 'CanalDensWs',\n",
       " 'ClayCat',\n",
       " 'ClayWs',\n",
       " 'CoalMineDensCat',\n",
       " 'CoalMineDensWs',\n",
       " 'CompStrgthCat',\n",
       " 'CompStrgthWs',\n",
       " 'DamDensCat',\n",
       " 'DamDensWs',\n",
       " 'DamNIDStorCat',\n",
       " 'DamNIDStorWs',\n",
       " 'DamNrmStorCat',\n",
       " 'DamNrmStorWs',\n",
       " 'Elev',\n",
       " 'ElevCat',\n",
       " 'ElevWs',\n",
       " 'Fe2O3Cat',\n",
       " 'Fe2O3Ws',\n",
       " 'FertCat',\n",
       " 'FertWs',\n",
       " 'HUDenCatRp100_avg',\n",
       " 'HUDenCat_avg',\n",
       " 'HUDenWsRp100_avg',\n",
       " 'HUDenWs_avg',\n",
       " 'HydrlCondCat',\n",
       " 'HydrlCondWs',\n",
       " 'ICI_v2_1',\n",
       " 'IWI_v2_1',\n",
       " 'InorgNWetDep_Cat_avg',\n",
       " 'InorgNWetDep_Ws_avg',\n",
       " 'K2OCat',\n",
       " 'K2OWs',\n",
       " 'KffactCat',\n",
       " 'KffactWs',\n",
       " 'Length',\n",
       " 'MAST__avg',\n",
       " 'MSST__avg',\n",
       " 'MWST__avg',\n",
       " 'ManureCat',\n",
       " 'ManureWs',\n",
       " 'MgOCat',\n",
       " 'MgOWs',\n",
       " 'MineDensCat',\n",
       " 'MineDensCatRp100',\n",
       " 'MineDensWs',\n",
       " 'MineDensWsRp100',\n",
       " 'NABD_DensCat',\n",
       " 'NABD_DensWs',\n",
       " 'NABD_NIDStorCat',\n",
       " 'NABD_NIDStorWs',\n",
       " 'NABD_NrmStorCat',\n",
       " 'NABD_NrmStorWs',\n",
       " 'NCat',\n",
       " 'NH4_Cat_avg',\n",
       " 'NH4_Ws_avg',\n",
       " 'NO3_Cat_avg',\n",
       " 'NO3_Ws_avg',\n",
       " 'NPDESDensCat',\n",
       " 'NPDESDensCatRp100',\n",
       " 'NPDESDensWs',\n",
       " 'NPDESDensWsRp100',\n",
       " 'NWs',\n",
       " 'Na2OCat',\n",
       " 'Na2OWs',\n",
       " 'OmCat',\n",
       " 'OmWs',\n",
       " 'P2O5Cat',\n",
       " 'P2O5Ws',\n",
       " 'PctAgSlp10Cat_avg',\n",
       " 'PctAgSlp10Ws_avg',\n",
       " 'PctAgSlp20Cat_avg',\n",
       " 'PctAgSlp20Ws_avg',\n",
       " 'PctAlkIntruVolCat',\n",
       " 'PctAlkIntruVolWs',\n",
       " 'PctAlluvCoastCat',\n",
       " 'PctAlluvCoastWs',\n",
       " 'PctBlCatRp100_avg',\n",
       " 'PctBlCat_avg',\n",
       " 'PctBlWsRp100_avg',\n",
       " 'PctBlWs_avg',\n",
       " 'PctCarbResidCat',\n",
       " 'PctCarbResidWs',\n",
       " 'PctCoastCrsCat',\n",
       " 'PctCoastCrsWs',\n",
       " 'PctColluvSedCat',\n",
       " 'PctColluvSedWs',\n",
       " 'PctConifCatRp100_avg',\n",
       " 'PctConifCat_avg',\n",
       " 'PctConifWsRp100_avg',\n",
       " 'PctConifWs_avg',\n",
       " 'PctCropCatRp100_avg',\n",
       " 'PctCropCat_avg',\n",
       " 'PctCropWsRp100_avg',\n",
       " 'PctCropWs_avg',\n",
       " 'PctDecidCatRp100_avg',\n",
       " 'PctDecidCat_avg',\n",
       " 'PctDecidWsRp100_avg',\n",
       " 'PctDecidWs_avg',\n",
       " 'PctEolCrsCat',\n",
       " 'PctEolCrsWs',\n",
       " 'PctEolFineCat',\n",
       " 'PctEolFineWs',\n",
       " 'PctExtruVolCat',\n",
       " 'PctExtruVolWs',\n",
       " 'PctFireCatRp100_avg',\n",
       " 'PctFireCat_avg',\n",
       " 'PctFireWsRp100_avg',\n",
       " 'PctFireWs_avg',\n",
       " 'PctFrstLossCatRp100_avg',\n",
       " 'PctFrstLossCat_avg',\n",
       " 'PctFrstLossWsRp100_avg',\n",
       " 'PctFrstLossWs_avg',\n",
       " 'PctGlacLakeCrsCat',\n",
       " 'PctGlacLakeCrsWs',\n",
       " 'PctGlacLakeFineCat',\n",
       " 'PctGlacLakeFineWs',\n",
       " 'PctGlacTilClayCat',\n",
       " 'PctGlacTilClayWs',\n",
       " 'PctGlacTilCrsCat',\n",
       " 'PctGlacTilCrsWs',\n",
       " 'PctGlacTilLoamCat',\n",
       " 'PctGlacTilLoamWs',\n",
       " 'PctGrsCatRp100_avg',\n",
       " 'PctGrsCat_avg',\n",
       " 'PctGrsWsRp100_avg',\n",
       " 'PctGrsWs_avg',\n",
       " 'PctHayCatRp100_avg',\n",
       " 'PctHayCat_avg',\n",
       " 'PctHayWsRp100_avg',\n",
       " 'PctHayWs_avg',\n",
       " 'PctHbWetCatRp100_avg',\n",
       " 'PctHbWetCat_avg',\n",
       " 'PctHbWetWsRp100_avg',\n",
       " 'PctHbWetWs_avg',\n",
       " 'PctHydricCat',\n",
       " 'PctHydricWs',\n",
       " 'PctIceCatRp100_avg',\n",
       " 'PctIceCat_avg',\n",
       " 'PctIceWsRp100_avg',\n",
       " 'PctIceWs_avg',\n",
       " 'PctImpCatRp100_avg',\n",
       " 'PctImpCat_avg',\n",
       " 'PctImpWsRp100_avg',\n",
       " 'PctImpWs_avg',\n",
       " 'PctMxFstCatRp100_avg',\n",
       " 'PctMxFstCat_avg',\n",
       " 'PctMxFstWsRp100_avg',\n",
       " 'PctMxFstWs_avg',\n",
       " 'PctNonAgIntrodManagVegCat',\n",
       " 'PctNonAgIntrodManagVegCatRp100',\n",
       " 'PctNonAgIntrodManagVegWs',\n",
       " 'PctNonAgIntrodManagVegWsRp100',\n",
       " 'PctNonCarbResidCat',\n",
       " 'PctNonCarbResidWs',\n",
       " 'PctOwCatRp100_avg',\n",
       " 'PctOwCat_avg',\n",
       " 'PctOwWsRp100_avg',\n",
       " 'PctOwWs_avg',\n",
       " 'PctSalLakeCat',\n",
       " 'PctSalLakeWs',\n",
       " 'PctShrbCatRp100_avg',\n",
       " 'PctShrbCat_avg',\n",
       " 'PctShrbWsRp100_avg',\n",
       " 'PctShrbWs_avg',\n",
       " 'PctSilicicCat',\n",
       " 'PctSilicicWs',\n",
       " 'PctUrbHiCatRp100_avg',\n",
       " 'PctUrbHiCat_avg',\n",
       " 'PctUrbHiWsRp100_avg',\n",
       " 'PctUrbHiWs_avg',\n",
       " 'PctUrbLoCatRp100_avg',\n",
       " 'PctUrbLoCat_avg',\n",
       " 'PctUrbLoWsRp100_avg',\n",
       " 'PctUrbLoWs_avg',\n",
       " 'PctUrbMdCatRp100_avg',\n",
       " 'PctUrbMdCat_avg',\n",
       " 'PctUrbMdWsRp100_avg',\n",
       " 'PctUrbMdWs_avg',\n",
       " 'PctUrbOpCatRp100_avg',\n",
       " 'PctUrbOpCat_avg',\n",
       " 'PctUrbOpWsRp100_avg',\n",
       " 'PctUrbOpWs_avg',\n",
       " 'PctWaterCat',\n",
       " 'PctWaterWs',\n",
       " 'PctWdWetCatRp100_avg',\n",
       " 'PctWdWetCat_avg',\n",
       " 'PctWdWetWsRp100_avg',\n",
       " 'PctWdWetWs_avg',\n",
       " 'PermCat',\n",
       " 'PermWs',\n",
       " 'Pestic97Cat',\n",
       " 'Pestic97Ws',\n",
       " 'PopDenCatRp100_avg',\n",
       " 'PopDenCat_avg',\n",
       " 'PopDenWsRp100_avg',\n",
       " 'PopDenWs_avg',\n",
       " 'Precip08Cat',\n",
       " 'Precip08Ws',\n",
       " 'Precip09Cat',\n",
       " 'Precip09Ws',\n",
       " 'Precip8110Cat',\n",
       " 'Precip8110Ws',\n",
       " 'RckDepCat',\n",
       " 'RckDepWs',\n",
       " 'RdCrsCat',\n",
       " 'RdCrsSlpWtdCat',\n",
       " 'RdCrsSlpWtdWs',\n",
       " 'RdCrsWs',\n",
       " 'RdDensCat',\n",
       " 'RdDensCatRp100',\n",
       " 'RdDensWs',\n",
       " 'RdDensWsRp100',\n",
       " 'RunoffCat',\n",
       " 'RunoffWs',\n",
       " 'SCat',\n",
       " 'SN_Cat_avg',\n",
       " 'SN_Ws_avg',\n",
       " 'SWs',\n",
       " 'SandCat',\n",
       " 'SandWs',\n",
       " 'SiO2Cat',\n",
       " 'SiO2Ws',\n",
       " 'Slope',\n",
       " 'SuperfundDensCat',\n",
       " 'SuperfundDensCatRp100',\n",
       " 'SuperfundDensWs',\n",
       " 'SuperfundDensWsRp100',\n",
       " 'TRIDensCat',\n",
       " 'TRIDensCatRp100',\n",
       " 'TRIDensWs',\n",
       " 'TRIDensWsRp100',\n",
       " 'Tmax8110Cat',\n",
       " 'Tmax8110Ws',\n",
       " 'Tmean08Cat',\n",
       " 'Tmean08Ws',\n",
       " 'Tmean09Cat',\n",
       " 'Tmean09Ws',\n",
       " 'Tmean8110Cat',\n",
       " 'Tmean8110Ws',\n",
       " 'Tmin8110Cat',\n",
       " 'Tmin8110Ws',\n",
       " 'WA',\n",
       " 'WCHEM_v2_1',\n",
       " 'WCONN_v2_1',\n",
       " 'WHABT_v2_1',\n",
       " 'WHYD_v2_1',\n",
       " 'WSED_v2_1',\n",
       " 'WTEMP_v2_1',\n",
       " 'WetIndexCat',\n",
       " 'WetIndexWs',\n",
       " 'WtDepCat',\n",
       " 'WtDepWs',\n",
       " 'prG_BMMI']"
      ]
     },
     "execution_count": 6,
     "metadata": {},
     "output_type": "execute_result"
    }
   ],
   "source": [
    "data_obj.x_vars"
   ]
  },
  {
   "cell_type": "code",
   "execution_count": 7,
   "metadata": {},
   "outputs": [],
   "source": [
    "#data_dict=data_obj.retrievespeciesdata(species_idx=0)\n",
    "#data_dict=data_obj.retrievespeciesdata(species_name='catostomus insignis')"
   ]
  },
  {
   "cell_type": "code",
   "execution_count": 8,
   "metadata": {},
   "outputs": [
    {
     "name": "stdout",
     "output_type": "stream",
     "text": [
      "['presence', 'AgKffactCat', 'AgKffactWs', 'Al2O3Cat', 'Al2O3Ws', 'BFICat', 'BFIWs', 'CBNFCat', 'CBNFWs', 'CCHEM_v2_1', 'CCONN_v2_1', 'CHABT_v2_1', 'CHYD_v2_1', 'CSED_v2_1', 'CTEMP_v2_1', 'CaOCat', 'CaOWs', 'CanalDensCat', 'CanalDensWs', 'ClayCat', 'ClayWs', 'CoalMineDensCat', 'CoalMineDensWs', 'CompStrgthCat', 'CompStrgthWs', 'DamDensCat', 'DamDensWs', 'DamNIDStorCat', 'DamNIDStorWs', 'DamNrmStorCat', 'DamNrmStorWs', 'Elev', 'ElevCat', 'ElevWs', 'Fe2O3Cat', 'Fe2O3Ws', 'FertCat', 'FertWs', 'HUC12', 'HUDenCatRp100_avg', 'HUDenCat_avg', 'HUDenWsRp100_avg', 'HUDenWs_avg', 'HydrlCondCat', 'HydrlCondWs', 'ICI_v2_1', 'IWI_v2_1', 'InorgNWetDep_Cat_avg', 'InorgNWetDep_Ws_avg', 'K2OCat', 'K2OWs', 'KffactCat', 'KffactWs', 'Length', 'MAST__avg', 'MSST__avg', 'MWST__avg', 'ManureCat', 'ManureWs', 'MgOCat', 'MgOWs', 'MineDensCat', 'MineDensCatRp100', 'MineDensWs', 'MineDensWsRp100', 'NABD_DensCat', 'NABD_DensWs', 'NABD_NIDStorCat', 'NABD_NIDStorWs', 'NABD_NrmStorCat', 'NABD_NrmStorWs', 'NCat', 'NH4_Cat_avg', 'NH4_Ws_avg', 'NO3_Cat_avg', 'NO3_Ws_avg', 'NPDESDensCat', 'NPDESDensCatRp100', 'NPDESDensWs', 'NPDESDensWsRp100', 'NWs', 'Na2OCat', 'Na2OWs', 'OmCat', 'OmWs', 'P2O5Cat', 'P2O5Ws', 'PctAgSlp10Cat_avg', 'PctAgSlp10Ws_avg', 'PctAgSlp20Cat_avg', 'PctAgSlp20Ws_avg', 'PctAlkIntruVolCat', 'PctAlkIntruVolWs', 'PctAlluvCoastCat', 'PctAlluvCoastWs', 'PctBlCatRp100_avg', 'PctBlCat_avg', 'PctBlWsRp100_avg', 'PctBlWs_avg', 'PctCarbResidCat', 'PctCarbResidWs', 'PctCoastCrsCat', 'PctCoastCrsWs', 'PctColluvSedCat', 'PctColluvSedWs', 'PctConifCatRp100_avg', 'PctConifCat_avg', 'PctConifWsRp100_avg', 'PctConifWs_avg', 'PctCropCatRp100_avg', 'PctCropCat_avg', 'PctCropWsRp100_avg', 'PctCropWs_avg', 'PctDecidCatRp100_avg', 'PctDecidCat_avg', 'PctDecidWsRp100_avg', 'PctDecidWs_avg', 'PctEolCrsCat', 'PctEolCrsWs', 'PctEolFineCat', 'PctEolFineWs', 'PctExtruVolCat', 'PctExtruVolWs', 'PctFireCatRp100_avg', 'PctFireCat_avg', 'PctFireWsRp100_avg', 'PctFireWs_avg', 'PctFrstLossCatRp100_avg', 'PctFrstLossCat_avg', 'PctFrstLossWsRp100_avg', 'PctFrstLossWs_avg', 'PctGlacLakeCrsCat', 'PctGlacLakeCrsWs', 'PctGlacLakeFineCat', 'PctGlacLakeFineWs', 'PctGlacTilClayCat', 'PctGlacTilClayWs', 'PctGlacTilCrsCat', 'PctGlacTilCrsWs', 'PctGlacTilLoamCat', 'PctGlacTilLoamWs', 'PctGrsCatRp100_avg', 'PctGrsCat_avg', 'PctGrsWsRp100_avg', 'PctGrsWs_avg', 'PctHayCatRp100_avg', 'PctHayCat_avg', 'PctHayWsRp100_avg', 'PctHayWs_avg', 'PctHbWetCatRp100_avg', 'PctHbWetCat_avg', 'PctHbWetWsRp100_avg', 'PctHbWetWs_avg', 'PctHydricCat', 'PctHydricWs', 'PctIceCatRp100_avg', 'PctIceCat_avg', 'PctIceWsRp100_avg', 'PctIceWs_avg', 'PctImpCatRp100_avg', 'PctImpCat_avg', 'PctImpWsRp100_avg', 'PctImpWs_avg', 'PctMxFstCatRp100_avg', 'PctMxFstCat_avg', 'PctMxFstWsRp100_avg', 'PctMxFstWs_avg', 'PctNonAgIntrodManagVegCat', 'PctNonAgIntrodManagVegCatRp100', 'PctNonAgIntrodManagVegWs', 'PctNonAgIntrodManagVegWsRp100', 'PctNonCarbResidCat', 'PctNonCarbResidWs', 'PctOwCatRp100_avg', 'PctOwCat_avg', 'PctOwWsRp100_avg', 'PctOwWs_avg', 'PctSalLakeCat', 'PctSalLakeWs', 'PctShrbCatRp100_avg', 'PctShrbCat_avg', 'PctShrbWsRp100_avg', 'PctShrbWs_avg', 'PctSilicicCat', 'PctSilicicWs', 'PctUrbHiCatRp100_avg', 'PctUrbHiCat_avg', 'PctUrbHiWsRp100_avg', 'PctUrbHiWs_avg', 'PctUrbLoCatRp100_avg', 'PctUrbLoCat_avg', 'PctUrbLoWsRp100_avg', 'PctUrbLoWs_avg', 'PctUrbMdCatRp100_avg', 'PctUrbMdCat_avg', 'PctUrbMdWsRp100_avg', 'PctUrbMdWs_avg', 'PctUrbOpCatRp100_avg', 'PctUrbOpCat_avg', 'PctUrbOpWsRp100_avg', 'PctUrbOpWs_avg', 'PctWaterCat', 'PctWaterWs', 'PctWdWetCatRp100_avg', 'PctWdWetCat_avg', 'PctWdWetWsRp100_avg', 'PctWdWetWs_avg', 'PermCat', 'PermWs', 'Pestic97Cat', 'Pestic97Ws', 'PopDenCatRp100_avg', 'PopDenCat_avg', 'PopDenWsRp100_avg', 'PopDenWs_avg', 'Precip08Cat', 'Precip08Ws', 'Precip09Cat', 'Precip09Ws', 'Precip8110Cat', 'Precip8110Ws', 'RckDepCat', 'RckDepWs', 'RdCrsCat', 'RdCrsSlpWtdCat', 'RdCrsSlpWtdWs', 'RdCrsWs', 'RdDensCat', 'RdDensCatRp100', 'RdDensWs', 'RdDensWsRp100', 'RunoffCat', 'RunoffWs', 'SCat', 'SN_Cat_avg', 'SN_Ws_avg', 'SWs', 'SandCat', 'SandWs', 'SiO2Cat', 'SiO2Ws', 'Slope', 'SuperfundDensCat', 'SuperfundDensCatRp100', 'SuperfundDensWs', 'SuperfundDensWsRp100', 'TRIDensCat', 'TRIDensCatRp100', 'TRIDensWs', 'TRIDensWsRp100', 'Tmax8110Cat', 'Tmax8110Ws', 'Tmean08Cat', 'Tmean08Ws', 'Tmean09Cat', 'Tmean09Ws', 'Tmean8110Cat', 'Tmean8110Ws', 'Tmin8110Cat', 'Tmin8110Ws', 'WA', 'WCHEM_v2_1', 'WCONN_v2_1', 'WHABT_v2_1', 'WHYD_v2_1', 'WSED_v2_1', 'WTEMP_v2_1', 'WetIndexCat', 'WetIndexWs', 'WtDepCat', 'WtDepWs', 'prG_BMMI']\n"
     ]
    }
   ],
   "source": [
    "df=data_obj.df\n",
    "cols=df.columns\n",
    "print(list(cols))"
   ]
  },
  {
   "cell_type": "code",
   "execution_count": 9,
   "metadata": {},
   "outputs": [
    {
     "data": {
      "text/plain": [
       "Index(['20773710', '20414616', '20493453', '20435258', '20438416', '20493383',\n",
       "       '20437386', '21327929', '22441494', '21357181', '22428506', '3077713',\n",
       "       '20435284', '21323859', '3078075', '21274486', '21331049', '20495043',\n",
       "       '20435320', '22438418', '20451324', '21354987', '22440718', '20478484',\n",
       "       '21351925', '22440330', '21397197', '22440818', '22442058', '15932661',\n",
       "       '22437550', '21322721', '21324283', '21331223', '22428768', '20435378',\n",
       "       '20453946', '20454224', '20436506', '21357599', '22428340', '21389162',\n",
       "       '20495087', '20435246', '15932827', '15934865'],\n",
       "      dtype='object')"
      ]
     },
     "execution_count": 9,
     "metadata": {},
     "output_type": "execute_result"
    }
   ],
   "source": [
    "df.index"
   ]
  },
  {
   "cell_type": "markdown",
   "metadata": {},
   "source": [
    "cols=data_dict.columns\n",
    "col_convert={}\n",
    "for col in cols:\n",
    "    if data_dict[col].dtype=='object':\n",
    "        col_convert[col]='float64'\n",
    "data_dict2=data_dict.astype(col_convert)\n",
    "for col in cols:\n",
    "    if data_dict2[col].dtype=='object':\n",
    "        print(col)\n",
    "        "
   ]
  },
  {
   "cell_type": "code",
   "execution_count": 10,
   "metadata": {},
   "outputs": [
    {
     "data": {
      "text/plain": [
       "20773710    1.306001e+11\n",
       "20414616    1.507010e+11\n",
       "20493453    1.506010e+11\n",
       "20435258    1.506020e+11\n",
       "20438416    1.506020e+11\n",
       "20493383    1.506010e+11\n",
       "20437386    1.506020e+11\n",
       "21327929    1.504001e+11\n",
       "22441494    1.506010e+11\n",
       "21357181    1.504000e+11\n",
       "22428506    1.506011e+11\n",
       "3077713     1.504000e+11\n",
       "20435284    1.506020e+11\n",
       "21323859    1.504001e+11\n",
       "3078075     1.504000e+11\n",
       "21274486    1.505010e+11\n",
       "21331049    1.504001e+11\n",
       "20495043    1.506010e+11\n",
       "20435320    1.506020e+11\n",
       "22438418    1.506010e+11\n",
       "20451324    1.506020e+11\n",
       "21354987    1.504000e+11\n",
       "22440718    1.506010e+11\n",
       "20478484    1.506011e+11\n",
       "21351925    1.504000e+11\n",
       "22440330    1.506010e+11\n",
       "21397197    1.503020e+11\n",
       "22440818    1.506010e+11\n",
       "22442058    1.506010e+11\n",
       "15932661    1.505020e+11\n",
       "22437550    1.506010e+11\n",
       "21322721    1.504001e+11\n",
       "21324283    1.504001e+11\n",
       "21331223    1.504001e+11\n",
       "22428768    1.506011e+11\n",
       "20435378    1.506020e+11\n",
       "20453946    1.506020e+11\n",
       "20454224    1.506020e+11\n",
       "20436506    1.506020e+11\n",
       "21357599    1.504000e+11\n",
       "22428340    1.506011e+11\n",
       "21389162    1.503020e+11\n",
       "20495087    1.506010e+11\n",
       "20435246    1.506020e+11\n",
       "15932827    1.505020e+11\n",
       "15934865    1.505020e+11\n",
       "Name: HUC12, dtype: float64"
      ]
     },
     "execution_count": 10,
     "metadata": {},
     "output_type": "execute_result"
    }
   ],
   "source": [
    "df.loc[:,'HUC12']"
   ]
  },
  {
   "cell_type": "code",
   "execution_count": null,
   "metadata": {},
   "outputs": [],
   "source": []
  },
  {
   "cell_type": "code",
   "execution_count": 11,
   "metadata": {},
   "outputs": [
    {
     "ename": "AttributeError",
     "evalue": "'dataGenerator' object has no attribute 'gen_piscesdata01'",
     "output_type": "error",
     "traceback": [
      "\u001b[0;31m---------------------------------------------------------------------------\u001b[0m",
      "\u001b[0;31mAttributeError\u001b[0m                            Traceback (most recent call last)",
      "\u001b[0;32m<ipython-input-11-ac511ce3c0de>\u001b[0m in \u001b[0;36m<module>\u001b[0;34m\u001b[0m\n\u001b[0;32m----> 1\u001b[0;31m \u001b[0mdata_obj\u001b[0m\u001b[0;34m.\u001b[0m\u001b[0mgen_piscesdata01\u001b[0m\u001b[0;34m(\u001b[0m\u001b[0;34m)\u001b[0m\u001b[0;34m\u001b[0m\u001b[0;34m\u001b[0m\u001b[0m\n\u001b[0m",
      "\u001b[0;31mAttributeError\u001b[0m: 'dataGenerator' object has no attribute 'gen_piscesdata01'"
     ]
    }
   ],
   "source": [
    "data_obj.gen_piscesdata01()"
   ]
  },
  {
   "cell_type": "code",
   "execution_count": null,
   "metadata": {},
   "outputs": [],
   "source": [
    "data_obj.speciesdata"
   ]
  },
  {
   "cell_type": "code",
   "execution_count": null,
   "metadata": {},
   "outputs": [],
   "source": [
    "dataarray=np.array(data_obj.speciesdata)\n",
    "#depvar=\n",
    "np.mean(dataarray[:,0])"
   ]
  },
  {
   "cell_type": "code",
   "execution_count": null,
   "metadata": {},
   "outputs": [],
   "source": [
    "print(dataarray[1:40,:])"
   ]
  },
  {
   "cell_type": "code",
   "execution_count": null,
   "metadata": {},
   "outputs": [],
   "source": []
  }
 ],
 "metadata": {
  "kernelspec": {
   "display_name": "Python 3",
   "language": "python",
   "name": "python3"
  },
  "language_info": {
   "codemirror_mode": {
    "name": "ipython",
    "version": 3
   },
   "file_extension": ".py",
   "mimetype": "text/x-python",
   "name": "python",
   "nbconvert_exporter": "python",
   "pygments_lexer": "ipython3",
   "version": "3.8.2"
  }
 },
 "nbformat": 4,
 "nbformat_minor": 4
}
