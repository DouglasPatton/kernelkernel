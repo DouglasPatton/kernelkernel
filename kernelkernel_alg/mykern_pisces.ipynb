{
 "cells": [
  {
   "cell_type": "markdown",
   "metadata": {},
   "source": [
    "### kernel density estimation and kernel regression for prediction\n",
    "This notebook is my first attempt to write down the ddiff and dddiff models that I have been working on"
   ]
  },
  {
   "cell_type": "markdown",
   "metadata": {},
   "source": [
    "mixed recursive/iterative approach (rather than vectorized approach that is harder to generalize\n",
    "- create separate submodules for KDE and KDreg\n",
    "    - develop a system for storing differenced but unweighted data and the appropriate mask to lessen memory usage. \n",
    "        -1's or 0's depending on i/j/k/l/.... values\n",
    "    - figure out the deepest level requested by the user and levels that are less deep are just slices of the deeper model. \n",
    "        -scout out the tree to build the differenced dataset. \n",
    "          \n",
    "        \n",
    " plot and compare\n",
    "on synthetic data, 1, 2, 3+ mixed distributions\n",
    "1d - Ndiff vs gaussian kernel vs kernel_tunneling\n",
    "2d -  \n",
    "\n",
    "\n",
    "multidimensional x problem\n",
    "e.g., parameter treatment\n",
    "\"product kernel approach\" vs l2 \"el two\" (radial basis?)distance "
   ]
  },
  {
   "cell_type": "markdown",
   "metadata": {},
   "source": [
    "#### generate a simple linear dataset y=xb+e\n",
    "##### store validation data from same dataset too"
   ]
  },
  {
   "cell_type": "markdown",
   "metadata": {
    "pycharm": {
     "name": "#%% md\n"
    }
   },
   "source": [
    "### create modeldict\n",
    "- 'loss_function': \n",
    "  - 'mse'\n",
    "  - cross_mse\n",
    "  - cross_msei\n",
    "  - batch_crossval\n",
    "  - batchnorm_crossval\n",
    "- 'Ndiff_type': refers to the mathematical form of Ndiff\n",
    "  - 'product'-Ndiff1 multiplied by Ndiff2\n",
    "  - 'recursive'-Ndiff1's bw is Ndiff 2\n",
    "- max_bw_Ndiff: is the depth of Ndiffs applied in estimating the bandwidth.\n",
    "- 'normalize_Ndiffwtsum':\n",
    "  - 'across' means sum across own level of kernelized-Ndiffs and divide by that sum (CDF approach)\n",
    "  - 'own_n' means for (n+k)diff where n+K=max_bw_Ndiff\n",
    "- 'NWnorm\n",
    "  - 'across1' prior to 1/15 when mistake identified in summation dimension for NWnorm across\n",
    "  - 'across' correct implementation, where for each prediciton, the sum of the weights applied to the yout is normalized to 1.\n",
    "  - 'none'\n",
    "- Ndiff_bw_kern:\n",
    "  - rbfkern means use the radial basis function kernel\n",
    "  - 'product' means use product kernel like as in liu and yang eq1. \n",
    "- 'regression_model':\n",
    "  - 'NW' means use nadaraya-watson kernel regression\n",
    "  - 'NW-rbf' means use NW but calculate p(y,x) using rbf kernel rather than product kernel\n",
    "  - 'NW-rbf2' means NW-rbf plus euclidean distance logic (i.e. subtraction) for p(y,x)/p(y)\n",
    "  - 'full_logit' means local logit with all variables entering linearly\n",
    "  - 'rbf_logit' means local logit with 1 parameters: scaled l2 norm centered on zero \n",
    " (globally or by i?). Is this a new idea?\n",
    "- outer_x_bw_form: if x is separated into blocks of rvars that are combined within a block using rbf kernel, \n",
    "  - 'one_for_all' - use same hx bw for all blocks\n",
    "  - 'one_per_block' - each block or rvars gets an hx (not developed)\n",
    "- ykerngrid_form\n",
    "  - ('even',4),then create 'ykern_grid' evnely spaced values from -4 to 4 \n",
    "  - ('exp',4), then create'ykern_grid' exponentially spaced (more near zero) values from -4 to 4\n",
    "  - ('binary') a continuous spread of 'ykern_grid' values from 0 to 1, inclusive\n",
    "- ykern_grid\n",
    "  - 'no' means use original data points (self is masked when predicting self)\n",
    "  - an integer specifies the number of values to use in 'ykerngrid_form'\n",
    "- xkern_grid\n",
    "  - much like ykern_grid, but used less frequently since x's are typically pre-specified\n",
    "- product_kern_norm: when multiplying kernels across random variables, this parameter determines if each random variable has its kernels normalized before the product or not\n",
    "  - 'self' means each random variable has its kernels divided by the sum of kernels across the nout axis (the number of possibile values y is averaged over, whose probabilities sum to 1)\n",
    "  - 'own_n' means same as self, but divided by count of non-masked items in second to last, nout lenght dimension\n",
    "  - 'none' means no normalization prior to taking products across rvar kernels\n",
    "- hyper_param_form_dict is a nested dictionary\n",
    "  - Ndiff_exponent is the exponent wrapped around typically a sum of kernels for each Ndiff level \n",
    "after level 1 (i.e., (i-j) or centered, obvious/conventional level.)\n",
    "  - x_bandscale is the parameter specific to each variable (each x in X) used for prediction (y)\n",
    "  - Ndiff_depth_bw is used as the kernel's bandwidth (h) at each level of Ndiff including at level 1 \n",
    "  - outer_x_bw vanilla bandwidth for the rbf or product kernel\n",
    "  - outer_y_bw vanilla bandwidth for y"
   ]
  },
  {
   "cell_type": "code",
   "execution_count": 1,
   "metadata": {},
   "outputs": [],
   "source": [
    "import os\n",
    "import kernelcompare as kc\n",
    "#from importlib import reload\n",
    "networkdir='o:/public/dpatton/kernel'\n",
    "mydir=os.getcwd()\n",
    "#mydir2=os.path.join(mydir,\"old models without datagen\")\n",
    "test=kc.KernelCompare(directory=mydir)"
   ]
  },
  {
   "cell_type": "code",
   "execution_count": 2,
   "metadata": {},
   "outputs": [
    {
     "data": {
      "text/plain": [
       "{'source': 'pisces',\n",
       " 'batch_n': 8,\n",
       " 'batchcount': 8,\n",
       " 'sample_replace': 'no',\n",
       " 'species': 'all',\n",
       " 'missing': 'drop_row',\n",
       " 'floatselecttup': (3, 5, 6),\n",
       " 'spatialselecttup': (8,),\n",
       " 'param_count': 4}"
      ]
     },
     "execution_count": 2,
     "metadata": {},
     "output_type": "execute_result"
    }
   ],
   "source": [
    "pisces_datagen_dict=test.setdata('pisces')\n",
    "pisces_datagen_dict"
   ]
  },
  {
   "cell_type": "code",
   "execution_count": 3,
   "metadata": {},
   "outputs": [],
   "source": [
    "n=16\n",
    "ykerngrid_form_variations=('modeldict:ykerngrid_form',[('binary',)])\n",
    "lossfn_variations=('modeldict:loss_function',['batchnorm_crossval'])\n",
    "#lossfn_variations=('modeldict:loss_function',['batch_crossval'])\n",
    "#lossfn_variations=('modeldict:loss_function',['mse'])\n",
    "Ndiff_type_variations=('modeldict:Ndiff_type',['recursive'])\n",
    "#Ndiff_type_variations=('modeldict:Ndiff_type',['product'])\n",
    "max_bw_Ndiff_variations=('modeldict:max_bw_Ndiff',[2])\n",
    "NWnorm_variations=('modeldict:NWnorm',['none'])\n",
    "Ndiff_start_variations=('modeldict:Ndiff_start',[1])\n",
    "ykern_grid_variations=('modeldict:ykern_grid',[2])\n",
    "standardization_variations=('modeldict:std_data',[([],'float')])\n",
    "regression_model_variations=('modeldict:regression_model',['NW'])\n",
    "#product_kern_norm_variations=('modeldict:product_kern_norm',['self','own_n'])#include None too?\n",
    "#normalize_Ndiffwtsum_variations=('modeldict:normalize_Ndiffwtsum',['own_n','across'])\n",
    "product_kern_norm_variations=('modeldict:product_kern_norm',['none'])#include None too?\n",
    "normalize_Ndiffwtsum_variations=('modeldict:normalize_Ndiffwtsum',['none'])\n",
    "optdict_variation_list=[NWnorm_variations,\n",
    "                        ykerngrid_form_variations, \n",
    "                        lossfn_variations,\n",
    "                        regression_model_variations,\n",
    "                        Ndiff_type_variations,\n",
    "                        ykern_grid_variations,\n",
    "                        max_bw_Ndiff_variations,\n",
    "                        standardization_variations,\n",
    "                        Ndiff_start_variations\n",
    "                       ]  #,product_kern_norm_variations,normalize_Ndiffwtsum_variations]\n",
    "\n",
    "\n"
   ]
  },
  {
   "cell_type": "code",
   "execution_count": 4,
   "metadata": {},
   "outputs": [],
   "source": [
    "from pisces_data_huc12 import PiscesDataTool\n",
    "pdh12=PiscesDataTool()\n",
    "specieslist=pdh12.returnspecieslist()\n",
    "species_variations=('species',[specieslist[i] for i in range(2)])\n",
    "batch_n_variations=('batch_n',[n])\n",
    "batchcount_variations=('batchcount',[16])\n",
    "datagen_variation_list=[batch_n_variations,species_variations,batchcount_variations]\n"
   ]
  },
  {
   "cell_type": "code",
   "execution_count": 5,
   "metadata": {},
   "outputs": [
    {
     "name": "stdout",
     "output_type": "stream",
     "text": [
      "len(datagen_dict_list):2\n",
      "opening /home/dp/gits4/kernelkernel/data_tool/specieslistfiles with length:7 and type:<class 'tuple'>\n",
      "opening /home/dp/gits4/kernelkernel/data_tool/specieslistfiles with length:7 and type:<class 'tuple'>\n"
     ]
    },
    {
     "data": {
      "text/plain": [
       "\"print(f'len(testrun){len(testrun)}')\\nprint(f'testrun[0]{testrun[0:2]}')\\nprint('--------------')\\nprint(f'testrun[-1]{testrun[-4:]}')\""
      ]
     },
     "execution_count": 5,
     "metadata": {},
     "output_type": "execute_result"
    }
   ],
   "source": [
    "testrun=test.prep_model_list(optdict_variation_list=optdict_variation_list,datagen_variation_list=datagen_variation_list,datagen_dict=pisces_datagen_dict,verbose=0)\n",
    "'''print(f'len(testrun){len(testrun)}')\n",
    "print(f'testrun[0]{testrun[0:2]}')\n",
    "print('--------------')\n",
    "print(f'testrun[-1]{testrun[-4:]}')'''"
   ]
  },
  {
   "cell_type": "code",
   "execution_count": 6,
   "metadata": {
    "pycharm": {
     "is_executing": false,
     "name": "#%%\n"
    }
   },
   "outputs": [
    {
     "name": "stdout",
     "output_type": "stream",
     "text": [
      "~~~~~~~run number:0`~~~~~~~\n",
      "a_rundict{'optimizedict': {'opt_settings_dict': {'method': 'Nelder-Mead', 'options': {'xatol': 0.005, 'fatol': 0.001, 'adaptive': True, 'maxiter': 3}, 'mse_threshold': 1, 'help_start': 0, 'partial_match': 0, 'do_minimize': 1}, 'hyper_param_dict': {'Ndiff_exponent': array([-0.1, -0.1]), 'x_bandscale': array([1., 1., 1., 1.]), 'outer_x_bw': array([0.3]), 'outer_y_bw': array([0.3]), 'Ndiff_depth_bw': array([0.3, 0.3]), 'y_bandscale': array([1.])}, 'modeldict': {'binary_y': None, 'std_data': ([], 'float'), 'loss_function': 'batchnorm_crossval', 'Ndiff_type': 'recursive', 'param_count': 4, 'Ndiff_start': 1, 'max_bw_Ndiff': 2, 'normalize_Ndiffwtsum': 'own_n', 'NWnorm': 'none', 'xkern_grid': 'no', 'ykern_grid': 2, 'maxbatchbatchcount': 1, 'outer_kern': 'gaussian', 'Ndiff_bw_kern': 'rbfkern', 'outer_x_bw_form': 'one_for_all', 'regression_model': 'NW', 'product_kern_norm': 'self', 'hyper_param_form_dict': {'Ndiff_exponent': 'free', 'x_bandscale': 'non-neg', 'Ndiff_depth_bw': 'non-neg', 'outer_x_bw': 'non-neg', 'outer_y_bw': 'non-neg', 'y_bandscale': 'fixed'}, 'species': 'cyprinus carpio', 'spatialtransform': ('divide', 1), 'ykerngrid_form': ('binary',)}}, 'datagen_dict': {'source': 'pisces', 'batch_n': 16, 'batchcount': 16, 'sample_replace': 'no', 'species': 'cyprinus carpio', 'missing': 'drop_row', 'floatselecttup': (3, 5, 6), 'spatialselecttup': (8,), 'param_count': 4, 'species_n': 25313, 'xvarnamelist': ['Elev', 'IWI', 'Slope', 'HUC12(spatial)'], 'batchbatchcount': 99, 'fullbatchbatch_n': 25344, 'summary_stats': {'xmean': array([5.34650082e+02, 5.03570615e-01, 1.15686985e-02, 5.55091429e+10]), 'ymean': 0.11061509896100817, 'ystd': 0.3136549040631352, 'xstd': array([5.63224632e+02, 2.28213788e-01, 2.24012974e-02, 3.10238625e+10])}}}\n",
      "opening /home/dp/gits4/kernelkernel/data_tool/specieslistfiles with length:7 and type:<class 'tuple'>\n",
      "param_valdict:{'Ndiff_exponent': array([-0.1, -0.1]), 'x_bandscale': array([1., 1., 1., 1.]), 'outer_x_bw': array([0.3]), 'outer_y_bw': array([0.3]), 'Ndiff_depth_bw': array([0.3, 0.3]), 'y_bandscale': array([1.])}\n",
      "time between saves for None is 0:07:17\n",
      "saved to ./results/nodesave/gits4/kernelkernel/results/model_save_0 at about 20200408-195706 naivemse=0.1064300537109375 and mse=0.10834883278532317\n"
     ]
    },
    {
     "name": "stderr",
     "output_type": "stream",
     "text": [
      "/home/dp/gits4/kernelkernel/Ndiff_nomask.py:112: RuntimeWarning: divide by zero encountered in power\n",
      "  self.do_Ndiffbw_kern(Ndiff_bw_kern, masked_data,deeper_bw),normalize,depth,x_or_y),Ndiff_exp)\n"
     ]
    },
    {
     "name": "stdout",
     "output_type": "stream",
     "text": [
      "time between saves for None is 0:00:02\n",
      "saved to ./results/nodesave/gits4/kernelkernel/results/model_save_0 at about 20200408-195708 naivemse=0.1064300537109375 and mse=0.10834883278532317\n",
      "time between saves for None is 0:00:01\n",
      "saved to ./results/nodesave/gits4/kernelkernel/results/model_save_0 at about 20200408-195709 naivemse=0.1064300537109375 and mse=0.10839477884388318\n",
      "time between saves for None is 0:00:02\n",
      "saved to ./results/nodesave/gits4/kernelkernel/results/model_save_0 at about 20200408-195711 naivemse=0.1064300537109375 and mse=0.10977839840687714\n",
      "time between saves for None is 0:00:02\n",
      "saved to ./results/nodesave/gits4/kernelkernel/results/model_save_0 at about 20200408-195713 naivemse=0.1064300537109375 and mse=0.10977839840687714\n"
     ]
    },
    {
     "name": "stderr",
     "output_type": "stream",
     "text": [
      "/home/dp/gits4/kernelkernel/Ndiff_nomask.py:218: RuntimeWarning: invalid value encountered in true_divide\n",
      "  allkerns=allkerns/np.broadcast_to(np.expand_dims(allkerns_sum,1),allkerns.shape)\n"
     ]
    },
    {
     "name": "stdout",
     "output_type": "stream",
     "text": [
      "time between saves for None is 0:00:02\n",
      "saved to ./results/nodesave/gits4/kernelkernel/results/model_save_0 at about 20200408-195715 naivemse=0.1064300537109375 and mse=0.10979335756923406\n",
      "time between saves for None is 0:00:01\n",
      "saved to ./results/nodesave/gits4/kernelkernel/results/model_save_0 at about 20200408-195716 naivemse=0.1064300537109375 and mse=0.10980389242581626\n",
      "time between saves for None is 0:00:02\n",
      "saved to ./results/nodesave/gits4/kernelkernel/results/model_save_0 at about 20200408-195718 naivemse=0.1064300537109375 and mse=0.10980400396403467\n",
      "time between saves for None is 0:00:02\n",
      "saved to ./results/nodesave/gits4/kernelkernel/results/model_save_0 at about 20200408-195720 naivemse=0.1064300537109375 and mse=0.10980383450017164\n",
      "time between saves for None is 0:00:01\n",
      "saved to ./results/nodesave/gits4/kernelkernel/results/model_save_0 at about 20200408-195721 naivemse=0.1064300537109375 and mse=0.10831493654174301\n",
      "time between saves for None is 0:00:02\n",
      "saved to ./results/nodesave/gits4/kernelkernel/results/model_save_0 at about 20200408-195723 naivemse=0.1064300537109375 and mse=0.1081664438091055\n",
      "time between saves for None is 0:00:01\n",
      "saved to ./results/nodesave/gits4/kernelkernel/results/model_save_0 at about 20200408-195724 naivemse=0.1064300537109375 and mse=0.1081664438091055\n",
      "time between saves for None is 0:00:02\n",
      "saved to ./results/nodesave/gits4/kernelkernel/results/model_save_0 at about 20200408-195726 naivemse=0.1064300537109375 and mse=0.10822764980465763\n",
      "~~~~~~~run number:1`~~~~~~~\n",
      "a_rundict{'optimizedict': {'opt_settings_dict': {'method': 'Nelder-Mead', 'options': {'xatol': 0.005, 'fatol': 0.001, 'adaptive': True, 'maxiter': 3}, 'mse_threshold': 1, 'help_start': 0, 'partial_match': 0, 'do_minimize': 1}, 'hyper_param_dict': {'Ndiff_exponent': array([-0.1, -0.1]), 'x_bandscale': array([1., 1., 1., 1.]), 'outer_x_bw': array([0.3]), 'outer_y_bw': array([0.3]), 'Ndiff_depth_bw': array([0.3, 0.3]), 'y_bandscale': array([1.])}, 'modeldict': {'binary_y': None, 'std_data': ([], 'float'), 'loss_function': 'batchnorm_crossval', 'Ndiff_type': 'recursive', 'param_count': 4, 'Ndiff_start': 1, 'max_bw_Ndiff': 2, 'normalize_Ndiffwtsum': 'own_n', 'NWnorm': 'none', 'xkern_grid': 'no', 'ykern_grid': 2, 'maxbatchbatchcount': 1, 'outer_kern': 'gaussian', 'Ndiff_bw_kern': 'rbfkern', 'outer_x_bw_form': 'one_for_all', 'regression_model': 'NW', 'product_kern_norm': 'self', 'hyper_param_form_dict': {'Ndiff_exponent': 'free', 'x_bandscale': 'non-neg', 'Ndiff_depth_bw': 'non-neg', 'outer_x_bw': 'non-neg', 'outer_y_bw': 'non-neg', 'y_bandscale': 'fixed'}, 'species': 'ictalurus punctatus', 'spatialtransform': ('divide', 1), 'ykerngrid_form': ('binary',)}}, 'datagen_dict': {'source': 'pisces', 'batch_n': 16, 'batchcount': 16, 'sample_replace': 'no', 'species': 'ictalurus punctatus', 'missing': 'drop_row', 'floatselecttup': (3, 5, 6), 'spatialselecttup': (8,), 'param_count': 4, 'species_n': 22604, 'xvarnamelist': ['Elev', 'IWI', 'Slope', 'HUC12(spatial)'], 'batchbatchcount': 89, 'fullbatchbatch_n': 22784, 'summary_stats': {'xmean': array([4.75119307e+02, 4.99145585e-01, 1.10684846e-02, 5.64556821e+10]), 'ymean': 0.1028579012564148, 'ystd': 0.30377319402070424, 'xstd': array([4.69792537e+02, 2.28308113e-01, 2.24651840e-02, 3.06912584e+10])}}}\n",
      "opening /home/dp/gits4/kernelkernel/data_tool/specieslistfiles with length:7 and type:<class 'tuple'>\n",
      "param_valdict:{'Ndiff_exponent': array([-0.1, -0.1]), 'x_bandscale': array([1., 1., 1., 1.]), 'outer_x_bw': array([0.3]), 'outer_y_bw': array([0.3]), 'Ndiff_depth_bw': array([0.3, 0.3]), 'y_bandscale': array([1.])}\n",
      "saved to ./results/nodesave/gits4/kernelkernel/results/model_save_1 at about 20200408-195729 naivemse=0.10345458984375 and mse=0.10513933619429816\n",
      "time between saves for None is 0:00:02\n",
      "saved to ./results/nodesave/gits4/kernelkernel/results/model_save_1 at about 20200408-195731 naivemse=0.10345458984375 and mse=0.10500248242153978\n",
      "time between saves for None is 0:00:02\n",
      "saved to ./results/nodesave/gits4/kernelkernel/results/model_save_1 at about 20200408-195733 naivemse=0.10345458984375 and mse=0.1049270982943874\n",
      "time between saves for None is 0:00:01\n",
      "saved to ./results/nodesave/gits4/kernelkernel/results/model_save_1 at about 20200408-195734 naivemse=0.10345458984375 and mse=0.10489921140598725\n",
      "time between saves for None is 0:00:02\n",
      "saved to ./results/nodesave/gits4/kernelkernel/results/model_save_1 at about 20200408-195736 naivemse=0.10345458984375 and mse=0.10489362215991807\n",
      "time between saves for None is 0:00:02\n",
      "saved to ./results/nodesave/gits4/kernelkernel/results/model_save_1 at about 20200408-195738 naivemse=0.10345458984375 and mse=0.10489362215991807\n",
      "time between saves for None is 0:00:01\n",
      "saved to ./results/nodesave/gits4/kernelkernel/results/model_save_1 at about 20200408-195739 naivemse=0.10345458984375 and mse=0.10489359302245428\n",
      "time between saves for None is 0:00:02\n",
      "saved to ./results/nodesave/gits4/kernelkernel/results/model_save_1 at about 20200408-195741 naivemse=0.10345458984375 and mse=0.10489359302245428\n",
      "time between saves for None is 0:00:02\n",
      "saved to ./results/nodesave/gits4/kernelkernel/results/model_save_1 at about 20200408-195743 naivemse=0.10345458984375 and mse=0.10489407013395231\n",
      "time between saves for None is 0:00:02\n",
      "saved to ./results/nodesave/gits4/kernelkernel/results/model_save_1 at about 20200408-195745 naivemse=0.10345458984375 and mse=0.1048940701337002\n",
      "time between saves for None is 0:00:02\n",
      "saved to ./results/nodesave/gits4/kernelkernel/results/model_save_1 at about 20200408-195747 naivemse=0.10345458984375 and mse=0.10484318294251463\n",
      "time between saves for None is 0:00:01\n",
      "saved to ./results/nodesave/gits4/kernelkernel/results/model_save_1 at about 20200408-195748 naivemse=0.10345458984375 and mse=0.10484318294251463\n",
      "time between saves for None is 0:00:02\n",
      "saved to ./results/nodesave/gits4/kernelkernel/results/model_save_1 at about 20200408-195750 naivemse=0.10345458984375 and mse=0.1048771108607157\n",
      "~~~~~~~run number:2`~~~~~~~\n"
     ]
    },
    {
     "ename": "IndexError",
     "evalue": "list index out of range",
     "output_type": "error",
     "traceback": [
      "\u001b[0;31m---------------------------------------------------------------------------\u001b[0m",
      "\u001b[0;31mIndexError\u001b[0m                                Traceback (most recent call last)",
      "\u001b[0;32m<ipython-input-6-17d3ee7d295d>\u001b[0m in \u001b[0;36m<module>\u001b[0;34m\u001b[0m\n\u001b[1;32m     10\u001b[0m \u001b[0;32mfor\u001b[0m \u001b[0midx\u001b[0m \u001b[0;32min\u001b[0m \u001b[0mrange\u001b[0m\u001b[0;34m(\u001b[0m\u001b[0;36m3\u001b[0m\u001b[0;34m)\u001b[0m\u001b[0;34m:\u001b[0m\u001b[0;31m#len(testrun)):4\u001b[0m\u001b[0;34m\u001b[0m\u001b[0;34m\u001b[0m\u001b[0m\n\u001b[1;32m     11\u001b[0m     \u001b[0mprint\u001b[0m\u001b[0;34m(\u001b[0m\u001b[0;34mf'~~~~~~~run number:{idx}`~~~~~~~'\u001b[0m\u001b[0;34m)\u001b[0m\u001b[0;34m\u001b[0m\u001b[0;34m\u001b[0m\u001b[0m\n\u001b[0;32m---> 12\u001b[0;31m     \u001b[0ma_rundict\u001b[0m\u001b[0;34m=\u001b[0m\u001b[0mtestrun\u001b[0m\u001b[0;34m[\u001b[0m\u001b[0midx\u001b[0m\u001b[0;34m]\u001b[0m\u001b[0;34m\u001b[0m\u001b[0;34m\u001b[0m\u001b[0m\n\u001b[0m\u001b[1;32m     13\u001b[0m     \u001b[0mprint\u001b[0m\u001b[0;34m(\u001b[0m\u001b[0;34mf'a_rundict{a_rundict}'\u001b[0m\u001b[0;34m)\u001b[0m\u001b[0;34m\u001b[0m\u001b[0;34m\u001b[0m\u001b[0m\n\u001b[1;32m     14\u001b[0m     \u001b[0moptimizedict\u001b[0m\u001b[0;34m=\u001b[0m\u001b[0ma_rundict\u001b[0m\u001b[0;34m[\u001b[0m\u001b[0;34m'optimizedict'\u001b[0m\u001b[0;34m]\u001b[0m\u001b[0;34m\u001b[0m\u001b[0;34m\u001b[0m\u001b[0m\n",
      "\u001b[0;31mIndexError\u001b[0m: list index out of range"
     ]
    }
   ],
   "source": [
    "import traceback\n",
    "#from random import shuffle\n",
    "#shuffle(testrun)\n",
    "#testrun=testrun[-1::]\n",
    "#a_rundict=testrun[100]#this produced the Ndiff_exponent error for recursive Ndiff\n",
    "savedirpath=os.path.join(os.getcwd(),'results')\n",
    "if not os.path.exists(savedirpath):os.mkdir(savedirpath)\n",
    "savepath=os.path.join(savedirpath,'model_save_')\n",
    "jobpath=os.path.join(savedirpath,'job_')\n",
    "for idx in range(3):#len(testrun)):4\n",
    "    print(f'~~~~~~~run number:{idx}`~~~~~~~')\n",
    "    a_rundict=testrun[idx]\n",
    "    print(f'a_rundict{a_rundict}')\n",
    "    optimizedict=a_rundict['optimizedict']\n",
    "    datagen_dict=a_rundict['datagen_dict']\n",
    "    savepath_idx=savepath+str(idx)\n",
    "    jobpath_idx=jobpath+str(idx)\n",
    "    optimizedict['savepath']=savepath_idx\n",
    "    optimizedict['jobpath']=jobpath_idx\n",
    "    \n",
    "\n",
    "    try:\n",
    "        test.do_monte_opt(optimizedict,datagen_dict,force_start_params=1)\n",
    "        #test.open_condense_resave('model_save',verbose=0)\n",
    "        #test.merge_and_condense_saved_models(merge_directory=None,save_directory=None,condense=None,verbose=None)\n",
    "    except:\n",
    "        print('traceback for run',idx)\n",
    "        print(traceback.format_exc())\n"
   ]
  },
  {
   "cell_type": "code",
   "execution_count": null,
   "metadata": {},
   "outputs": [],
   "source": []
  }
 ],
 "metadata": {
  "kernelspec": {
   "display_name": "Python 3",
   "language": "python",
   "name": "python3"
  },
  "language_info": {
   "codemirror_mode": {
    "name": "ipython",
    "version": 3
   },
   "file_extension": ".py",
   "mimetype": "text/x-python",
   "name": "python",
   "nbconvert_exporter": "python",
   "pygments_lexer": "ipython3",
   "version": "3.7.6"
  },
  "pycharm": {
   "stem_cell": {
    "cell_type": "raw",
    "metadata": {
     "collapsed": false
    },
    "source": []
   }
  }
 },
 "nbformat": 4,
 "nbformat_minor": 4
}
