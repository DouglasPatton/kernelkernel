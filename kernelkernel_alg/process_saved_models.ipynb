{
 "cells": [
  {
   "cell_type": "code",
   "execution_count": 1,
   "metadata": {},
   "outputs": [
    {
     "name": "stdout",
     "output_type": "stream",
     "text": [
      "working\n",
      "here3\n"
     ]
    }
   ],
   "source": [
    "import os\n",
    "import kernelcompare as kc\n",
    "#from importlib import reload\n",
    "import os\n",
    "networkdir=os.path.join('o:','public','dpatton','kernel')\n",
    "'o:/public/dpatton/kernel'\n",
    "mydir=os.getcwd()\n",
    "mydir2=os.path.join(mydir,\"cluster_test\") \n",
    "\n",
    "test=kc.KernelCompare(directory=mydir2)"
   ]
  },
  {
   "cell_type": "code",
   "execution_count": null,
   "metadata": {},
   "outputs": [],
   "source": [
    "test.addspecies_name_and_resave(mydir2)"
   ]
  },
  {
   "cell_type": "code",
   "execution_count": 2,
   "metadata": {},
   "outputs": [],
   "source": [
    "delete_dict_tup=('modeldict:normalize_Ndiffwtsum','own_n')\n",
    "test.remove_model_fromsavedict('condensed_model_save',delete_dict_tup,overwrite=0,verbose=1)"
   ]
  },
  {
   "cell_type": "code",
   "execution_count": 3,
   "metadata": {},
   "outputs": [],
   "source": [
    "test.print_model_save(filename=os.path.join(networkdir,\"condensed_model_save-overwrite_dict\"))"
   ]
  },
  {
   "cell_type": "code",
   "execution_count": null,
   "metadata": {},
   "outputs": [],
   "source": [
    "std_data_tup=('modeldict:std_data','all')\n",
    "newdict_tup_list=[std_data_tup]\n",
    "test.add_dict('condensed_model_save',newdict_tup_list,verbose=1,overwrite=0)\n",
    "test.print_model_save(filename=os.path.join(mydir2,\"condensed_model_save-add_dict\"))"
   ]
  },
  {
   "cell_type": "code",
   "execution_count": null,
   "metadata": {},
   "outputs": [],
   "source": [
    "test.print_model_save(filename=os.path.join(mydir2,\"condensed_model_save-add_dict\"))"
   ]
  },
  {
   "cell_type": "code",
   "execution_count": null,
   "metadata": {},
   "outputs": [],
   "source": [
    "mse_overwrite_tup=('modeldict:NWnorm','across1')\n",
    "overwrite_condition_tup=('modeldict:NWnorm','across')\n",
    "\n",
    "test.overwrite_savedict('condensed_model_save',mse_overwrite_tup,verbose=1,overwrite=0,overwrite_condition=overwrite_condition_tup)\n",
    "test.print_model_save(filename=os.path.join(mydir2,\"condensed_model_save-overwrite_dict\"))\n",
    "\n"
   ]
  },
  {
   "cell_type": "code",
   "execution_count": null,
   "metadata": {},
   "outputs": [],
   "source": [
    "test.print_model_save(filename=os.path.join(mydir2,\"condensed_model_save\"))"
   ]
  },
  {
   "cell_type": "code",
   "execution_count": null,
   "metadata": {},
   "outputs": [],
   "source": [
    "NWkern_norm_overwrite_tup=('modeldict:NWnorm','none')\n",
    "lossfn_overwrite_tup=('modeldict:loss_function','mse')\n",
    "ykerngrid_form_overwrite_tup=('modeldict:ykerngrid_form',('even',3))\n",
    "test.overwrite_savedict('condensed_model_save',NWkern_norm_overwrite_tup,verbose=0,overwrite=1)\n",
    "test.overwrite_savedict('condensed_model_save',lossfn_overwrite_tup,verbose=0,overwrite=1)\n",
    "test.overwrite_savedict('condensed_model_save',ykerngrid_form_overwrite_tup,verbose=0,overwrite=1)\n",
    "test.print_model_save(filename=os.path.join(mydir2,\"condensed_model_save\"))"
   ]
  },
  {
   "cell_type": "code",
   "execution_count": null,
   "metadata": {},
   "outputs": [],
   "source": [
    "ykerngrid_form_overwrite_tup=('modeldict:ykerngrid_form',('even',3))\n",
    "test.overwrite_savedict('condensed_model_save',ykerngrid_form_overwrite_tup,verbose=0,overwrite=1)"
   ]
  },
  {
   "cell_type": "code",
   "execution_count": null,
   "metadata": {},
   "outputs": [],
   "source": [
    "product_kern_norm_overwrite_tup=('modeldict:product_kern_norm','across')\n",
    "datagen_dict_overwrite_tup=('datagen_dict:ftype','linear')\n",
    "\n",
    "test.overwrite_savedict('condensed_model_save',datagen_dict_overwrite_tup,verbose=1,overwrite=0,overwrite_condition='linear,quadratic')\n",
    "test.print_model_save(filename=os.path.join(mydir2,\"condensed_model_save-overwrite_dict\"))\n",
    "\n"
   ]
  },
  {
   "cell_type": "code",
   "execution_count": null,
   "metadata": {},
   "outputs": [],
   "source": []
  },
  {
   "cell_type": "code",
   "execution_count": null,
   "metadata": {},
   "outputs": [],
   "source": [
    "test.recursive_merge(mydir2,overwrite=0,verbose=0)"
   ]
  },
  {
   "cell_type": "code",
   "execution_count": null,
   "metadata": {
    "pycharm": {
     "is_executing": false,
     "name": "#%%\n"
    }
   },
   "outputs": [],
   "source": [
    "#test.open_condense_resave('model_save',verbose=0)\n",
    "test.merge_and_condense_saved_models(merge_directory=mydir2,save_directory=mydir,condense=1,verbose=1)\n"
   ]
  },
  {
   "cell_type": "code",
   "execution_count": null,
   "metadata": {},
   "outputs": [],
   "source": [
    "\n",
    "test.print_model_save(filename=os.path.join(mydir2,\"condensed_model_save\"))\n"
   ]
  },
  {
   "cell_type": "code",
   "execution_count": null,
   "metadata": {},
   "outputs": [],
   "source": [
    "test.open_condense_resave(os.path.join(mydir2,\"condensed_model_save\"),verbose=1)\n"
   ]
  },
  {
   "cell_type": "code",
   "execution_count": null,
   "metadata": {},
   "outputs": [],
   "source": [
    "\n",
    "#test.recursive_merge(networkdir,overwrite=0,verbose=1)\n",
    "\n"
   ]
  },
  {
   "cell_type": "code",
   "execution_count": null,
   "metadata": {},
   "outputs": [],
   "source": [
    "    "
   ]
  },
  {
   "cell_type": "code",
   "execution_count": null,
   "metadata": {},
   "outputs": [],
   "source": [
    "'''from os import getcwd\n",
    "thisdir=getcwd()\n",
    "test.merge_and_condense_saved_models(merge_directory=thisdir,save_directory=thisdir,condense=1,verbose=1)'''"
   ]
  }
 ],
 "metadata": {
  "kernelspec": {
   "display_name": "Python 3",
   "language": "python",
   "name": "python3"
  },
  "language_info": {
   "codemirror_mode": {
    "name": "ipython",
    "version": 3
   },
   "file_extension": ".py",
   "mimetype": "text/x-python",
   "name": "python",
   "nbconvert_exporter": "python",
   "pygments_lexer": "ipython3",
   "version": "3.7.6"
  },
  "pycharm": {
   "stem_cell": {
    "cell_type": "raw",
    "metadata": {
     "collapsed": false
    },
    "source": []
   }
  }
 },
 "nbformat": 4,
 "nbformat_minor": 4
}
