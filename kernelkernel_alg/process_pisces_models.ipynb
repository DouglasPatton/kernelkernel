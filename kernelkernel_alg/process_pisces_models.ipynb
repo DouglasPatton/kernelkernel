{
 "cells": [
  {
   "cell_type": "code",
   "execution_count": 1,
   "metadata": {},
   "outputs": [],
   "source": [
    "import kernelcompare as kc\n",
    "import os"
   ]
  },
  {
   "cell_type": "code",
   "execution_count": 2,
   "metadata": {},
   "outputs": [],
   "source": [
    "networkdir=os.path.join('o:','public','dpatton','kernel')\n",
    "'o:/public/dpatton/kernel'\n",
    "mydir2='c:/users/dpatton/gits/model collection 3-12_8am'\n",
    "mydir2='/home/dp/gits3/test'\n",
    "mydirpath=mydir2"
   ]
  },
  {
   "cell_type": "code",
   "execution_count": 3,
   "metadata": {},
   "outputs": [],
   "source": [
    "test=kc.KernelCompare(directory=mydir2)"
   ]
  },
  {
   "cell_type": "markdown",
   "metadata": {},
   "source": [
    "test.process_pisces_models(mydir2)"
   ]
  },
  {
   "cell_type": "code",
   "execution_count": 4,
   "metadata": {},
   "outputs": [],
   "source": [
    "shortlist=['modeldict:species:val',\n",
    "           'modeldict:Ndiff_type:val',\n",
    "           'datagen_dict:xvarnamelist:val',\n",
    "           'params:free_params:val',\n",
    "           'params:fixed_params:val',\n",
    "           'mse:val',\n",
    "           'naivemse:val',\n",
    "           'modeldict:normalize_Ndiffwtsum:val',\n",
    "           'modeldict:NWnorm:val',\n",
    "           'modeldict:product_kern_norm:val',\n",
    "           'modeldict:Nid'\n",
    "           'params:Ndiff_exponent:location_idx:val',\n",
    "           'params:x_bandscale:location_idx:val',\n",
    "           'params:Ndiff_depth_bw:location_idx:val',\n",
    "           'params:outer_x_bw:location_idx:val',\n",
    "           'params:outer_y_bw:location_idx:val',\n",
    "           'params:y_bandscale:location_idx:val',\n",
    "           'binary_y_result:val'\n",
    "           \n",
    "          ]\n",
    "#shortlist=[]"
   ]
  },
  {
   "cell_type": "code",
   "execution_count": 5,
   "metadata": {},
   "outputs": [
    {
     "name": "stderr",
     "output_type": "stream",
     "text": [
      "/home/dp/gits3/kernelkernel/kc_helpers.py:253: FutureWarning: Passing a negative integer is deprecated in version 1.0 and will not be supported in future version. Instead, use None to not limit the column width.\n",
      "  pd.set_option('display.max_colwidth', -1)\n",
      "/home/dp/gits3/kernelkernel/kc_helpers.py:253: FutureWarning: Passing a negative integer is deprecated in version 1.0 and will not be supported in future version. Instead, use None to not limit the column width.\n",
      "  pd.set_option('display.max_colwidth', -1)\n",
      "/home/dp/gits3/kernelkernel/kc_helpers.py:253: FutureWarning: Passing a negative integer is deprecated in version 1.0 and will not be supported in future version. Instead, use None to not limit the column width.\n",
      "  pd.set_option('display.max_colwidth', -1)\n",
      "/home/dp/gits3/kernelkernel/kc_helpers.py:253: FutureWarning: Passing a negative integer is deprecated in version 1.0 and will not be supported in future version. Instead, use None to not limit the column width.\n",
      "  pd.set_option('display.max_colwidth', -1)\n",
      "/home/dp/gits3/kernelkernel/kc_helpers.py:253: FutureWarning: Passing a negative integer is deprecated in version 1.0 and will not be supported in future version. Instead, use None to not limit the column width.\n",
      "  pd.set_option('display.max_colwidth', -1)\n",
      "/home/dp/gits3/kernelkernel/kc_helpers.py:253: FutureWarning: Passing a negative integer is deprecated in version 1.0 and will not be supported in future version. Instead, use None to not limit the column width.\n",
      "  pd.set_option('display.max_colwidth', -1)\n",
      "/home/dp/gits3/kernelkernel/kc_helpers.py:253: FutureWarning: Passing a negative integer is deprecated in version 1.0 and will not be supported in future version. Instead, use None to not limit the column width.\n",
      "  pd.set_option('display.max_colwidth', -1)\n",
      "/home/dp/gits3/kernelkernel/kc_helpers.py:253: FutureWarning: Passing a negative integer is deprecated in version 1.0 and will not be supported in future version. Instead, use None to not limit the column width.\n",
      "  pd.set_option('display.max_colwidth', -1)\n",
      "/home/dp/gits3/kernelkernel/kc_helpers.py:253: FutureWarning: Passing a negative integer is deprecated in version 1.0 and will not be supported in future version. Instead, use None to not limit the column width.\n",
      "  pd.set_option('display.max_colwidth', -1)\n",
      "/home/dp/gits3/kernelkernel/kc_helpers.py:253: FutureWarning: Passing a negative integer is deprecated in version 1.0 and will not be supported in future version. Instead, use None to not limit the column width.\n",
      "  pd.set_option('display.max_colwidth', -1)\n"
     ]
    }
   ],
   "source": [
    "test.print_pisces_all_species_model_merge_dict(shortlist=shortlist)"
   ]
  },
  {
   "cell_type": "code",
   "execution_count": null,
   "metadata": {},
   "outputs": [],
   "source": []
  }
 ],
 "metadata": {
  "kernelspec": {
   "display_name": "Python 3",
   "language": "python",
   "name": "python3"
  },
  "language_info": {
   "codemirror_mode": {
    "name": "ipython",
    "version": 3
   },
   "file_extension": ".py",
   "mimetype": "text/x-python",
   "name": "python",
   "nbconvert_exporter": "python",
   "pygments_lexer": "ipython3",
   "version": "3.7.6"
  }
 },
 "nbformat": 4,
 "nbformat_minor": 4
}
