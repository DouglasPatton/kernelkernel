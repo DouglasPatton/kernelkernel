{
 "cells": [
  {
   "cell_type": "code",
   "execution_count": 1,
   "metadata": {},
   "outputs": [],
   "source": [
    "from pi_db_tool import DBTool"
   ]
  },
  {
   "cell_type": "code",
   "execution_count": null,
   "metadata": {},
   "outputs": [],
   "source": []
  },
  {
   "cell_type": "code",
   "execution_count": 2,
   "metadata": {},
   "outputs": [],
   "source": [
    "dbt=DBTool()"
   ]
  },
  {
   "cell_type": "code",
   "execution_count": 3,
   "metadata": {},
   "outputs": [],
   "source": [
    "gen_db=dbt.genDBdict()"
   ]
  },
  {
   "cell_type": "code",
   "execution_count": 5,
   "metadata": {},
   "outputs": [
    {
     "name": "stdout",
     "output_type": "stream",
     "text": [
      "{'model_gen': {'kwargs': {'gridpoints': 5, 'inner_cv_splits': 5, 'inner_cv_reps': 3, 'random_state': 1}, 'scorer': 'f1_micro', 'name': 'linear-probability-model'}, 'data_gen': {'min_sample': 32, 'min_1count': 8, 'shuffle': False, 'source': 'Pisces', 'species': 'fundulus heteroclitus', 'data_split': {'test_share': 0, 'cv': {'n_splits': 5, 'n_repeats': 10, 'strategy': None, 'random_state': 1}}, 'drop_vars': [], 'loc_vars': ['HUC12', 'COMID']}}\n"
     ]
    }
   ],
   "source": [
    "for hash_id,rundict in gen_db.items():\n",
    "    print(rundict)\n",
    "    break"
   ]
  },
  {
   "cell_type": "code",
   "execution_count": null,
   "metadata": {},
   "outputs": [],
   "source": [
    "results_dict=dbt.resultsDBdict()"
   ]
  },
  {
   "cell_type": "code",
   "execution_count": null,
   "metadata": {},
   "outputs": [],
   "source": [
    "dict_keys=[]; other_keys=[];d_c=0;o_c=0\n",
    "for key,result in results_dict.items():\n",
    "    if type(result['model']) is dict:\n",
    "        dict_keys.append(key)\n",
    "        d_c+=1\n",
    "    else:\n",
    "        other_keys.append(key)\n",
    "        o_c+=1\n",
    "    print(f'cvs:{d_c}, others:{o_c}')"
   ]
  },
  {
   "cell_type": "code",
   "execution_count": null,
   "metadata": {},
   "outputs": [],
   "source": [
    "-"
   ]
  },
  {
   "cell_type": "code",
   "execution_count": null,
   "metadata": {},
   "outputs": [],
   "source": [
    "gen_dict=dbt.genDBdict()"
   ]
  },
  {
   "cell_type": "code",
   "execution_count": null,
   "metadata": {},
   "outputs": [],
   "source": [
    "print(len(results_dict))"
   ]
  },
  {
   "cell_type": "code",
   "execution_count": null,
   "metadata": {},
   "outputs": [],
   "source": [
    "print(len(gen_dict))"
   ]
  },
  {
   "cell_type": "code",
   "execution_count": null,
   "metadata": {},
   "outputs": [],
   "source": [
    "\"\"\"success=0\n",
    "fail=0\n",
    "for key in results_dict.keys():\n",
    "    \n",
    "    try:\n",
    "        r=results_dict[key]\n",
    "        success+=1\n",
    "    except:\n",
    "        fail+=1\n",
    "print('successes: ',success)\n",
    "print('failures: ',fail)\"\"\""
   ]
  },
  {
   "cell_type": "code",
   "execution_count": null,
   "metadata": {},
   "outputs": [],
   "source": [
    "with dbt.resultsDBdict() as db:\n",
    "    for key in db.keys():\n",
    "        if 'yhat' in list(db[key].keys()):\n",
    "            del db[key]\n",
    "            print(f'yhat in key:{key}')\n",
    "    db.commit()"
   ]
  },
  {
   "cell_type": "code",
   "execution_count": null,
   "metadata": {},
   "outputs": [],
   "source": [
    "with dbt.resultsDBdict() as db:\n",
    "    key_count=len(db)\n",
    "    for i,key in enumerate(db.keys()):\n",
    "        \n",
    "        result=db[key]\n",
    "        x_vars =result['model']['estimator'][0].x_vars\n",
    "        #x_vars=result['data_gen']['x_vars']\n",
    "        print(f'len(x_vars:){len(x_vars)} for {i+1}/{key_count}')\n",
    "        try: \n",
    "            x_vars.index('HUC12')\n",
    "            print(f'HUC12 in {key}')\n",
    "        except:\n",
    "            pass\n",
    "        "
   ]
  },
  {
   "cell_type": "code",
   "execution_count": null,
   "metadata": {},
   "outputs": [],
   "source": []
  }
 ],
 "metadata": {
  "kernelspec": {
   "display_name": "Python 3",
   "language": "python",
   "name": "python3"
  },
  "language_info": {
   "codemirror_mode": {
    "name": "ipython",
    "version": 3
   },
   "file_extension": ".py",
   "mimetype": "text/x-python",
   "name": "python",
   "nbconvert_exporter": "python",
   "pygments_lexer": "ipython3",
   "version": "3.8.2"
  }
 },
 "nbformat": 4,
 "nbformat_minor": 4
}
