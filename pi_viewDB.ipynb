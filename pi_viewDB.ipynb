{
 "cells": [
  {
   "cell_type": "code",
   "execution_count": null,
   "metadata": {},
   "outputs": [],
   "source": [
    "from pi_db_tool import DBTool"
   ]
  },
  {
   "cell_type": "code",
   "execution_count": null,
   "metadata": {},
   "outputs": [],
   "source": []
  },
  {
   "cell_type": "code",
   "execution_count": null,
   "metadata": {},
   "outputs": [],
   "source": [
    "dbt=DBTool()"
   ]
  },
  {
   "cell_type": "code",
   "execution_count": null,
   "metadata": {},
   "outputs": [],
   "source": [
    "results_dict=dbt.resultsDBdict()"
   ]
  },
  {
   "cell_type": "code",
   "execution_count": null,
   "metadata": {},
   "outputs": [],
   "source": [
    "dict_keys=[]; other_keys=[];d_c=0;o_c=0\n",
    "for key,result in results_dict.items():\n",
    "    if type(result['model']) is dict:\n",
    "        dict_keys.append(key)\n",
    "        d_c+=1\n",
    "    else:\n",
    "        other_keys.append(key)\n",
    "        o_c+=1\n",
    "    print(f'cvs:{d_c}, others:{o_c}')"
   ]
  },
  {
   "cell_type": "code",
   "execution_count": null,
   "metadata": {},
   "outputs": [],
   "source": [
    "-"
   ]
  },
  {
   "cell_type": "code",
   "execution_count": null,
   "metadata": {},
   "outputs": [],
   "source": [
    "gen_dict=dbt.genDBdict()"
   ]
  },
  {
   "cell_type": "code",
   "execution_count": null,
   "metadata": {},
   "outputs": [],
   "source": [
    "print(len(results_dict))"
   ]
  },
  {
   "cell_type": "code",
   "execution_count": null,
   "metadata": {},
   "outputs": [],
   "source": [
    "print(len(gen_dict))"
   ]
  },
  {
   "cell_type": "code",
   "execution_count": null,
   "metadata": {},
   "outputs": [],
   "source": [
    "\"\"\"success=0\n",
    "fail=0\n",
    "for key in results_dict.keys():\n",
    "    \n",
    "    try:\n",
    "        r=results_dict[key]\n",
    "        success+=1\n",
    "    except:\n",
    "        fail+=1\n",
    "print('successes: ',success)\n",
    "print('failures: ',fail)\"\"\""
   ]
  },
  {
   "cell_type": "code",
   "execution_count": null,
   "metadata": {},
   "outputs": [],
   "source": [
    "with dbt.resultsDBdict() as db:\n",
    "    for key in db.keys():\n",
    "        if 'yhat' in list(db[key].keys()):\n",
    "            del db[key]\n",
    "            print(f'yhat in key:{key}')\n",
    "    db.commit()"
   ]
  },
  {
   "cell_type": "code",
   "execution_count": null,
   "metadata": {},
   "outputs": [],
   "source": [
    "with dbt.resultsDBdict() as db:\n",
    "    key_count=len(db)\n",
    "    for i,key in enumerate(db.keys()):\n",
    "        \n",
    "        result=db[key]\n",
    "        x_vars =result['model']['estimator'][0].x_vars\n",
    "        #x_vars=result['data_gen']['x_vars']\n",
    "        print(f'len(x_vars:){len(x_vars)} for {i+1}/{key_count}')\n",
    "        try: \n",
    "            x_vars.index('HUC12')\n",
    "            print(f'HUC12 in {key}')\n",
    "        except:\n",
    "            pass\n",
    "        "
   ]
  },
  {
   "cell_type": "code",
   "execution_count": null,
   "metadata": {},
   "outputs": [],
   "source": []
  }
 ],
 "metadata": {
  "kernelspec": {
   "display_name": "Python 3",
   "language": "python",
   "name": "python3"
  },
  "language_info": {
   "codemirror_mode": {
    "name": "ipython",
    "version": 3
   },
   "file_extension": ".py",
   "mimetype": "text/x-python",
   "name": "python",
   "nbconvert_exporter": "python",
   "pygments_lexer": "ipython3",
   "version": "3.8.2"
  }
 },
 "nbformat": 4,
 "nbformat_minor": 4
}
