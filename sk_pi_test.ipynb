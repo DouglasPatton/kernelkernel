{
 "cells": [
  {
   "cell_type": "code",
   "execution_count": 1,
   "metadata": {},
   "outputs": [],
   "source": [
    "from sk_tool import SKToolInitializer as skti"
   ]
  },
  {
   "cell_type": "code",
   "execution_count": 2,
   "metadata": {},
   "outputs": [],
   "source": [
    "from pisces_params import PiSetup"
   ]
  },
  {
   "cell_type": "code",
   "execution_count": 3,
   "metadata": {},
   "outputs": [],
   "source": [
    "from qcluster import RunNode"
   ]
  },
  {
   "cell_type": "code",
   "execution_count": 4,
   "metadata": {},
   "outputs": [],
   "source": [
    "import pickle"
   ]
  },
  {
   "cell_type": "code",
   "execution_count": 5,
   "metadata": {},
   "outputs": [],
   "source": [
    "from sqlitedict import SqliteDict"
   ]
  },
  {
   "cell_type": "code",
   "execution_count": 6,
   "metadata": {},
   "outputs": [],
   "source": [
    "from datagen import dataGenerator"
   ]
  },
  {
   "cell_type": "code",
   "execution_count": 7,
   "metadata": {},
   "outputs": [],
   "source": [
    "#SqliteDict(filename='test.sqlite',tablename='test1')"
   ]
  },
  {
   "cell_type": "code",
   "execution_count": 8,
   "metadata": {},
   "outputs": [],
   "source": [
    "rn=RunNode(qdict=1,local_run=1)"
   ]
  },
  {
   "cell_type": "code",
   "execution_count": 9,
   "metadata": {},
   "outputs": [],
   "source": [
    "p=PiSetup()"
   ]
  },
  {
   "cell_type": "code",
   "execution_count": 10,
   "metadata": {},
   "outputs": [
    {
     "data": {
      "text/plain": [
       "{'min_sample': 32,\n",
       " 'min_1count': 8,\n",
       " 'shuffle': False,\n",
       " 'source': 'Pisces',\n",
       " 'species': 'all',\n",
       " 'data_split': {'test_share': 0,\n",
       "  'cv': {'n_splits': 5, 'n_repeats': 10, 'strategy': None, 'random_state': 1}},\n",
       " 'drop_vars': [],\n",
       " 'loc_vars': ['HUC12', 'COMID']}"
      ]
     },
     "execution_count": 10,
     "metadata": {},
     "output_type": "execute_result"
    }
   ],
   "source": [
    "p.datagen_dict_template"
   ]
  },
  {
   "cell_type": "code",
   "execution_count": 11,
   "metadata": {},
   "outputs": [],
   "source": [
    "runners,hash_id_list=p.setupRunners()"
   ]
  },
  {
   "cell_type": "code",
   "execution_count": 12,
   "metadata": {},
   "outputs": [],
   "source": [
    "runner=runners[0]"
   ]
  },
  {
   "cell_type": "code",
   "execution_count": 13,
   "metadata": {},
   "outputs": [
    {
     "data": {
      "text/plain": [
       "{'data_gen': {'min_sample': 32,\n",
       "  'min_1count': 8,\n",
       "  'shuffle': False,\n",
       "  'source': 'Pisces',\n",
       "  'species': 'cyprinus carpio',\n",
       "  'data_split': {'test_share': 0,\n",
       "   'cv': {'n_splits': 5,\n",
       "    'n_repeats': 10,\n",
       "    'strategy': None,\n",
       "    'random_state': 1}},\n",
       "  'drop_vars': [],\n",
       "  'loc_vars': ['HUC12', 'COMID']},\n",
       " 'model_gen_dict': {'1a988a2d1d3b998cda45e1c7ea7b481b': {'kwargs': {'gridpoints': 5,\n",
       "    'inner_cv_splits': 5,\n",
       "    'inner_cv_reps': 3,\n",
       "    'random_state': 1},\n",
       "   'scorer': 'f1_micro',\n",
       "   'name': 'linear-probability-model'},\n",
       "  'aaa95529bb5a2ec6cde00de8f6f5d4db': {'kwargs': {'gridpoints': 5,\n",
       "    'inner_cv_splits': 5,\n",
       "    'inner_cv_reps': 3,\n",
       "    'random_state': 1},\n",
       "   'scorer': 'f1_micro',\n",
       "   'name': 'logistic-reg'},\n",
       "  'aad416e1dc38e01023a5c796ba04c528': {'kwargs': {'gridpoints': 5,\n",
       "    'inner_cv_splits': 5,\n",
       "    'inner_cv_reps': 3,\n",
       "    'random_state': 1},\n",
       "   'scorer': 'f1_micro',\n",
       "   'name': 'linear-svc'},\n",
       "  '41e4bd20ae43f8d9315e1b8b004698f8': {'kwargs': {'gridpoints': 5,\n",
       "    'inner_cv_splits': 5,\n",
       "    'inner_cv_reps': 3,\n",
       "    'random_state': 1},\n",
       "   'scorer': 'f1_micro',\n",
       "   'name': 'rbf-svc'},\n",
       "  '2b991c36009d0644041c946fb2d002b1': {'kwargs': {'gridpoints': 5,\n",
       "    'inner_cv_splits': 5,\n",
       "    'inner_cv_reps': 3,\n",
       "    'random_state': 1},\n",
       "   'scorer': 'f1_micro',\n",
       "   'name': 'gradient-boosting-classifier'},\n",
       "  'd26fb64f014cee0711beace23b59d3ce': {'kwargs': {'gridpoints': 5,\n",
       "    'inner_cv_splits': 5,\n",
       "    'inner_cv_reps': 3,\n",
       "    'random_state': 1},\n",
       "   'scorer': 'f1_micro',\n",
       "   'name': 'hist-gradient-boosting-classifier'}}}"
      ]
     },
     "execution_count": 13,
     "metadata": {},
     "output_type": "execute_result"
    }
   ],
   "source": [
    "runner.rundict\n"
   ]
  },
  {
   "cell_type": "code",
   "execution_count": 14,
   "metadata": {},
   "outputs": [
    {
     "ename": "SyntaxError",
     "evalue": "invalid syntax (<ipython-input-14-60215a10e730>, line 1)",
     "output_type": "error",
     "traceback": [
      "\u001b[0;36m  File \u001b[0;32m\"<ipython-input-14-60215a10e730>\"\u001b[0;36m, line \u001b[0;32m1\u001b[0m\n\u001b[0;31m    -\u001b[0m\n\u001b[0m     ^\u001b[0m\n\u001b[0;31mSyntaxError\u001b[0m\u001b[0;31m:\u001b[0m invalid syntax\n"
     ]
    }
   ],
   "source": [
    "-"
   ]
  },
  {
   "cell_type": "code",
   "execution_count": 17,
   "metadata": {},
   "outputs": [],
   "source": [
    "data=dataGenerator(runner.rundict['data_gen'])"
   ]
  },
  {
   "cell_type": "code",
   "execution_count": null,
   "metadata": {},
   "outputs": [],
   "source": []
  },
  {
   "cell_type": "code",
   "execution_count": null,
   "metadata": {},
   "outputs": [],
   "source": []
  },
  {
   "cell_type": "code",
   "execution_count": null,
   "metadata": {},
   "outputs": [],
   "source": [
    "-"
   ]
  },
  {
   "cell_type": "code",
   "execution_count": null,
   "metadata": {},
   "outputs": [],
   "source": []
  },
  {
   "cell_type": "code",
   "execution_count": null,
   "metadata": {},
   "outputs": [],
   "source": [
    "data,hash_id_model_dict=rn.build_from_rundict(rundictlist[2])"
   ]
  },
  {
   "cell_type": "code",
   "execution_count": null,
   "metadata": {},
   "outputs": [],
   "source": [
    "data.X_train=data.X_train.iloc[:100,0:10]\n",
    "data.y_train=data.y_train.iloc[:100]"
   ]
  },
  {
   "cell_type": "code",
   "execution_count": null,
   "metadata": {},
   "outputs": [],
   "source": [
    "data.X_train"
   ]
  },
  {
   "cell_type": "code",
   "execution_count": null,
   "metadata": {},
   "outputs": [],
   "source": [
    "model_results=[]\n",
    "for hash_id,model_dict in list(hash_id_model_dict.items())[:1]:\n",
    "    model_results.append(model_dict['model'].run(data))\n",
    "    "
   ]
  },
  {
   "cell_type": "code",
   "execution_count": null,
   "metadata": {},
   "outputs": [],
   "source": []
  }
 ],
 "metadata": {
  "kernelspec": {
   "display_name": "Python 3",
   "language": "python",
   "name": "python3"
  },
  "language_info": {
   "codemirror_mode": {
    "name": "ipython",
    "version": 3
   },
   "file_extension": ".py",
   "mimetype": "text/x-python",
   "name": "python",
   "nbconvert_exporter": "python",
   "pygments_lexer": "ipython3",
   "version": "3.8.2"
  }
 },
 "nbformat": 4,
 "nbformat_minor": 4
}
