{
 "cells": [
  {
   "cell_type": "code",
   "execution_count": 1,
   "metadata": {},
   "outputs": [],
   "source": [
    "import numpy as np\n",
    "from sklearn.model_selection import RepeatedStratifiedKFold,StratifiedKFold"
   ]
  },
  {
   "cell_type": "code",
   "execution_count": 2,
   "metadata": {},
   "outputs": [],
   "source": [
    "class datatest:\n",
    "    def __init__(self):\n",
    "        self.max_maxbatchbatchcount=3\n",
    "    \n",
    "    def gendata(self, ydataarray,xdataarray,batch_n,batchcount,min_y=1):\n",
    "        # test data already removed\n",
    "        n=ydataarray.shape[0]; p=xdataarray.shape[1]\n",
    "        ycount=ydataarray.sum()\n",
    "        if ycount/n<0.5:\n",
    "            order=1 # if we're worried about not enough 1's\n",
    "        else:\n",
    "            order=-1\n",
    "            ycount=n-ycount # if we're worried about not enough 0's\n",
    "        splits=-(-n//batch_n)\n",
    "        if not min_y is None:\n",
    "            if min_y<1:\n",
    "                min_y=int(batch_n*min_y)\n",
    "            \n",
    "            if ycount<splits*min_y:\n",
    "                splits=-(-ycount//min_y)\n",
    "            if batchcount>splits:\n",
    "                batchcount=splits\n",
    "        print('splits',splits,'batchcount',batchcount)\n",
    "        batchbatchcount=self.max_maxbatchbatchcount\n",
    "        batchbatchlist=[[[] for b in range(batchcount)] for _ in range(batchbatchcount)]\n",
    "        RSKF=RepeatedStratifiedKFold(n_splits=splits , n_repeats=batchbatchcount)\n",
    "        i=0;j=0\n",
    "        for train_index,test_index in RSKF.split(xdataarray,ydataarray):\n",
    "\n",
    "            ydata_ij=ydataarray[test_index]\n",
    "            sortidx=np.argsort(ydata_ij)[::-order][:batch_n] # order is 1 if we're woried about including enough 1's \n",
    "            yselect=ydata_ij\n",
    "            batchbatchlist[i][j]=(ydata_ij[sortidx],xdataarray[test_index[sortidx],:])\n",
    "            j+=1\n",
    "            if j==batchcount:\n",
    "                i+=1;j=0\n",
    "                if i==batchbatchcount:\n",
    "                    break\n",
    "        batchsize=batch_n*batchcount\n",
    "        self.batchcount=batchcount\n",
    "        #self.expand_datagen_dict('batchcount',self.batchcount)\n",
    "        self.batchbatchcount=batchbatchcount\n",
    "        #self.expand_datagen_dict('batchbatchcount',self.batchbatchcount)\n",
    "        fullbatchbatch_n=batchbatchcount*batchsize\n",
    "        self.fullbatchbatch_n=fullbatchbatch_n\n",
    "        #self.expand_datagen_dict('fullbatchbatch_n',self.fullbatchbatch_n)\n",
    "        self.yx_tupbatchbatch=batchbatchlist"
   ]
  },
  {
   "cell_type": "code",
   "execution_count": 19,
   "metadata": {},
   "outputs": [],
   "source": [
    "class datatest:\n",
    "    def __init__(self):\n",
    "        self.max_maxbatchbatchcount=3\n",
    "        self.batchbatchcount=2\n",
    "    def gendata(self, ydataarray,xdataarray,batch_n,batchcount,min_y=1):\n",
    "        # test data already removed\n",
    "        batchbatchcount=self.batchbatchcount\n",
    "        n=ydataarray.shape[0]; p=xdataarray.shape[1]\n",
    "        onecount=int(ydataarray.sum())\n",
    "        zerocount=n-onecount\n",
    "        countlist=[zerocount,onecount]\n",
    "        if onecount<zerocount:\n",
    "            smaller=1\n",
    "        else:\n",
    "            smaller=0\n",
    "        \n",
    "        if not min_y is None:\n",
    "            if min_y<1:\n",
    "                min_y=int(batch_n*min_y)\n",
    "            batch01_n=[None,None]\n",
    "            batch01_n[smaller]=min_y\n",
    "            batch01_n[1-smaller]=batch_n-min_y\n",
    "            max_batchcount=countlist[smaller]//min_y\n",
    "            if max_batchcount<batchcount:\n",
    "                #self.logger.info(f'for {self.species} batchcount changed from {batchcount} to {max_batchcount}')\n",
    "                batchcount=max_batchcount\n",
    "            subsample_n=batchcount*batch_n\n",
    "            oneidx=np.arange(n)[ydataarray==1]\n",
    "            zeroidx=np.arange(n)[ydataarray==0]\n",
    "            bb_select_list=[]\n",
    "            for bb_idx in range(batchbatchcount):\n",
    "                ones=np.random.choice(oneidx,size=batch01_n[1]*batchcount,replace=False)\n",
    "                zeros=np.random.choice(zeroidx,size=batch01_n[0]*batchcount,replace=False)\n",
    "                bb_select_list.append(np.concatenate([ones,zeros],axis=0))\n",
    "        else:\n",
    "            max_batchcount=n//batch_n\n",
    "            if max_batchcount<batchcount:\n",
    "                #self.logger.info(f'for {self.species} batchcount changed from {batchcount} to {max_batchcount}')\n",
    "                batchcount=max_batchcount\n",
    "            subsample_n=batchcount*batch_n\n",
    "            for bb_idx in range(batchbatchcount):\n",
    "                bb_select_list.append(np.random.choice(np.arange(n),size=subsample_n))\n",
    "        batchbatchlist=[[None for b in range(batchcount)] for _ in range(batchbatchcount)]\n",
    "        SKF=StratifiedKFold(n_splits=batchcount, shuffle=False)\n",
    "        for bb_idx in range(batchbatchcount):\n",
    "            bb_x_subsample=xdataarray[bb_select_list[bb_idx]]\n",
    "            bb_y_subsample=ydataarray[bb_select_list[bb_idx]]\n",
    "            for j,(train_index,test_index) in enumerate(SKF.split(bb_x_subsample,bb_y_subsample)):\n",
    "                batchbatchlist[bb_idx][j]=(bb_y_subsample[test_index],bb_x_subsample[test_index,:])\n",
    "        batchsize=batch_n*batchcount\n",
    "                \n",
    "        self.batchcount=batchcount\n",
    "        #self.expand_datagen_dict('batchcount',self.batchcount)\n",
    "        self.batchbatchcount=batchbatchcount\n",
    "        #self.expand_datagen_dict('batchbatchcount',self.batchbatchcount)\n",
    "        fullbatchbatch_n=batchbatchcount*batchsize\n",
    "        self.fullbatchbatch_n=fullbatchbatch_n\n",
    "        #self.expand_datagen_dict('fullbatchbatch_n',self.fullbatchbatch_n)\n",
    "        self.yx_tupbatchbatch=batchbatchlist"
   ]
  },
  {
   "cell_type": "code",
   "execution_count": 20,
   "metadata": {},
   "outputs": [],
   "source": [
    "dt=datatest()"
   ]
  },
  {
   "cell_type": "code",
   "execution_count": 25,
   "metadata": {},
   "outputs": [
    {
     "ename": "ValueError",
     "evalue": "k-fold cross-validation requires at least one train/test split by setting n_splits=2 or more, got n_splits=0.",
     "output_type": "error",
     "traceback": [
      "\u001b[0;31m---------------------------------------------------------------------------\u001b[0m",
      "\u001b[0;31mValueError\u001b[0m                                Traceback (most recent call last)",
      "\u001b[0;32m<ipython-input-25-a00816e219d6>\u001b[0m in \u001b[0;36m<module>\u001b[0;34m\u001b[0m\n\u001b[1;32m      6\u001b[0m \u001b[0my\u001b[0m\u001b[0;34m=\u001b[0m\u001b[0mnp\u001b[0m\u001b[0;34m.\u001b[0m\u001b[0marray\u001b[0m\u001b[0;34m(\u001b[0m\u001b[0;34m[\u001b[0m\u001b[0;36m1\u001b[0m\u001b[0;34m]\u001b[0m\u001b[0;34m*\u001b[0m\u001b[0mones\u001b[0m\u001b[0;34m+\u001b[0m\u001b[0;34m[\u001b[0m\u001b[0;36m0\u001b[0m\u001b[0;34m]\u001b[0m\u001b[0;34m*\u001b[0m\u001b[0mzeros\u001b[0m\u001b[0;34m)\u001b[0m\u001b[0;34m\u001b[0m\u001b[0;34m\u001b[0m\u001b[0m\n\u001b[1;32m      7\u001b[0m \u001b[0mx\u001b[0m\u001b[0;34m=\u001b[0m\u001b[0mnp\u001b[0m\u001b[0;34m.\u001b[0m\u001b[0marange\u001b[0m\u001b[0;34m(\u001b[0m\u001b[0mn\u001b[0m\u001b[0;34m)\u001b[0m\u001b[0;34m[\u001b[0m\u001b[0;34m:\u001b[0m\u001b[0;34m,\u001b[0m\u001b[0;32mNone\u001b[0m\u001b[0;34m]\u001b[0m\u001b[0;34m\u001b[0m\u001b[0;34m\u001b[0m\u001b[0m\n\u001b[0;32m----> 8\u001b[0;31m \u001b[0mdt\u001b[0m\u001b[0;34m.\u001b[0m\u001b[0mgendata\u001b[0m\u001b[0;34m(\u001b[0m\u001b[0my\u001b[0m\u001b[0;34m,\u001b[0m\u001b[0mx\u001b[0m\u001b[0;34m,\u001b[0m\u001b[0mbatch_n\u001b[0m\u001b[0;34m,\u001b[0m\u001b[0mbatchcount\u001b[0m\u001b[0;34m,\u001b[0m\u001b[0mmin_y\u001b[0m\u001b[0;34m=\u001b[0m\u001b[0;36m0.5\u001b[0m\u001b[0;34m)\u001b[0m\u001b[0;34m\u001b[0m\u001b[0;34m\u001b[0m\u001b[0m\n\u001b[0m",
      "\u001b[0;32m<ipython-input-19-eb766690a69b>\u001b[0m in \u001b[0;36mgendata\u001b[0;34m(self, ydataarray, xdataarray, batch_n, batchcount, min_y)\u001b[0m\n\u001b[1;32m     42\u001b[0m                 \u001b[0mbb_select_list\u001b[0m\u001b[0;34m.\u001b[0m\u001b[0mappend\u001b[0m\u001b[0;34m(\u001b[0m\u001b[0mnp\u001b[0m\u001b[0;34m.\u001b[0m\u001b[0mrandom\u001b[0m\u001b[0;34m.\u001b[0m\u001b[0mchoice\u001b[0m\u001b[0;34m(\u001b[0m\u001b[0mnp\u001b[0m\u001b[0;34m.\u001b[0m\u001b[0marange\u001b[0m\u001b[0;34m(\u001b[0m\u001b[0mn\u001b[0m\u001b[0;34m)\u001b[0m\u001b[0;34m,\u001b[0m\u001b[0msize\u001b[0m\u001b[0;34m=\u001b[0m\u001b[0msubsample_n\u001b[0m\u001b[0;34m)\u001b[0m\u001b[0;34m)\u001b[0m\u001b[0;34m\u001b[0m\u001b[0;34m\u001b[0m\u001b[0m\n\u001b[1;32m     43\u001b[0m         \u001b[0mbatchbatchlist\u001b[0m\u001b[0;34m=\u001b[0m\u001b[0;34m[\u001b[0m\u001b[0;34m[\u001b[0m\u001b[0;32mNone\u001b[0m \u001b[0;32mfor\u001b[0m \u001b[0mb\u001b[0m \u001b[0;32min\u001b[0m \u001b[0mrange\u001b[0m\u001b[0;34m(\u001b[0m\u001b[0mbatchcount\u001b[0m\u001b[0;34m)\u001b[0m\u001b[0;34m]\u001b[0m \u001b[0;32mfor\u001b[0m \u001b[0m_\u001b[0m \u001b[0;32min\u001b[0m \u001b[0mrange\u001b[0m\u001b[0;34m(\u001b[0m\u001b[0mbatchbatchcount\u001b[0m\u001b[0;34m)\u001b[0m\u001b[0;34m]\u001b[0m\u001b[0;34m\u001b[0m\u001b[0;34m\u001b[0m\u001b[0m\n\u001b[0;32m---> 44\u001b[0;31m         \u001b[0mSKF\u001b[0m\u001b[0;34m=\u001b[0m\u001b[0mStratifiedKFold\u001b[0m\u001b[0;34m(\u001b[0m\u001b[0mn_splits\u001b[0m\u001b[0;34m=\u001b[0m\u001b[0mbatchcount\u001b[0m\u001b[0;34m,\u001b[0m \u001b[0mshuffle\u001b[0m\u001b[0;34m=\u001b[0m\u001b[0;32mFalse\u001b[0m\u001b[0;34m)\u001b[0m\u001b[0;34m\u001b[0m\u001b[0;34m\u001b[0m\u001b[0m\n\u001b[0m\u001b[1;32m     45\u001b[0m         \u001b[0;32mfor\u001b[0m \u001b[0mbb_idx\u001b[0m \u001b[0;32min\u001b[0m \u001b[0mrange\u001b[0m\u001b[0;34m(\u001b[0m\u001b[0mbatchbatchcount\u001b[0m\u001b[0;34m)\u001b[0m\u001b[0;34m:\u001b[0m\u001b[0;34m\u001b[0m\u001b[0;34m\u001b[0m\u001b[0m\n\u001b[1;32m     46\u001b[0m             \u001b[0mbb_x_subsample\u001b[0m\u001b[0;34m=\u001b[0m\u001b[0mxdataarray\u001b[0m\u001b[0;34m[\u001b[0m\u001b[0mbb_select_list\u001b[0m\u001b[0;34m[\u001b[0m\u001b[0mbb_idx\u001b[0m\u001b[0;34m]\u001b[0m\u001b[0;34m]\u001b[0m\u001b[0;34m\u001b[0m\u001b[0;34m\u001b[0m\u001b[0m\n",
      "\u001b[0;32m~/anaconda3/lib/python3.7/site-packages/sklearn/model_selection/_split.py\u001b[0m in \u001b[0;36m__init__\u001b[0;34m(self, n_splits, shuffle, random_state)\u001b[0m\n\u001b[1;32m    634\u001b[0m \u001b[0;34m\u001b[0m\u001b[0m\n\u001b[1;32m    635\u001b[0m     \u001b[0;32mdef\u001b[0m \u001b[0m__init__\u001b[0m\u001b[0;34m(\u001b[0m\u001b[0mself\u001b[0m\u001b[0;34m,\u001b[0m \u001b[0mn_splits\u001b[0m\u001b[0;34m=\u001b[0m\u001b[0;36m5\u001b[0m\u001b[0;34m,\u001b[0m \u001b[0mshuffle\u001b[0m\u001b[0;34m=\u001b[0m\u001b[0;32mFalse\u001b[0m\u001b[0;34m,\u001b[0m \u001b[0mrandom_state\u001b[0m\u001b[0;34m=\u001b[0m\u001b[0;32mNone\u001b[0m\u001b[0;34m)\u001b[0m\u001b[0;34m:\u001b[0m\u001b[0;34m\u001b[0m\u001b[0;34m\u001b[0m\u001b[0m\n\u001b[0;32m--> 636\u001b[0;31m         \u001b[0msuper\u001b[0m\u001b[0;34m(\u001b[0m\u001b[0;34m)\u001b[0m\u001b[0;34m.\u001b[0m\u001b[0m__init__\u001b[0m\u001b[0;34m(\u001b[0m\u001b[0mn_splits\u001b[0m\u001b[0;34m,\u001b[0m \u001b[0mshuffle\u001b[0m\u001b[0;34m,\u001b[0m \u001b[0mrandom_state\u001b[0m\u001b[0;34m)\u001b[0m\u001b[0;34m\u001b[0m\u001b[0;34m\u001b[0m\u001b[0m\n\u001b[0m\u001b[1;32m    637\u001b[0m \u001b[0;34m\u001b[0m\u001b[0m\n\u001b[1;32m    638\u001b[0m     \u001b[0;32mdef\u001b[0m \u001b[0m_make_test_folds\u001b[0m\u001b[0;34m(\u001b[0m\u001b[0mself\u001b[0m\u001b[0;34m,\u001b[0m \u001b[0mX\u001b[0m\u001b[0;34m,\u001b[0m \u001b[0my\u001b[0m\u001b[0;34m=\u001b[0m\u001b[0;32mNone\u001b[0m\u001b[0;34m)\u001b[0m\u001b[0;34m:\u001b[0m\u001b[0;34m\u001b[0m\u001b[0;34m\u001b[0m\u001b[0m\n",
      "\u001b[0;32m~/anaconda3/lib/python3.7/site-packages/sklearn/model_selection/_split.py\u001b[0m in \u001b[0;36m__init__\u001b[0;34m(self, n_splits, shuffle, random_state)\u001b[0m\n\u001b[1;32m    282\u001b[0m                 \u001b[0;34m\"k-fold cross-validation requires at least one\"\u001b[0m\u001b[0;34m\u001b[0m\u001b[0;34m\u001b[0m\u001b[0m\n\u001b[1;32m    283\u001b[0m                 \u001b[0;34m\" train/test split by setting n_splits=2 or more,\"\u001b[0m\u001b[0;34m\u001b[0m\u001b[0;34m\u001b[0m\u001b[0m\n\u001b[0;32m--> 284\u001b[0;31m                 \" got n_splits={0}.\".format(n_splits))\n\u001b[0m\u001b[1;32m    285\u001b[0m \u001b[0;34m\u001b[0m\u001b[0m\n\u001b[1;32m    286\u001b[0m         \u001b[0;32mif\u001b[0m \u001b[0;32mnot\u001b[0m \u001b[0misinstance\u001b[0m\u001b[0;34m(\u001b[0m\u001b[0mshuffle\u001b[0m\u001b[0;34m,\u001b[0m \u001b[0mbool\u001b[0m\u001b[0;34m)\u001b[0m\u001b[0;34m:\u001b[0m\u001b[0;34m\u001b[0m\u001b[0;34m\u001b[0m\u001b[0m\n",
      "\u001b[0;31mValueError\u001b[0m: k-fold cross-validation requires at least one train/test split by setting n_splits=2 or more, got n_splits=0."
     ]
    }
   ],
   "source": [
    "n=9000\n",
    "batch_n=100\n",
    "batchcount=4\n",
    "ones=19\n",
    "zeros=n-ones\n",
    "y=np.array([1]*ones+[0]*zeros)\n",
    "x=np.arange(n)[:,None]\n",
    "dt.gendata(y,x,batch_n,batchcount,min_y=0.5)"
   ]
  },
  {
   "cell_type": "code",
   "execution_count": 22,
   "metadata": {},
   "outputs": [],
   "source": [
    "#[sum(tup[0])/len(tup[0])  for blist in dt.yx_tupbatchbatch for tup in blist]"
   ]
  },
  {
   "cell_type": "code",
   "execution_count": 23,
   "metadata": {},
   "outputs": [
    {
     "data": {
      "text/plain": [
       "[[0.5, 0.5, 0.5], [0.5, 0.5, 0.5]]"
      ]
     },
     "execution_count": 23,
     "metadata": {},
     "output_type": "execute_result"
    }
   ],
   "source": [
    "[[sum(tup[0])/len(tup[0]) for tup in blist]  for blist in dt.yx_tupbatchbatch ]"
   ]
  },
  {
   "cell_type": "code",
   "execution_count": 24,
   "metadata": {},
   "outputs": [
    {
     "data": {
      "text/plain": [
       "[[(array([1, 1, 1, 1, 1, 0, 0, 0, 0, 0]),\n",
       "   array([[   9],\n",
       "          [   4],\n",
       "          [  11],\n",
       "          [  18],\n",
       "          [   3],\n",
       "          [7396],\n",
       "          [2792],\n",
       "          [5157],\n",
       "          [5239],\n",
       "          [2726]])),\n",
       "  (array([1, 1, 1, 1, 1, 0, 0, 0, 0, 0]),\n",
       "   array([[  12],\n",
       "          [   0],\n",
       "          [   5],\n",
       "          [  14],\n",
       "          [  10],\n",
       "          [1883],\n",
       "          [7163],\n",
       "          [7292],\n",
       "          [7694],\n",
       "          [1741]])),\n",
       "  (array([1, 1, 1, 1, 1, 0, 0, 0, 0, 0]),\n",
       "   array([[   7],\n",
       "          [  16],\n",
       "          [   2],\n",
       "          [   1],\n",
       "          [  17],\n",
       "          [2989],\n",
       "          [5955],\n",
       "          [1502],\n",
       "          [6901],\n",
       "          [4140]]))],\n",
       " [(array([1, 1, 1, 1, 1, 0, 0, 0, 0, 0]),\n",
       "   array([[   7],\n",
       "          [   9],\n",
       "          [  18],\n",
       "          [   6],\n",
       "          [   0],\n",
       "          [7211],\n",
       "          [  25],\n",
       "          [2656],\n",
       "          [4156],\n",
       "          [2580]])),\n",
       "  (array([1, 1, 1, 1, 1, 0, 0, 0, 0, 0]),\n",
       "   array([[  10],\n",
       "          [  16],\n",
       "          [  13],\n",
       "          [   4],\n",
       "          [  17],\n",
       "          [ 307],\n",
       "          [7446],\n",
       "          [ 276],\n",
       "          [4669],\n",
       "          [4781]])),\n",
       "  (array([1, 1, 1, 1, 1, 0, 0, 0, 0, 0]),\n",
       "   array([[   5],\n",
       "          [   3],\n",
       "          [   1],\n",
       "          [  12],\n",
       "          [   2],\n",
       "          [7085],\n",
       "          [7468],\n",
       "          [3637],\n",
       "          [3028],\n",
       "          [8898]]))]]"
      ]
     },
     "execution_count": 24,
     "metadata": {},
     "output_type": "execute_result"
    }
   ],
   "source": [
    "dt.yx_tupbatchbatch"
   ]
  },
  {
   "cell_type": "code",
   "execution_count": null,
   "metadata": {},
   "outputs": [],
   "source": []
  }
 ],
 "metadata": {
  "kernelspec": {
   "display_name": "Python 3",
   "language": "python",
   "name": "python3"
  },
  "language_info": {
   "codemirror_mode": {
    "name": "ipython",
    "version": 3
   },
   "file_extension": ".py",
   "mimetype": "text/x-python",
   "name": "python",
   "nbconvert_exporter": "python",
   "pygments_lexer": "ipython3",
   "version": "3.8.2"
  }
 },
 "nbformat": 4,
 "nbformat_minor": 4
}
