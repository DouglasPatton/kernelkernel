{
 "cells": [
  {
   "cell_type": "code",
   "execution_count": 1,
   "metadata": {},
   "outputs": [],
   "source": [
    "import os\n",
    "import logging, logging.handlers\n",
    "logdir=os.path.join(os.getcwd(),'log')\n",
    "if not os.path.exists(logdir): os.mkdir(logdir)\n",
    "handlername=os.path.join(logdir,__name__)\n",
    "logging.basicConfig(\n",
    "    handlers=[logging.handlers.RotatingFileHandler(handlername, maxBytes=10**7, backupCount=100)],\n",
    "    level=logging.DEBUG,\n",
    "    format=\"[%(asctime)s] %(levelname)s [%(name)s.%(funcName)s:%(lineno)d] %(message)s\",\n",
    "    datefmt='%Y-%m-%dT%H:%M:%S')\n",
    "logger=logging.getLogger(handlername)"
   ]
  },
  {
   "cell_type": "code",
   "execution_count": 2,
   "metadata": {},
   "outputs": [
    {
     "name": "stdout",
     "output_type": "stream",
     "text": [
      "/home/dp/gits2/kernelkernel/results\n"
     ]
    }
   ],
   "source": [
    "import os\n",
    "import kernelcompare as kc\n",
    "#from importlib import reload\n",
    "import os\n",
    "networkdir=os.path.join('o:','public','dpatton','kernel')\n",
    "'o:/public/dpatton/kernel'\n",
    "cwd=os.getcwd()\n",
    "#cwd='/home/dp/gits2/kernelkernel'\n",
    "resultsdir=os.path.join(cwd, 'results') \n",
    "print(resultsdir)\n",
    "test=kc.KernelCompare(directory=resultsdir)"
   ]
  },
  {
   "cell_type": "code",
   "execution_count": 3,
   "metadata": {},
   "outputs": [],
   "source": [
    "pathlist=test.recursive_build_model_save_pathlist(resultsdir)"
   ]
  },
  {
   "cell_type": "code",
   "execution_count": 4,
   "metadata": {},
   "outputs": [
    {
     "data": {
      "text/plain": [
       "289044"
      ]
     },
     "execution_count": 4,
     "metadata": {},
     "output_type": "execute_result"
    }
   ],
   "source": [
    "len(pathlist)"
   ]
  },
  {
   "cell_type": "code",
   "execution_count": 5,
   "metadata": {},
   "outputs": [
    {
     "data": {
      "text/plain": [
       "\"overwrite_tup=('opt_settings_dict:method','Nelder-Mead')\\n\\noptiondict_NM={\\n            'xatol':0.05,\\n            'fatol':.0001,\\n            'adaptive':False,\\n            'maxiter':100\\n            }\\noverwrite_tup2=('opt_settings_dict:options',optiondict_NM)\\noverwritetup_list=[overwrite_tup,overwrite_tup2]\""
      ]
     },
     "execution_count": 5,
     "metadata": {},
     "output_type": "execute_result"
    }
   ],
   "source": [
    "overwritetup_list=[\n",
    "    ('modeldict:hyper_param_form_dict:Ndiff_exponent','ball_-5_5'),\n",
    "    ('params:Ndiff_exponent:const','ball_-5_5')\n",
    "]\n",
    "'''overwrite_tup=('opt_settings_dict:method','Nelder-Mead')\n",
    "\n",
    "optiondict_NM={\n",
    "            'xatol':0.05,\n",
    "            'fatol':.0001,\n",
    "            'adaptive':False,\n",
    "            'maxiter':100\n",
    "            }\n",
    "overwrite_tup2=('opt_settings_dict:options',optiondict_NM)\n",
    "overwritetup_list=[overwrite_tup,overwrite_tup2]'''"
   ]
  },
  {
   "cell_type": "code",
   "execution_count": 6,
   "metadata": {},
   "outputs": [
    {
     "name": "stdout",
     "output_type": "stream",
     "text": [
      "0.0%, 3.5000000000000004%, 6.9%, 10.4%, 13.8%, 17.299999999999997%, 20.8%, 24.2%, 27.700000000000003%, 31.1%, 34.599999999999994%, 38.1%, 41.5%, 45.0%, 48.4%, 51.9%, 55.400000000000006%, 58.8%, 62.3%, 65.7%, 69.19999999999999%, 72.7%, 76.1%, 79.60000000000001%, 83.0%, 86.5%, 90.0%, 93.4%, 96.89999999999999%, "
     ]
    }
   ],
   "source": [
    "I=len(pathlist)\n",
    "for i,path in enumerate(pathlist):\n",
    "    try:\n",
    "        test.overwrite_savedict(path,overwritetup_list,verbose=0,overwrite=1)\n",
    "        \n",
    "        if not i%10000: print(f'{round((i+1)/I,3)*100}%',end=', ')\n",
    "    except:\n",
    "        test.logger.exception('')\n",
    "    "
   ]
  },
  {
   "cell_type": "code",
   "execution_count": null,
   "metadata": {},
   "outputs": [],
   "source": []
  }
 ],
 "metadata": {
  "kernelspec": {
   "display_name": "Python 3",
   "language": "python",
   "name": "python3"
  },
  "language_info": {
   "codemirror_mode": {
    "name": "ipython",
    "version": 3
   },
   "file_extension": ".py",
   "mimetype": "text/x-python",
   "name": "python",
   "nbconvert_exporter": "python",
   "pygments_lexer": "ipython3",
   "version": "3.7.6"
  }
 },
 "nbformat": 4,
 "nbformat_minor": 4
}
