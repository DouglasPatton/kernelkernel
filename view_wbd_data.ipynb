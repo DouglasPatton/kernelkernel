{
 "cells": [
  {
   "cell_type": "code",
   "execution_count": 1,
   "metadata": {},
   "outputs": [],
   "source": [
    "import matplotlib.pyplot as plt"
   ]
  },
  {
   "cell_type": "code",
   "execution_count": null,
   "metadata": {},
   "outputs": [],
   "source": [
    "import geopandas as gpd"
   ]
  },
  {
   "cell_type": "code",
   "execution_count": null,
   "metadata": {},
   "outputs": [],
   "source": [
    "#import pandas as pd"
   ]
  },
  {
   "cell_type": "code",
   "execution_count": 1,
   "metadata": {},
   "outputs": [],
   "source": [
    "import fiona"
   ]
  },
  {
   "cell_type": "code",
   "execution_count": 1,
   "metadata": {},
   "outputs": [],
   "source": [
    "from pi_map import Mapper"
   ]
  },
  {
   "cell_type": "code",
   "execution_count": 2,
   "metadata": {},
   "outputs": [],
   "source": [
    "mpr=Mapper()"
   ]
  },
  {
   "cell_type": "code",
   "execution_count": 3,
   "metadata": {},
   "outputs": [
    {
     "data": {
      "text/plain": [
       "'/home/dp/hdd/gits/kernelkernel/geo_data/NHDPlusV21/NHDPlusNationalData/NHDPlusV21_National_Seamless_Flattened_Lower48.gdb'"
      ]
     },
     "execution_count": 3,
     "metadata": {},
     "output_type": "execute_result"
    }
   ],
   "source": [
    "mpr.nhdPlusV21DataCheck()"
   ]
  },
  {
   "cell_type": "code",
   "execution_count": null,
   "metadata": {},
   "outputs": [],
   "source": []
  },
  {
   "cell_type": "code",
   "execution_count": 7,
   "metadata": {},
   "outputs": [],
   "source": [
    "from pi_data_predict import PiscesPredictDataTool"
   ]
  },
  {
   "cell_type": "code",
   "execution_count": 8,
   "metadata": {},
   "outputs": [
    {
     "name": "stdout",
     "output_type": "stream",
     "text": [
      "streamcat data directory: /home/dp/hdd/gits/kernelkernel/../../../hdd3/sc_data\n"
     ]
    }
   ],
   "source": [
    "ppdt=PiscesPredictDataTool()"
   ]
  },
  {
   "cell_type": "code",
   "execution_count": 9,
   "metadata": {},
   "outputs": [],
   "source": [
    "bigdfdict=ppdt.BuildBigSpeciesXPredictDF('percina kathae')#('umbra limi')#"
   ]
  },
  {
   "cell_type": "code",
   "execution_count": 10,
   "metadata": {},
   "outputs": [],
   "source": [
    "layerlist=fiona.listlayers(mpr.NHD_data_path)"
   ]
  },
  {
   "cell_type": "code",
   "execution_count": 11,
   "metadata": {},
   "outputs": [],
   "source": [
    "#gdf=gpd.read_file(mpr.NHD_data_path,layer='NHDFlowlineVAA')"
   ]
  },
  {
   "cell_type": "code",
   "execution_count": null,
   "metadata": {},
   "outputs": [
    {
     "name": "stdout",
     "output_type": "stream",
     "text": [
      "layer name: NHDPointEventFC\n",
      "  PERMANENT_IDENTIFIER            EVENTDATE       REACHCODE  \\\n",
      "0            151053812  2016-09-14T00:00:00  05030103000067   \n",
      "1            151053813  2016-09-09T00:00:00  05030101000073   \n",
      "2            151053814  2017-02-27T00:00:00  05030103000218   \n",
      "\n",
      "           REACHSMDATE  REACHRESOLUTION  \\\n",
      "0  2016-09-13T06:16:11                2   \n",
      "1  2016-09-08T07:49:16                2   \n",
      "2  2016-09-13T06:16:11                2   \n",
      "\n",
      "             FEATURE_PERMANENT_IDENTIFIER  FEATURECLASSREF  \\\n",
      "0                                    None              NaN   \n",
      "1                                    None              NaN   \n",
      "2  {807857A1-9F8B-4833-80C0-0D17F24B07C5}              NaN   \n",
      "\n",
      "                        SOURCE_ORIGINATOR  \\\n",
      "0  United States Geological Survey (USGS)   \n",
      "1  United States Geological Survey (USGS)   \n",
      "2  United States Geological Survey (USGS)   \n",
      "\n",
      "                            SOURCE_DATADESC SOURCE_FEATUREID  \\\n",
      "0  National Water Information System (NWIS)         03094500   \n",
      "1  National Water Information System (NWIS)         03085550   \n",
      "2  National Water Information System (NWIS)         03098700   \n",
      "\n",
      "                                    FEATUREDETAILURL   MEASURE  EVENTOFFSET  \\\n",
      "0  http://waterdata.usgs.gov/nwis/nwisman/?site_n...  60.35119          NaN   \n",
      "1  http://waterdata.usgs.gov/nwis/nwisman/?site_n...  78.34392          NaN   \n",
      "2  http://waterdata.usgs.gov/nwis/nwisman/?site_n...   2.01221          NaN   \n",
      "\n",
      "   EVENTTYPE                                GLOBALID  \\\n",
      "0      57003  {7FD424D3-4CAA-11E1-BCF4-0021280458E6}   \n",
      "1      57003  {7FD449EB-4CAA-11E1-BCF4-0021280458E6}   \n",
      "2      57001  {7FD46167-4CAA-11E1-BCF4-0021280458E6}   \n",
      "\n",
      "                     geometry  \n",
      "0  POINT (-80.82712 41.24365)  \n",
      "1  POINT (-80.08066 40.43970)  \n",
      "2  POINT (-80.63536 41.12231)  \n",
      "\n",
      "\n",
      "layer name: NHDLineEventFC\n",
      "Empty GeoDataFrame\n",
      "Columns: [PERMANENT_IDENTIFIER, EVENTDATE, REACHCODE, REACHSMDATE, REACHRESOLUTION, FEATURE_PERMANENT_IDENTIFIER, FEATURECLASSREF, SOURCE_ORIGINATOR, SOURCE_DATADESC, SOURCE_FEATUREID, FEATUREDETAILURL, FMEASURE, TMEASURE, EVENTTYPE, EVENTOFFSET, GLOBALID, SHAPE_Length, geometry]\n",
      "Index: []\n",
      "\n",
      "\n",
      "layer name: NHDAreaEventFC\n",
      "Empty GeoDataFrame\n",
      "Columns: [PERMANENT_IDENTIFIER, EVENTDATE, REACHCODE, REACHSMDATE, REACHRESOLUTION, FEATURE_PERMANENT_IDENTIFIER, FEATURECLASSREF, SOURCE_ORIGINATOR, SOURCE_DATADESC, SOURCE_FEATUREID, FEATUREDETAILURL, EVENTTYPE, GLOBALID, SHAPE_Length, SHAPE_Area, geometry]\n",
      "Index: []\n",
      "\n",
      "\n",
      "layer name: NHDFCODE\n",
      "FCODE                                                                  43625\n",
      "DESCRIPTION                Reservoir: Reservoir Type = Disposal; Construc...\n",
      "CANALDITCHTYPE                                                          None\n",
      "CONSTRUCTIONMATERIAL                                                 Earthen\n",
      "HYDROGRAPHICCATEGORY                                                    None\n",
      "INUNDATIONCONTROLSTATUS                                                 None\n",
      "OPERATIONALSTATUS                                                       None\n",
      "PIPELINETYPE                                                            None\n",
      "POSITIONALACCURACY                                                      None\n",
      "RELATIONSHIPTOSURFACE                                                   None\n",
      "RESERVOIRTYPE                                                       Disposal\n",
      "STAGE                                                                   None\n",
      "KCODE                                                       436,RET99,COM115\n",
      "geometry                                                                None\n",
      "Name: 0, dtype: object\n",
      "\n",
      "\n",
      "layer name: ExternalCrosswalk\n",
      "PERMANENT_IDENTIFIER             6f21edd2-4156-4bc2-ad97-80df5f31d8e9\n",
      "EXTERNALID                                                    5873759\n",
      "EXTERNALIDNAME                                                     ID\n",
      "EXTERNALIDORIGINATOR    Instituto Nacional de Estadistica y Geografia\n",
      "ORGANIZATIONTYPE                                                 None\n",
      "EXTERNALIDENTRYDATE                               2010-06-21T00:00:00\n",
      "GLOBALID                       {CBC87474-4CD2-11E1-BCF4-0021280458E6}\n",
      "geometry                                                         None\n",
      "Name: 0, dtype: object\n",
      "\n",
      "\n",
      "layer name: NHDFlow\n",
      "Empty GeoDataFrame\n",
      "Columns: [DELTALEVEL, DIRECTION, FROM_PERMANENT_IDENTIFIER, TO_PERMANENT_IDENTIFIER, geometry]\n",
      "Index: []\n",
      "\n",
      "\n",
      "layer name: NHDSourceCitation\n",
      "SOURCE_DATASETID                         {859CD6FB-2FF1-4F5D-E044-00144F233E68}\n",
      "TITLE                                                        NHD basic features\n",
      "SOURCECITATIONABBREVIATION                                   NHD basic features\n",
      "ORIGINATOR                                               U.S. Geological Survey\n",
      "PUBLICATIONDATE                                                            None\n",
      "BEGINNINGDATE                                                              None\n",
      "ENDINGDATE                                                                 None\n",
      "SOURCECONTRIBUTION            Spatial elements and attributes for all basic ...\n",
      "SOURCESCALEDENOMINATOR                                                   100000\n",
      "TYPEOFSOURCEMEDIA                                                        online\n",
      "CALENDARDATE                                                1995-01-01T00:00:00\n",
      "SOURCECURRENTNESSREFERENCE                    date when processing was complete\n",
      "META_PROCESSID                                                                7\n",
      "GLOBALID                                 {8383BCA0-4DBF-11E1-BCF4-0021280458E6}\n",
      "geometry                                                                   None\n",
      "Name: 0, dtype: object\n",
      "\n",
      "\n",
      "layer name: NHDMetadata\n",
      "META_PROCESSID                                                        1\n",
      "PROCESSDESCRIPTION                                        Overall N H D\n",
      "PROCESSDATE                                         2004-04-02T00:00:00\n",
      "ATTRIBUTEACCURACYREPORT                                            None\n",
      "LOGICALCONSISTENCYREPORT                                           None\n",
      "COMPLETENESSREPORT                                                 None\n",
      "HORIZPOSITIONALACCURACYREPORT                                      None\n",
      "VERTPOSITIONALACCURACYREPORT                                       None\n",
      "METADATASTANDARDNAME                                               None\n",
      "METADATASTANDARDVERSION                                            None\n",
      "METADATADATE                                                       None\n",
      "DATASETCREDIT                                                      None\n",
      "CONTACTORGANIZATION                                                None\n",
      "ADDRESSTYPE                                                        None\n",
      "ADDRESS                                                            None\n",
      "CITY                                                               None\n",
      "STATEORPROVINCE                                                    None\n",
      "POSTALCODE                                                         None\n",
      "CONTACTVOICETELEPHONE                                              None\n",
      "CONTACTINSTRUCTIONS                                                None\n",
      "CONTACTEMAILADDRESS                                                None\n",
      "GLOBALID                         {A00086EA-4D4D-11E1-BCF4-0021280458E6}\n",
      "geometry                                                           None\n",
      "Name: 0, dtype: object\n",
      "\n",
      "\n",
      "layer name: NHDPoint\n",
      "  PERMANENT_IDENTIFIER                FDATE  RESOLUTION GNIS_ID GNIS_NAME  \\\n",
      "0             93993194  2003-08-06T00:00:00           2    None      None   \n",
      "1             93993380  2003-08-06T00:00:00           2    None      None   \n",
      "2             93993404  2003-08-06T00:00:00           2    None      None   \n",
      "\n",
      "  REACHCODE  FTYPE  FCODE                                GLOBALID  \\\n",
      "0      None    367  36700  {E776AE2E-4CA8-11E1-BCF4-0021280458E6}   \n",
      "1      None    367  36700  {E776D122-4CA8-11E1-BCF4-0021280458E6}   \n",
      "2      None    367  36700  {E776E91A-4CA8-11E1-BCF4-0021280458E6}   \n",
      "\n",
      "                               geometry  \n",
      "0  POINT Z (-95.86908 31.88093 0.00000)  \n",
      "1  POINT Z (-95.88899 31.56946 0.00000)  \n",
      "2  POINT Z (-95.93249 31.93030 0.00000)  \n",
      "\n",
      "\n"
     ]
    }
   ],
   "source": [
    "for layer in layerlist:\n",
    "    try: \n",
    "        gdf=gpd.read_file(mpr.NHD_data_path,layer=layer)\n",
    "        print(f'layer name: {layer}')\n",
    "        try:\n",
    "            print(gdf.head(3))\n",
    "        except:\n",
    "            try:\n",
    "                print(gdf.iloc[0,:])\n",
    "            except:\n",
    "                try:\n",
    "                    print(gdf.columns)\n",
    "                except:\n",
    "                    print('cannot print')\n",
    "    except: print('could not read file')\n",
    "    print('\\n')"
   ]
  },
  {
   "cell_type": "code",
   "execution_count": null,
   "metadata": {},
   "outputs": [],
   "source": [
    "-"
   ]
  },
  {
   "cell_type": "code",
   "execution_count": null,
   "metadata": {},
   "outputs": [],
   "source": [
    "gdf.iloc[100000]"
   ]
  },
  {
   "cell_type": "code",
   "execution_count": null,
   "metadata": {},
   "outputs": [],
   "source": [
    "gdf.plot(figsize=[10,8])"
   ]
  },
  {
   "cell_type": "code",
   "execution_count": null,
   "metadata": {},
   "outputs": [],
   "source": [
    "type(gdf)"
   ]
  },
  {
   "cell_type": "code",
   "execution_count": null,
   "metadata": {},
   "outputs": [],
   "source": [
    "fiona.listlayers(mpr.boundary_data_path)"
   ]
  },
  {
   "cell_type": "code",
   "execution_count": null,
   "metadata": {},
   "outputs": [],
   "source": [
    "-"
   ]
  },
  {
   "cell_type": "code",
   "execution_count": null,
   "metadata": {},
   "outputs": [],
   "source": []
  },
  {
   "cell_type": "code",
   "execution_count": null,
   "metadata": {},
   "outputs": [],
   "source": [
    "err_geo_df=mpr.h12_boundary.merge(err_df,on='huc12')"
   ]
  },
  {
   "cell_type": "code",
   "execution_count": null,
   "metadata": {},
   "outputs": [],
   "source": [
    "\n",
    "from mpl_toolkits.axes_grid1 import make_axes_locatable\n",
    "fig=plt.figure(dpi=300,figsize=[10,8])\n",
    "ax=fig.add_subplot(1,1,1)\n",
    "\n",
    "\n",
    "divider = make_axes_locatable(ax)\n",
    "cax = divider.append_axes(\"right\", size=\"5%\", pad=0.1)\n",
    "\n",
    "err_geo_df.plot(column='err',ax=ax,cax=cax,legend=True,cmap='brg')#,legend_kwds={'orientation':'vertical'})"
   ]
  },
  {
   "cell_type": "code",
   "execution_count": null,
   "metadata": {},
   "outputs": [],
   "source": [
    "fig.savefig('error_map3.png',facecolor='w',orientation='landscape')"
   ]
  },
  {
   "cell_type": "code",
   "execution_count": null,
   "metadata": {},
   "outputs": [],
   "source": [
    "mpr.draw_huc12_truefalse()"
   ]
  },
  {
   "cell_type": "code",
   "execution_count": null,
   "metadata": {},
   "outputs": [],
   "source": [
    "mpr.getHuc12Boundary()"
   ]
  },
  {
   "cell_type": "code",
   "execution_count": null,
   "metadata": {},
   "outputs": [],
   "source": [
    "#fiona.listlayers(mpr.boundary_data_path)"
   ]
  },
  {
   "cell_type": "code",
   "execution_count": null,
   "metadata": {},
   "outputs": [],
   "source": [
    "#g_df=gpd.read_file(mpr.boundary_data_path,layer='WBDHU12')"
   ]
  },
  {
   "cell_type": "code",
   "execution_count": null,
   "metadata": {},
   "outputs": [],
   "source": [
    "fig=plt.figure(dpi=300,figsize=[10,14])\n",
    "ax=fig.add_subplot(1,1,1)\n",
    "mpr.h12_boundary.plot(ax=ax)"
   ]
  },
  {
   "cell_type": "code",
   "execution_count": null,
   "metadata": {},
   "outputs": [],
   "source": [
    "mpr.h12_boundary.loc[:,'huc12']"
   ]
  },
  {
   "cell_type": "code",
   "execution_count": null,
   "metadata": {},
   "outputs": [],
   "source": []
  }
 ],
 "metadata": {
  "kernelspec": {
   "display_name": "Python 3",
   "language": "python",
   "name": "python3"
  },
  "language_info": {
   "codemirror_mode": {
    "name": "ipython",
    "version": 3
   },
   "file_extension": ".py",
   "mimetype": "text/x-python",
   "name": "python",
   "nbconvert_exporter": "python",
   "pygments_lexer": "ipython3",
   "version": "3.8.2"
  }
 },
 "nbformat": 4,
 "nbformat_minor": 4
}
