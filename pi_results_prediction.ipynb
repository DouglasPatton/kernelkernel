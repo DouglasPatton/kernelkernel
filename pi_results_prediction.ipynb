{
 "cells": [
  {
   "cell_type": "code",
   "execution_count": 1,
   "metadata": {},
   "outputs": [
    {
     "data": {
      "text/plain": [
       "'/home/dp/hdd3/gits/kernelkernel'"
      ]
     },
     "execution_count": 1,
     "metadata": {},
     "output_type": "execute_result"
    }
   ],
   "source": [
    "import os;os.getcwd()"
   ]
  },
  {
   "cell_type": "code",
   "execution_count": 2,
   "metadata": {},
   "outputs": [],
   "source": [
    "from pi_results import PiResults"
   ]
  },
  {
   "cell_type": "code",
   "execution_count": 13,
   "metadata": {},
   "outputs": [],
   "source": [
    "from pi_db_tool import DBTool"
   ]
  },
  {
   "cell_type": "code",
   "execution_count": 3,
   "metadata": {},
   "outputs": [],
   "source": [
    "import numpy as np\n",
    "import pandas as pd"
   ]
  },
  {
   "cell_type": "code",
   "execution_count": 4,
   "metadata": {},
   "outputs": [],
   "source": [
    "pr=PiResults()\n"
   ]
  },
  {
   "cell_type": "code",
   "execution_count": null,
   "metadata": {},
   "outputs": [],
   "source": [
    "#using stack predictions isntead\n",
    "assert False,'old'\n",
    "agg_df=pr.build_aggregate_predictions_by_species(rebuild=1)\n"
   ]
  },
  {
   "cell_type": "code",
   "execution_count": null,
   "metadata": {},
   "outputs": [],
   "source": [
    "-"
   ]
  },
  {
   "cell_type": "code",
   "execution_count": 9,
   "metadata": {},
   "outputs": [],
   "source": [
    "dghashdict=pr.build_dghash_hash_id_dict(rebuild=0)\n"
   ]
  },
  {
   "cell_type": "code",
   "execution_count": 22,
   "metadata": {},
   "outputs": [
    {
     "data": {
      "text/plain": [
       "['747f14434d9a170ad8c5a850e2ae53ed',\n",
       " 'a35d9e22825ba288dbbfaf0e9ce4c074',\n",
       " '3a788c9c4175417579ada453debada62',\n",
       " '12eccb209937b5e63f089fd0077a3e68',\n",
       " 'b6ad0a7e5f93b28bb828bedc107cdab0',\n",
       " '898542500409678a12b9473100fd2577',\n",
       " 'b9b86c2415021cabede1638a9a95b86c',\n",
       " 'faed12df67e7f67176eec44063d1d1e6',\n",
       " '4cb5ea54deace858bd2936b6c503e641',\n",
       " '09250996aabd4bce72f5aa04fac4d277',\n",
       " 'a8ec4abad2eb7d38c33037aab52fb842',\n",
       " '8365a3093eb38b105e18196cc8833415',\n",
       " '862692f375007684eadf4621abcb9123',\n",
       " '9787e904b86b0fb0069897b7faa68c0c',\n",
       " '942a90118740b2ccd3e9fe09b029f5c2',\n",
       " '1ac3ce58fc2975991a0ef09844cd4dfd',\n",
       " 'dfb9415dc0af1490b42b9009b94202be',\n",
       " 'b58c96bf406bf9a1eb6c62ae1d7ea96b',\n",
       " '66da8a7bc2e218f688592f7d3db7c9f7',\n",
       " 'e6584d4be0b8a38ee67a75834c40c4d3']"
      ]
     },
     "execution_count": 22,
     "metadata": {},
     "output_type": "execute_result"
    }
   ],
   "source": [
    "dgkeys=list(dghashdict.keys())\n",
    "dgkeys[0:20]"
   ]
  },
  {
   "cell_type": "code",
   "execution_count": 12,
   "metadata": {},
   "outputs": [
    {
     "data": {
      "text/plain": [
       "['0c10aa83203ac30a971606f83f531278',\n",
       " 'db4061fd60f89746df00460272dc2624',\n",
       " '9ceb6292a34fa17263ecb5f71e4c6e6d',\n",
       " '76011ffa97c4b702c447d8185770e9b1',\n",
       " '21a364752fefd1e3e2de4b1571a3dadf',\n",
       " 'b0155eca43d46b66a4cf1f1af61b1d61']"
      ]
     },
     "execution_count": 12,
     "metadata": {},
     "output_type": "execute_result"
    }
   ],
   "source": [
    "dghashdict[dgkeys[0]]"
   ]
  },
  {
   "cell_type": "code",
   "execution_count": 14,
   "metadata": {},
   "outputs": [],
   "source": [
    "db=DBTool()"
   ]
  },
  {
   "cell_type": "code",
   "execution_count": 17,
   "metadata": {},
   "outputs": [],
   "source": [
    "gen_dict=db.genDBdict()"
   ]
  },
  {
   "cell_type": "code",
   "execution_count": 19,
   "metadata": {},
   "outputs": [
    {
     "name": "stdout",
     "output_type": "stream",
     "text": [
      "474 0 474\n"
     ]
    }
   ],
   "source": [
    "in_count=0;out_count=0\n",
    "for dghash in dgkeys:\n",
    "    if not dghash in gen_dict:\n",
    "        out_count+=1\n",
    "    else:\n",
    "        in_count+=1\n",
    "print(out_count,in_count,out_count+in_count)"
   ]
  },
  {
   "cell_type": "code",
   "execution_count": 21,
   "metadata": {},
   "outputs": [
    {
     "data": {
      "text/plain": [
       "['1a988a2d1d3b998cda45e1c7ea7b481b',\n",
       " 'aaa95529bb5a2ec6cde00de8f6f5d4db',\n",
       " 'aad416e1dc38e01023a5c796ba04c528',\n",
       " '41e4bd20ae43f8d9315e1b8b004698f8',\n",
       " '2b991c36009d0644041c946fb2d002b1',\n",
       " 'd26fb64f014cee0711beace23b59d3ce',\n",
       " '7af7901754ef0b81184132eb590a2f6c',\n",
       " '4864ec6afa4b4526245d60dbc774d556',\n",
       " '4f5c4a7b4eb3b0dec79212bd38b04f56',\n",
       " 'b817e6c84e53c0e8b5222a234fae2d6c',\n",
       " '16c5a1ced532dee6f702bf14b0b71fc6',\n",
       " '17fb5ca94b17d2710407710d113409b2',\n",
       " '69bf47b68f6de6d87af423bd07f04338',\n",
       " '9282cf339698715cfc420344e785414d',\n",
       " 'f5a59607b1bf67f6793889078a0b27be',\n",
       " '6c59915ce7be94e452aa280cfdf71b95',\n",
       " 'a542af8cffb29d579bedb8ff91e671a9',\n",
       " '88f595623de0ed261498374df002136c',\n",
       " 'baed8ab77141368e453cb31b12c687c1',\n",
       " 'd73b26db4469f68fb6ecb589106226f1']"
      ]
     },
     "execution_count": 21,
     "metadata": {},
     "output_type": "execute_result"
    }
   ],
   "source": [
    "list(gen_dict.keys())[0:20]"
   ]
  },
  {
   "cell_type": "code",
   "execution_count": null,
   "metadata": {},
   "outputs": [],
   "source": [
    "len(list(dghashdict.keys()))"
   ]
  },
  {
   "cell_type": "code",
   "execution_count": null,
   "metadata": {},
   "outputs": [],
   "source": [
    "-"
   ]
  },
  {
   "cell_type": "code",
   "execution_count": null,
   "metadata": {},
   "outputs": [],
   "source": [
    "#list(dghashdict.items())"
   ]
  },
  {
   "cell_type": "code",
   "execution_count": null,
   "metadata": {},
   "outputs": [],
   "source": [
    "agg_df.shape"
   ]
  },
  {
   "cell_type": "code",
   "execution_count": null,
   "metadata": {},
   "outputs": [],
   "source": [
    "#y=agg_df.loc[:,'y']"
   ]
  },
  {
   "cell_type": "code",
   "execution_count": null,
   "metadata": {},
   "outputs": [],
   "source": [
    "yhat=agg_df.drop('y_train',level='estimator').loc[:,agg_df.columns!='y']"
   ]
  },
  {
   "cell_type": "code",
   "execution_count": null,
   "metadata": {},
   "outputs": [],
   "source": [
    "y=agg_df.xs('y_train',level='estimator').loc[:,['y']]"
   ]
  },
  {
   "cell_type": "code",
   "execution_count": null,
   "metadata": {},
   "outputs": [],
   "source": [
    "y.memory_usage()"
   ]
  },
  {
   "cell_type": "code",
   "execution_count": null,
   "metadata": {},
   "outputs": [],
   "source": [
    "y_a,yhat_a= y.align(yhat,axis=0)"
   ]
  },
  {
   "cell_type": "code",
   "execution_count": null,
   "metadata": {},
   "outputs": [],
   "source": [
    "diff=-1*yhat_a.sub(y_a['y'],axis=0)\n"
   ]
  },
  {
   "cell_type": "code",
   "execution_count": null,
   "metadata": {},
   "outputs": [],
   "source": [
    "diff1huc12=diff.mean(axis=1).mean(level='HUC12')#.mean(level='estimator')#.mean(level='comid').mean(level='species')"
   ]
  },
  {
   "cell_type": "code",
   "execution_count": null,
   "metadata": {},
   "outputs": [],
   "source": [
    "diff1huc12"
   ]
  },
  {
   "cell_type": "code",
   "execution_count": null,
   "metadata": {},
   "outputs": [],
   "source": [
    "diff"
   ]
  },
  {
   "cell_type": "code",
   "execution_count": null,
   "metadata": {},
   "outputs": [],
   "source": [
    "print(y_a,yhat_a,diff)"
   ]
  },
  {
   "cell_type": "code",
   "execution_count": null,
   "metadata": {},
   "outputs": [],
   "source": [
    "'''yhat=agg_df.drop('y_train',level='estimator').loc[:,agg_df.columns!='y'].mean(axis=1)\n",
    "yhat_mean=pd.DataFrame(yhat,columns=['yhat'])\n",
    "yhat_mean'''"
   ]
  },
  {
   "cell_type": "code",
   "execution_count": null,
   "metadata": {},
   "outputs": [],
   "source": []
  },
  {
   "cell_type": "code",
   "execution_count": null,
   "metadata": {},
   "outputs": [],
   "source": []
  }
 ],
 "metadata": {
  "kernelspec": {
   "display_name": "Python 3",
   "language": "python",
   "name": "python3"
  },
  "language_info": {
   "codemirror_mode": {
    "name": "ipython",
    "version": 3
   },
   "file_extension": ".py",
   "mimetype": "text/x-python",
   "name": "python",
   "nbconvert_exporter": "python",
   "pygments_lexer": "ipython3",
   "version": "3.8.2"
  }
 },
 "nbformat": 4,
 "nbformat_minor": 4
}
