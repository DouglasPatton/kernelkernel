{
 "cells": [
  {
   "cell_type": "code",
   "execution_count": 1,
   "metadata": {},
   "outputs": [],
   "source": [
    "from sk_tool import SkTool,SkTool_post_fit"
   ]
  },
  {
   "cell_type": "code",
   "execution_count": 2,
   "metadata": {},
   "outputs": [],
   "source": [
    "\n",
    "from warnings import filterwarnings\n",
    "filterwarnings('ignore')"
   ]
  },
  {
   "cell_type": "code",
   "execution_count": 3,
   "metadata": {},
   "outputs": [],
   "source": [
    "from sklearn.pipeline import make_pipeline,Pipeline\n",
    "from sklearn.linear_model import ElasticNet, LinearRegression,LassoLarsCV,LogisticRegressionCV\n",
    "from sklearn.svm import LinearSVC, SVC\n",
    "from sklearn.preprocessing import StandardScaler,PolynomialFeatures\n",
    "from sklearn.model_selection import cross_validate, train_test_split, RepeatedStratifiedKFold, GridSearchCV\n",
    "from sklearn.metrics import mean_squared_error, mean_absolute_error, r2_score, f1_score, average_precision_score\n",
    "from sklearn.experimental import enable_hist_gradient_boosting\n",
    "from sklearn.ensemble import GradientBoostingClassifier,HistGradientBoostingClassifier\n",
    "from sklearn.datasets import make_regression\n",
    "from sklearn.compose import TransformedTargetRegressor\n",
    "from sk_transformers import none_T,shrinkBigKTransformer,logminus_T,exp_T,logminplus1_T,logp1_T,dropConst,binaryYTransformer\n",
    "from sk_missing_value_handler import missingValHandler\n",
    "#from sk_tool import SKToolInitializer\n",
    "import logging\n",
    "import numpy as np"
   ]
  },
  {
   "cell_type": "code",
   "execution_count": 4,
   "metadata": {},
   "outputs": [],
   "source": [
    "from sk_estimators import sk_estimator"
   ]
  },
  {
   "cell_type": "code",
   "execution_count": 5,
   "metadata": {},
   "outputs": [
    {
     "data": {
      "text/plain": [
       "\" X, y= make_regression(n_samples=300,n_features=5,n_informative=3,noise=3)\\ny=(y-np.mean(y))\\ny01=binaryYTransformer().fit(y).transform(y)\\nX_train, X_test, y_train, y_test = train_test_split(X, y01, test_size=0.2, random_state=0)\\n\\nsk_est=sk_estimator()\\nest_dict=sk_est.get_est_dict()\\nfor est_name,est_setup_dict in est_dict.items():\\n    est=est_setup_dict['estimator']()\\n    est.fit(X_train,y_train)\\n    s=est.score(X_train,y_train)\\n    s_out=est.score(X_test,y_test)\\n    print(f'for {est_name}')\\n    print(f'    fit r2 score: {s}')\\n    print(f'    test r2 score: {s_out}')\""
      ]
     },
     "execution_count": 5,
     "metadata": {},
     "output_type": "execute_result"
    }
   ],
   "source": [
    "\"\"\" X, y= make_regression(n_samples=300,n_features=5,n_informative=3,noise=3)\n",
    "y=(y-np.mean(y))\n",
    "y01=binaryYTransformer().fit(y).transform(y)\n",
    "X_train, X_test, y_train, y_test = train_test_split(X, y01, test_size=0.2, random_state=0)\n",
    "\n",
    "sk_est=sk_estimator()\n",
    "est_dict=sk_est.get_est_dict()\n",
    "for est_name,est_setup_dict in est_dict.items():\n",
    "    est=est_setup_dict['estimator']()\n",
    "    est.fit(X_train,y_train)\n",
    "    s=est.score(X_train,y_train)\n",
    "    s_out=est.score(X_test,y_test)\n",
    "    print(f'for {est_name}')\n",
    "    print(f'    fit r2 score: {s}')\n",
    "    print(f'    test r2 score: {s_out}')\"\"\""
   ]
  },
  {
   "cell_type": "code",
   "execution_count": null,
   "metadata": {},
   "outputs": [],
   "source": []
  },
  {
   "cell_type": "code",
   "execution_count": 6,
   "metadata": {},
   "outputs": [],
   "source": [
    "#from sk_tool import SKToolInitializer as skti"
   ]
  },
  {
   "cell_type": "code",
   "execution_count": 7,
   "metadata": {},
   "outputs": [],
   "source": [
    "from pisces_params import PiSetup"
   ]
  },
  {
   "cell_type": "code",
   "execution_count": 8,
   "metadata": {},
   "outputs": [],
   "source": [
    "from qcluster import RunNode"
   ]
  },
  {
   "cell_type": "code",
   "execution_count": 9,
   "metadata": {},
   "outputs": [],
   "source": [
    "import pickle"
   ]
  },
  {
   "cell_type": "code",
   "execution_count": 10,
   "metadata": {},
   "outputs": [],
   "source": [
    "from sqlitedict import SqliteDict"
   ]
  },
  {
   "cell_type": "code",
   "execution_count": 11,
   "metadata": {},
   "outputs": [
    {
     "data": {
      "text/plain": [
       "SqliteDict(test.sqlite)"
      ]
     },
     "execution_count": 11,
     "metadata": {},
     "output_type": "execute_result"
    }
   ],
   "source": [
    "SqliteDict(filename='test.sqlite',tablename='test1')"
   ]
  },
  {
   "cell_type": "code",
   "execution_count": 12,
   "metadata": {},
   "outputs": [],
   "source": [
    "rn=RunNode(qdict=1,local_run=1)"
   ]
  },
  {
   "cell_type": "code",
   "execution_count": 13,
   "metadata": {},
   "outputs": [],
   "source": [
    "p=PiSetup()"
   ]
  },
  {
   "cell_type": "code",
   "execution_count": 14,
   "metadata": {},
   "outputs": [],
   "source": [
    "rundictlist,_=p.setupRundictList()"
   ]
  },
  {
   "cell_type": "code",
   "execution_count": 15,
   "metadata": {},
   "outputs": [],
   "source": [
    "rundictlist1=rundictlist[:1]"
   ]
  },
  {
   "cell_type": "code",
   "execution_count": 16,
   "metadata": {},
   "outputs": [
    {
     "name": "stdout",
     "output_type": "stream",
     "text": [
      "opening /home/dp/gits/kernelkernel/data_tool/specieslistfiles with length:7 and type:<class 'tuple'>\n"
     ]
    }
   ],
   "source": [
    "data,hash_id_model_dict=rn.build_from_rundict(rundictlist[2])"
   ]
  },
  {
   "cell_type": "code",
   "execution_count": null,
   "metadata": {},
   "outputs": [],
   "source": []
  },
  {
   "cell_type": "code",
   "execution_count": 17,
   "metadata": {},
   "outputs": [],
   "source": [
    "data.X_train=data.X_train.iloc[:100,0:10]\n",
    "data.X_train.loc[:,'a']=['myvar1']*25+['myvar2']*75\n",
    "data.X_train.loc[:,'b']=['mybvar1']*25+['mybvar2']*73+['mybvar3']*2\n",
    "data.y_train=data.y_train.iloc[:100]"
   ]
  },
  {
   "cell_type": "code",
   "execution_count": 18,
   "metadata": {},
   "outputs": [
    {
     "data": {
      "text/html": [
       "<div>\n",
       "<style scoped>\n",
       "    .dataframe tbody tr th:only-of-type {\n",
       "        vertical-align: middle;\n",
       "    }\n",
       "\n",
       "    .dataframe tbody tr th {\n",
       "        vertical-align: top;\n",
       "    }\n",
       "\n",
       "    .dataframe thead th {\n",
       "        text-align: right;\n",
       "    }\n",
       "</style>\n",
       "<table border=\"1\" class=\"dataframe\">\n",
       "  <thead>\n",
       "    <tr style=\"text-align: right;\">\n",
       "      <th></th>\n",
       "      <th>AgKffactCat</th>\n",
       "      <th>AgKffactWs</th>\n",
       "      <th>Al2O3Cat</th>\n",
       "      <th>Al2O3Ws</th>\n",
       "      <th>BFICat</th>\n",
       "      <th>BFIWs</th>\n",
       "      <th>CBNFCat</th>\n",
       "      <th>CBNFWs</th>\n",
       "      <th>CCHEM_v2_1</th>\n",
       "      <th>CCONN_v2_1</th>\n",
       "      <th>a</th>\n",
       "      <th>b</th>\n",
       "    </tr>\n",
       "  </thead>\n",
       "  <tbody>\n",
       "    <tr>\n",
       "      <th>4490944</th>\n",
       "      <td>0.000072</td>\n",
       "      <td>0.011353</td>\n",
       "      <td>12.694061</td>\n",
       "      <td>12.277447</td>\n",
       "      <td>38.342488</td>\n",
       "      <td>39.031644</td>\n",
       "      <td>0.006701</td>\n",
       "      <td>0.968137</td>\n",
       "      <td>0.800321</td>\n",
       "      <td>0.913539</td>\n",
       "      <td>myvar1</td>\n",
       "      <td>mybvar1</td>\n",
       "    </tr>\n",
       "    <tr>\n",
       "      <th>19735241</th>\n",
       "      <td>0.000000</td>\n",
       "      <td>0.000000</td>\n",
       "      <td>13.280826</td>\n",
       "      <td>13.280826</td>\n",
       "      <td>67.000000</td>\n",
       "      <td>67.000000</td>\n",
       "      <td>0.000000</td>\n",
       "      <td>0.000000</td>\n",
       "      <td>0.893565</td>\n",
       "      <td>0.996413</td>\n",
       "      <td>myvar1</td>\n",
       "      <td>mybvar1</td>\n",
       "    </tr>\n",
       "    <tr>\n",
       "      <th>4452826</th>\n",
       "      <td>0.013522</td>\n",
       "      <td>0.103969</td>\n",
       "      <td>11.810888</td>\n",
       "      <td>10.379832</td>\n",
       "      <td>26.000000</td>\n",
       "      <td>22.047044</td>\n",
       "      <td>0.180742</td>\n",
       "      <td>1.515126</td>\n",
       "      <td>0.787885</td>\n",
       "      <td>0.980018</td>\n",
       "      <td>myvar1</td>\n",
       "      <td>mybvar1</td>\n",
       "    </tr>\n",
       "    <tr>\n",
       "      <th>616438</th>\n",
       "      <td>0.000000</td>\n",
       "      <td>0.000000</td>\n",
       "      <td>9.629485</td>\n",
       "      <td>9.629485</td>\n",
       "      <td>19.877528</td>\n",
       "      <td>19.877528</td>\n",
       "      <td>0.000000</td>\n",
       "      <td>0.000000</td>\n",
       "      <td>0.941746</td>\n",
       "      <td>0.981225</td>\n",
       "      <td>myvar1</td>\n",
       "      <td>mybvar1</td>\n",
       "    </tr>\n",
       "    <tr>\n",
       "      <th>4672359</th>\n",
       "      <td>0.010893</td>\n",
       "      <td>0.010893</td>\n",
       "      <td>7.873075</td>\n",
       "      <td>7.873075</td>\n",
       "      <td>43.117687</td>\n",
       "      <td>43.117687</td>\n",
       "      <td>0.599508</td>\n",
       "      <td>0.599508</td>\n",
       "      <td>0.807517</td>\n",
       "      <td>0.971714</td>\n",
       "      <td>myvar1</td>\n",
       "      <td>mybvar1</td>\n",
       "    </tr>\n",
       "    <tr>\n",
       "      <th>...</th>\n",
       "      <td>...</td>\n",
       "      <td>...</td>\n",
       "      <td>...</td>\n",
       "      <td>...</td>\n",
       "      <td>...</td>\n",
       "      <td>...</td>\n",
       "      <td>...</td>\n",
       "      <td>...</td>\n",
       "      <td>...</td>\n",
       "      <td>...</td>\n",
       "      <td>...</td>\n",
       "      <td>...</td>\n",
       "    </tr>\n",
       "    <tr>\n",
       "      <th>4198340</th>\n",
       "      <td>0.000000</td>\n",
       "      <td>0.000000</td>\n",
       "      <td>9.433824</td>\n",
       "      <td>8.862323</td>\n",
       "      <td>37.000000</td>\n",
       "      <td>37.000000</td>\n",
       "      <td>0.000000</td>\n",
       "      <td>0.000000</td>\n",
       "      <td>0.897612</td>\n",
       "      <td>0.987515</td>\n",
       "      <td>myvar2</td>\n",
       "      <td>mybvar2</td>\n",
       "    </tr>\n",
       "    <tr>\n",
       "      <th>13635023</th>\n",
       "      <td>0.173027</td>\n",
       "      <td>0.173027</td>\n",
       "      <td>3.600458</td>\n",
       "      <td>3.600458</td>\n",
       "      <td>67.134615</td>\n",
       "      <td>67.134615</td>\n",
       "      <td>17.432091</td>\n",
       "      <td>17.432091</td>\n",
       "      <td>0.514576</td>\n",
       "      <td>0.948488</td>\n",
       "      <td>myvar2</td>\n",
       "      <td>mybvar2</td>\n",
       "    </tr>\n",
       "    <tr>\n",
       "      <th>371131</th>\n",
       "      <td>0.042781</td>\n",
       "      <td>0.102768</td>\n",
       "      <td>17.240000</td>\n",
       "      <td>9.451739</td>\n",
       "      <td>8.858616</td>\n",
       "      <td>27.580326</td>\n",
       "      <td>1.483218</td>\n",
       "      <td>3.716469</td>\n",
       "      <td>0.549848</td>\n",
       "      <td>0.897559</td>\n",
       "      <td>myvar2</td>\n",
       "      <td>mybvar2</td>\n",
       "    </tr>\n",
       "    <tr>\n",
       "      <th>8117347</th>\n",
       "      <td>0.140877</td>\n",
       "      <td>0.123525</td>\n",
       "      <td>8.587879</td>\n",
       "      <td>7.292865</td>\n",
       "      <td>43.203008</td>\n",
       "      <td>42.554643</td>\n",
       "      <td>6.109235</td>\n",
       "      <td>5.517169</td>\n",
       "      <td>0.620770</td>\n",
       "      <td>0.945399</td>\n",
       "      <td>myvar2</td>\n",
       "      <td>mybvar3</td>\n",
       "    </tr>\n",
       "    <tr>\n",
       "      <th>10221188</th>\n",
       "      <td>0.023719</td>\n",
       "      <td>0.092802</td>\n",
       "      <td>10.505326</td>\n",
       "      <td>8.456074</td>\n",
       "      <td>40.231250</td>\n",
       "      <td>40.678244</td>\n",
       "      <td>0.934375</td>\n",
       "      <td>4.809426</td>\n",
       "      <td>0.820049</td>\n",
       "      <td>0.984524</td>\n",
       "      <td>myvar2</td>\n",
       "      <td>mybvar3</td>\n",
       "    </tr>\n",
       "  </tbody>\n",
       "</table>\n",
       "<p>100 rows × 12 columns</p>\n",
       "</div>"
      ],
      "text/plain": [
       "          AgKffactCat  AgKffactWs   Al2O3Cat    Al2O3Ws     BFICat      BFIWs  \\\n",
       "4490944      0.000072    0.011353  12.694061  12.277447  38.342488  39.031644   \n",
       "19735241     0.000000    0.000000  13.280826  13.280826  67.000000  67.000000   \n",
       "4452826      0.013522    0.103969  11.810888  10.379832  26.000000  22.047044   \n",
       "616438       0.000000    0.000000   9.629485   9.629485  19.877528  19.877528   \n",
       "4672359      0.010893    0.010893   7.873075   7.873075  43.117687  43.117687   \n",
       "...               ...         ...        ...        ...        ...        ...   \n",
       "4198340      0.000000    0.000000   9.433824   8.862323  37.000000  37.000000   \n",
       "13635023     0.173027    0.173027   3.600458   3.600458  67.134615  67.134615   \n",
       "371131       0.042781    0.102768  17.240000   9.451739   8.858616  27.580326   \n",
       "8117347      0.140877    0.123525   8.587879   7.292865  43.203008  42.554643   \n",
       "10221188     0.023719    0.092802  10.505326   8.456074  40.231250  40.678244   \n",
       "\n",
       "            CBNFCat     CBNFWs  CCHEM_v2_1  CCONN_v2_1       a        b  \n",
       "4490944    0.006701   0.968137    0.800321    0.913539  myvar1  mybvar1  \n",
       "19735241   0.000000   0.000000    0.893565    0.996413  myvar1  mybvar1  \n",
       "4452826    0.180742   1.515126    0.787885    0.980018  myvar1  mybvar1  \n",
       "616438     0.000000   0.000000    0.941746    0.981225  myvar1  mybvar1  \n",
       "4672359    0.599508   0.599508    0.807517    0.971714  myvar1  mybvar1  \n",
       "...             ...        ...         ...         ...     ...      ...  \n",
       "4198340    0.000000   0.000000    0.897612    0.987515  myvar2  mybvar2  \n",
       "13635023  17.432091  17.432091    0.514576    0.948488  myvar2  mybvar2  \n",
       "371131     1.483218   3.716469    0.549848    0.897559  myvar2  mybvar2  \n",
       "8117347    6.109235   5.517169    0.620770    0.945399  myvar2  mybvar3  \n",
       "10221188   0.934375   4.809426    0.820049    0.984524  myvar2  mybvar3  \n",
       "\n",
       "[100 rows x 12 columns]"
      ]
     },
     "execution_count": 18,
     "metadata": {},
     "output_type": "execute_result"
    }
   ],
   "source": [
    "data.X_train"
   ]
  },
  {
   "cell_type": "code",
   "execution_count": 19,
   "metadata": {},
   "outputs": [],
   "source": [
    "model_results=[]\n",
    "for hash_id,model_dict in list(hash_id_model_dict.items())[:1]:\n",
    "    model_results.append(model_dict['model'].run(data))\n",
    "    "
   ]
  },
  {
   "cell_type": "code",
   "execution_count": 20,
   "metadata": {},
   "outputs": [
    {
     "data": {
      "text/plain": [
       "{'fit_time': array([0.10110784, 0.09475303, 0.08973598, 0.08691859, 0.0836184 ,\n",
       "        0.08572721, 0.08542514, 0.086761  , 0.0872798 , 0.08366108]),\n",
       " 'score_time': array([0.01650596, 0.01663852, 0.01390934, 0.01424789, 0.01378965,\n",
       "        0.01388335, 0.01380014, 0.01401949, 0.01445651, 0.01369023]),\n",
       " 'estimator': (SkTool(model_gen={'kwargs': {'gridpoints': 5, 'inner_cv_reps': 1,\n",
       "                               'inner_cv_splits': 5, 'random_state': 283518},\n",
       "                    'name': 'logistic-reg'}),\n",
       "  SkTool(model_gen={'kwargs': {'gridpoints': 5, 'inner_cv_reps': 1,\n",
       "                               'inner_cv_splits': 5, 'random_state': 283518},\n",
       "                    'name': 'logistic-reg'}),\n",
       "  SkTool(model_gen={'kwargs': {'gridpoints': 5, 'inner_cv_reps': 1,\n",
       "                               'inner_cv_splits': 5, 'random_state': 283518},\n",
       "                    'name': 'logistic-reg'}),\n",
       "  SkTool(model_gen={'kwargs': {'gridpoints': 5, 'inner_cv_reps': 1,\n",
       "                               'inner_cv_splits': 5, 'random_state': 283518},\n",
       "                    'name': 'logistic-reg'}),\n",
       "  SkTool(model_gen={'kwargs': {'gridpoints': 5, 'inner_cv_reps': 1,\n",
       "                               'inner_cv_splits': 5, 'random_state': 283518},\n",
       "                    'name': 'logistic-reg'}),\n",
       "  SkTool(model_gen={'kwargs': {'gridpoints': 5, 'inner_cv_reps': 1,\n",
       "                               'inner_cv_splits': 5, 'random_state': 283518},\n",
       "                    'name': 'logistic-reg'}),\n",
       "  SkTool(model_gen={'kwargs': {'gridpoints': 5, 'inner_cv_reps': 1,\n",
       "                               'inner_cv_splits': 5, 'random_state': 283518},\n",
       "                    'name': 'logistic-reg'}),\n",
       "  SkTool(model_gen={'kwargs': {'gridpoints': 5, 'inner_cv_reps': 1,\n",
       "                               'inner_cv_splits': 5, 'random_state': 283518},\n",
       "                    'name': 'logistic-reg'}),\n",
       "  SkTool(model_gen={'kwargs': {'gridpoints': 5, 'inner_cv_reps': 1,\n",
       "                               'inner_cv_splits': 5, 'random_state': 283518},\n",
       "                    'name': 'logistic-reg'}),\n",
       "  SkTool(model_gen={'kwargs': {'gridpoints': 5, 'inner_cv_reps': 1,\n",
       "                               'inner_cv_splits': 5, 'random_state': 283518},\n",
       "                    'name': 'logistic-reg'})),\n",
       " 'test_f1_micro': array([0.5 , 0.7 , 0.55, 0.5 , 0.65, 0.6 , 0.55, 0.7 , 0.6 , 0.7 ]),\n",
       " 'test_roc_auc_score_macro': array([0.48484848, 0.73626374, 0.36666667, 0.5       , 0.64141414,\n",
       "        0.59340659, 0.55050505, 0.66666667, 0.56043956, 0.7032967 ]),\n",
       " 'test_roc_auc_score_micro': array([0.48484848, 0.73626374, 0.36666667, 0.5       , 0.64141414,\n",
       "        0.59340659, 0.55050505, 0.66666667, 0.56043956, 0.7032967 ]),\n",
       " 'test_precision_micro': array([0.5 , 0.7 , 0.55, 0.5 , 0.65, 0.6 , 0.55, 0.7 , 0.6 , 0.7 ]),\n",
       " 'test_recall_micro': array([0.5 , 0.7 , 0.55, 0.5 , 0.65, 0.6 , 0.55, 0.7 , 0.6 , 0.7 ])}"
      ]
     },
     "execution_count": 20,
     "metadata": {},
     "output_type": "execute_result"
    }
   ],
   "source": [
    "model_results[0]"
   ]
  },
  {
   "cell_type": "code",
   "execution_count": 21,
   "metadata": {},
   "outputs": [
    {
     "name": "stdout",
     "output_type": "stream",
     "text": [
      "inner_pipe.named_steps {'prep': missingValHandler(strategy='impute_knn_10'), 'scaler': StandardScaler(), 'clf': LogisticRegressionCV(penalty='l1', solver='saga')}\n",
      "inner_steps ['prep', 'scaler', 'clf']\n",
      "['a_myvar1' 'a_myvar2' 'b_mybvar1' 'b_mybvar2' 'b_mybvar3']\n",
      "inner_pipe.named_steps {'prep': missingValHandler(strategy='impute_knn_10'), 'scaler': StandardScaler(), 'clf': LogisticRegressionCV(penalty='l1', solver='saga')}\n",
      "inner_steps ['prep', 'scaler', 'clf']\n",
      "['a_myvar1' 'a_myvar2' 'b_mybvar1' 'b_mybvar2' 'b_mybvar3']\n",
      "inner_pipe.named_steps {'prep': missingValHandler(strategy='impute_knn_10'), 'scaler': StandardScaler(), 'clf': LogisticRegressionCV(penalty='l1', solver='saga')}\n",
      "inner_steps ['prep', 'scaler', 'clf']\n",
      "['a_myvar1' 'a_myvar2' 'b_mybvar1' 'b_mybvar2' 'b_mybvar3']\n",
      "inner_pipe.named_steps {'prep': missingValHandler(strategy='impute_knn_10'), 'scaler': StandardScaler(), 'clf': LogisticRegressionCV(penalty='l1', solver='saga')}\n",
      "inner_steps ['prep', 'scaler', 'clf']\n",
      "['a_myvar1' 'a_myvar2' 'b_mybvar1' 'b_mybvar2' 'b_mybvar3']\n",
      "inner_pipe.named_steps {'prep': missingValHandler(strategy='impute_knn_10'), 'scaler': StandardScaler(), 'clf': LogisticRegressionCV(penalty='l1', solver='saga')}\n",
      "inner_steps ['prep', 'scaler', 'clf']\n",
      "['a_myvar1' 'a_myvar2' 'b_mybvar1' 'b_mybvar2' 'b_mybvar3']\n",
      "inner_pipe.named_steps {'prep': missingValHandler(strategy='impute_knn_10'), 'scaler': StandardScaler(), 'clf': LogisticRegressionCV(penalty='l1', solver='saga')}\n",
      "inner_steps ['prep', 'scaler', 'clf']\n",
      "['a_myvar1' 'a_myvar2' 'b_mybvar1' 'b_mybvar2' 'b_mybvar3']\n",
      "inner_pipe.named_steps {'prep': missingValHandler(strategy='impute_knn_10'), 'scaler': StandardScaler(), 'clf': LogisticRegressionCV(penalty='l1', solver='saga')}\n",
      "inner_steps ['prep', 'scaler', 'clf']\n",
      "['a_myvar1' 'a_myvar2' 'b_mybvar1' 'b_mybvar2' 'b_mybvar3']\n",
      "inner_pipe.named_steps {'prep': missingValHandler(strategy='impute_knn_10'), 'scaler': StandardScaler(), 'clf': LogisticRegressionCV(penalty='l1', solver='saga')}\n",
      "inner_steps ['prep', 'scaler', 'clf']\n",
      "['a_myvar1' 'a_myvar2' 'b_mybvar1' 'b_mybvar2' 'b_mybvar3']\n",
      "inner_pipe.named_steps {'prep': missingValHandler(strategy='impute_knn_10'), 'scaler': StandardScaler(), 'clf': LogisticRegressionCV(penalty='l1', solver='saga')}\n",
      "inner_steps ['prep', 'scaler', 'clf']\n",
      "['a_myvar1' 'a_myvar2' 'b_mybvar1' 'b_mybvar2' 'b_mybvar3']\n",
      "inner_pipe.named_steps {'prep': missingValHandler(strategy='impute_knn_10'), 'scaler': StandardScaler(), 'clf': LogisticRegressionCV(penalty='l1', solver='saga')}\n",
      "inner_steps ['prep', 'scaler', 'clf']\n",
      "['a_myvar1' 'a_myvar2' 'b_mybvar1' 'b_mybvar2' 'b_mybvar3']\n"
     ]
    }
   ],
   "source": [
    "pf=SkTool_post_fit()\n",
    "pf.get_coef_dict(model_results[0])"
   ]
  },
  {
   "cell_type": "code",
   "execution_count": 22,
   "metadata": {},
   "outputs": [
    {
     "data": {
      "text/plain": [
       "['AgKffactCat',\n",
       " 'AgKffactWs',\n",
       " 'Al2O3Cat',\n",
       " 'Al2O3Ws',\n",
       " 'BFICat',\n",
       " 'BFIWs',\n",
       " 'CBNFCat',\n",
       " 'CBNFWs',\n",
       " 'CCHEM_v2_1',\n",
       " 'CCONN_v2_1',\n",
       " 'a',\n",
       " 'b']"
      ]
     },
     "execution_count": 22,
     "metadata": {},
     "output_type": "execute_result"
    }
   ],
   "source": [
    "pf.xlist[0]"
   ]
  },
  {
   "cell_type": "code",
   "execution_count": 23,
   "metadata": {},
   "outputs": [
    {
     "data": {
      "text/plain": [
       "[10, 11]"
      ]
     },
     "execution_count": 23,
     "metadata": {},
     "output_type": "execute_result"
    }
   ],
   "source": [
    "pf.prep.obj_idx_"
   ]
  },
  {
   "cell_type": "code",
   "execution_count": 24,
   "metadata": {},
   "outputs": [],
   "source": [
    "cat_vars=[pf.xlist[0][i] for i in pf.prep.obj_idx_]"
   ]
  },
  {
   "cell_type": "code",
   "execution_count": 25,
   "metadata": {},
   "outputs": [
    {
     "data": {
      "text/plain": [
       "array(['a_myvar1', 'a_myvar2', 'b_mybvar1', 'b_mybvar2', 'b_mybvar3'],\n",
       "      dtype=object)"
      ]
     },
     "execution_count": 25,
     "metadata": {},
     "output_type": "execute_result"
    }
   ],
   "source": [
    "pf.prep.T.transformers_[1][1]['onehotencoder'].get_feature_names(cat_vars)"
   ]
  },
  {
   "cell_type": "code",
   "execution_count": 26,
   "metadata": {},
   "outputs": [
    {
     "data": {
      "text/plain": [
       "Pipeline(steps=[('prep', missingValHandler(strategy='impute_knn_10')),\n",
       "                ('scaler', StandardScaler()),\n",
       "                ('clf', LogisticRegressionCV(penalty='l1', solver='saga'))])"
      ]
     },
     "execution_count": 26,
     "metadata": {},
     "output_type": "execute_result"
    }
   ],
   "source": [
    "pf.inner_pipe"
   ]
  },
  {
   "cell_type": "code",
   "execution_count": 27,
   "metadata": {},
   "outputs": [
    {
     "data": {
      "text/plain": [
       "missingValHandler(strategy='impute_knn_10')"
      ]
     },
     "execution_count": 27,
     "metadata": {},
     "output_type": "execute_result"
    }
   ],
   "source": [
    "pf.inner_pipe['prep']"
   ]
  },
  {
   "cell_type": "code",
   "execution_count": 28,
   "metadata": {},
   "outputs": [
    {
     "data": {
      "text/plain": [
       "[missingValHandler(strategy='impute_knn_10'),\n",
       " StandardScaler(),\n",
       " LogisticRegressionCV(penalty='l1', solver='saga')]"
      ]
     },
     "execution_count": 28,
     "metadata": {},
     "output_type": "execute_result"
    }
   ],
   "source": [
    "list(pf.inner_pipe)"
   ]
  },
  {
   "cell_type": "code",
   "execution_count": null,
   "metadata": {},
   "outputs": [],
   "source": []
  }
 ],
 "metadata": {
  "kernelspec": {
   "display_name": "Python 3",
   "language": "python",
   "name": "python3"
  },
  "language_info": {
   "codemirror_mode": {
    "name": "ipython",
    "version": 3
   },
   "file_extension": ".py",
   "mimetype": "text/x-python",
   "name": "python",
   "nbconvert_exporter": "python",
   "pygments_lexer": "ipython3",
   "version": "3.8.2"
  }
 },
 "nbformat": 4,
 "nbformat_minor": 4
}
