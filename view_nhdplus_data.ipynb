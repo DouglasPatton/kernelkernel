{
 "cells": [
  {
   "cell_type": "code",
   "execution_count": 1,
   "metadata": {},
   "outputs": [],
   "source": [
    "import geopandas as gpd\n",
    "import os"
   ]
  },
  {
   "cell_type": "code",
   "execution_count": 2,
   "metadata": {},
   "outputs": [],
   "source": [
    "#datapath=os.path.join('geo_data','NHDPlus',f'NHDPLUS_H_{\"0513\"}_HU4_GDB.zip')"
   ]
  },
  {
   "cell_type": "code",
   "execution_count": 3,
   "metadata": {},
   "outputs": [],
   "source": [
    "datapath=os.path.join('geo_data','NHDPlusV21','NHDPlusNationalData','NHDPlusV21_National_Seamless_Flattened_Lower48.gdb')"
   ]
  },
  {
   "cell_type": "code",
   "execution_count": 4,
   "metadata": {},
   "outputs": [
    {
     "data": {
      "text/plain": [
       "True"
      ]
     },
     "execution_count": 4,
     "metadata": {},
     "output_type": "execute_result"
    }
   ],
   "source": [
    "os.path.exists(datapath)"
   ]
  },
  {
   "cell_type": "code",
   "execution_count": 5,
   "metadata": {},
   "outputs": [],
   "source": [
    "import fiona"
   ]
  },
  {
   "cell_type": "code",
   "execution_count": 6,
   "metadata": {},
   "outputs": [
    {
     "data": {
      "text/plain": [
       "['Gage',\n",
       " 'BurnAddLine',\n",
       " 'BurnAddWaterbody',\n",
       " 'LandSea',\n",
       " 'Sink',\n",
       " 'Wall',\n",
       " 'Catchment',\n",
       " 'CatchmentSP',\n",
       " 'NHDArea',\n",
       " 'NHDWaterbody',\n",
       " 'HUC12',\n",
       " 'NHDPlusComponentVersions',\n",
       " 'PlusARPointEvent',\n",
       " 'PlusFlowAR',\n",
       " 'NHDFCode',\n",
       " 'DivFracMP',\n",
       " 'BurnLineEvent',\n",
       " 'NHDFlowline_Network',\n",
       " 'NHDFlowline_NonNetwork',\n",
       " 'GeoNetwork_Junctions',\n",
       " 'PlusFlow']"
      ]
     },
     "execution_count": 6,
     "metadata": {},
     "output_type": "execute_result"
    }
   ],
   "source": [
    "layerlist=fiona.listlayers(datapath)\n",
    "layerlist"
   ]
  },
  {
   "cell_type": "code",
   "execution_count": 7,
   "metadata": {},
   "outputs": [
    {
     "name": "stdout",
     "output_type": "stream",
     "text": [
      "------layer name: Gage------\n",
      "        REACHCODE REACHRESOL                      SOURCE_ORI SOURCE_FEA  \\\n",
      "0  01100005001603     Medium  USGS, Water Resources Division   01206900   \n",
      "1  01100005001605     Medium  USGS, Water Resources Division   01206000   \n",
      "2  01090002000178     Medium  USGS, Water Resources Division   01105917   \n",
      "\n",
      "                                          FEATUREDET   Measure   EventType  \\\n",
      "0  http://waterdata.usgs.gov/nwis/nwisman/?site_n...  45.31563  StreamGage   \n",
      "1  http://waterdata.usgs.gov/nwis/nwisman/?site_n...  15.86635  StreamGage   \n",
      "2  http://waterdata.usgs.gov/nwis/nwisman/?site_n...   9.65026  StreamGage   \n",
      "\n",
      "   FLComID AGENCY_CD                                STATION_NM STATE_CD STATE  \\\n",
      "0  7712706      USGS          NAUGATUCK RIVER AT THOMASTON, CT        9    CT   \n",
      "1  7713630      USGS             NAUGATUCK R NR THOMASTON, CT.        9    CT   \n",
      "2  5878903      USGS  MATTAPOISETT RIVER NEAR MATTAPOISETT, MA       25    MA   \n",
      "\n",
      "   DASqMi   DASqKm    LatSite    LonSite Active ActiveDate  GagesII  \\\n",
      "0    99.8  258.482  41.673708 -73.069553      1   20151006  Non-ref   \n",
      "1    71.0  183.890  41.704264 -73.064275      0   20151006            \n",
      "2    24.0   62.160  41.662604 -70.838370      1   20151006  Non-ref   \n",
      "\n",
      "                     geometry  \n",
      "0  POINT (-73.06958 41.67399)  \n",
      "1  POINT (-73.06380 41.70448)  \n",
      "2  POINT (-70.83862 41.66291)  \n",
      "shape:  (28164, 20)\n",
      "\n",
      "\n",
      "------layer name: BurnAddLine------\n",
      "could not read file\n",
      "\n",
      "\n",
      "------layer name: BurnAddWaterbody------\n",
      "   PolyID PurpCode PurpDesc  OnOffNet  FCode  Shape_Length  Shape_Area  \\\n",
      "0 -333670                           1  39004      0.226507    0.000850   \n",
      "1 -333671                           1  39004      0.232354    0.001065   \n",
      "2 -333672                           0  39004      0.008884    0.000003   \n",
      "\n",
      "                                            geometry  \n",
      "0  MULTIPOLYGON (((-69.57563 47.22634, -69.57549 ...  \n",
      "1  MULTIPOLYGON (((-69.24071 47.45874, -69.24145 ...  \n",
      "2  MULTIPOLYGON (((-69.05408 47.37493, -69.05407 ...  \n",
      "shape:  (2365, 8)\n",
      "\n",
      "\n",
      "------layer name: LandSea------\n",
      "   LANDSEAID  LAND  Shape_Length  Shape_Area  \\\n",
      "0    -339225     1      0.277358    0.003044   \n",
      "1    -339226     1      1.203695    0.013058   \n",
      "2    -339227     1      1.505419    0.027497   \n",
      "\n",
      "                                            geometry  \n",
      "0  MULTIPOLYGON (((-71.57426 41.22896, -71.57378 ...  \n",
      "1  MULTIPOLYGON (((-70.04633 41.39095, -70.04599 ...  \n",
      "2  MULTIPOLYGON (((-70.59629 41.45373, -70.59623 ...  \n",
      "shape:  (96, 5)\n",
      "\n",
      "\n",
      "------layer name: Sink------\n",
      "   SINKID PURPCODE                   PURPDESC  FEATUREID     SOURCEFC  \\\n",
      "0 -323299        1  BurnLineEvent network end    4150574  NHDFlowline   \n",
      "1 -414847        1  BurnLineEvent network end    2000356  NHDFlowline   \n",
      "2 -414848        1  BurnLineEvent network end    2161564  NHDFlowline   \n",
      "\n",
      "   GridCode InRPU Catchment Burn                    geometry  \n",
      "0   1684501   02b         Y    Y  POINT (-74.68530 41.38052)  \n",
      "1   2499809   03c         Y    Y  POINT (-82.75323 30.30054)  \n",
      "2   2506183   03c         Y    Y  POINT (-82.51111 29.80369)  \n",
      "shape:  (15728, 10)\n",
      "\n",
      "\n",
      "------layer name: Wall------\n",
      "   WallID  SourceID  Shape_Length  \\\n",
      "0 -339239         0      0.085850   \n",
      "1 -339240         0      0.153271   \n",
      "2 -339241         0      0.154516   \n",
      "\n",
      "                                            geometry  \n",
      "0  MULTILINESTRING ((-72.47216 41.27087, -72.4724...  \n",
      "1  MULTILINESTRING ((-72.39487 41.33131, -72.3947...  \n",
      "2  MULTILINESTRING ((-72.49019 41.32634, -72.4899...  \n",
      "shape:  (280089, 4)\n",
      "\n",
      "\n",
      "------layer name: Catchment------\n",
      "   GRIDCODE  FEATUREID     SOURCEFC  AreaSqKM  Shape_Length  Shape_Area  \\\n",
      "0   1809703     718276  NHDFlowline    2.3103      0.102363    0.000272   \n",
      "1   1809704     718808  NHDFlowline    3.9429      0.130838    0.000465   \n",
      "2   1809705     718792  NHDFlowline    5.8995      0.204382    0.000696   \n",
      "\n",
      "                                            geometry  \n",
      "0  MULTIPOLYGON (((-69.37287 46.69399, -69.37276 ...  \n",
      "1  MULTIPOLYGON (((-69.09262 46.82960, -69.09218 ...  \n",
      "2  MULTIPOLYGON (((-69.10991 46.85735, -69.11029 ...  \n",
      "shape:  (2647454, 7)\n",
      "\n",
      "\n",
      "------layer name: CatchmentSP------\n",
      "   GRIDCODE  FEATUREID     SOURCEFC  AreaSqKM  Shape_Length  Shape_Area  \\\n",
      "0   1809703     718276  NHDFlowline  2.310929      0.086513    0.000272   \n",
      "1   1809704     718808  NHDFlowline  3.944887      0.105475    0.000465   \n",
      "2   1809705     718792  NHDFlowline  5.894885      0.161310    0.000695   \n",
      "\n",
      "                                            geometry  \n",
      "0  MULTIPOLYGON (((-69.37287 46.69399, -69.37297 ...  \n",
      "1  MULTIPOLYGON (((-69.09262 46.82960, -69.09234 ...  \n",
      "2  MULTIPOLYGON (((-69.10991 46.85735, -69.11056 ...  \n",
      "shape:  (2647455, 7)\n",
      "\n",
      "\n",
      "------layer name: NHDArea------\n",
      "     COMID                FDATE RESOLUTION GNIS_ID GNIS_NAME  AREASQKM  \\\n",
      "0  4289001  1999-06-22T00:00:00     Medium                       0.133   \n",
      "1  4289005  1999-06-22T00:00:00     Medium                       0.010   \n",
      "2  4289031  1999-06-22T00:00:00     Medium                       0.040   \n",
      "\n",
      "   ELEVATION   FTYPE  FCODE  Shape_Length  Shape_Area  ONOFFNET PurpCode  \\\n",
      "0        0.0  Rapids  43100      0.027120    0.000016       NaN     None   \n",
      "1        0.0  Rapids  43100      0.004677    0.000001       NaN     None   \n",
      "2        0.0  Rapids  43100      0.009677    0.000005       NaN     None   \n",
      "\n",
      "  PurpDesc                                           geometry  \n",
      "0     None  MULTIPOLYGON (((-69.42464 46.96597, -69.42404 ...  \n",
      "1     None  MULTIPOLYGON (((-69.43949 46.92891, -69.43875 ...  \n",
      "2     None  MULTIPOLYGON (((-69.50416 46.86416, -69.50436 ...  \n",
      "shape:  (17023, 15)\n",
      "\n",
      "\n",
      "------layer name: NHDWaterbody------\n",
      "    COMID                FDATE RESOLUTION GNIS_ID       GNIS_NAME  AREASQKM  \\\n",
      "0  806161  1999-05-27T00:00:00     Medium                             0.013   \n",
      "1  806167  1999-05-27T00:00:00     Medium                             0.055   \n",
      "2  806169  1999-05-27T00:00:00     Medium  564483  Cranberry Pond     0.176   \n",
      "\n",
      "   ELEVATION       REACHCODE     FTYPE  FCODE  ...  ONOFFNET  PurpCode  \\\n",
      "0        0.0  01010004001814  LakePond  39004  ...       1.0             \n",
      "1        0.0  01010004001819  LakePond  39004  ...       1.0             \n",
      "2        0.0  01010004001817  LakePond  39004  ...       1.0             \n",
      "\n",
      "   PurpDesc MeanDepth    LakeVolume  MaxDepth  MeanDUsed  MeanDCode  \\\n",
      "0            0.094505   1220.517737  0.230449   0.094505          4   \n",
      "1            0.098725   5407.746906  0.232882   0.098725          4   \n",
      "2            0.281675  49470.295260  0.632704   0.281675          4   \n",
      "\n",
      "        LakeArea                                           geometry  \n",
      "0   12914.888044  MULTIPOLYGON (((-68.31665 46.49881, -68.31659 ...  \n",
      "1   54775.911695  MULTIPOLYGON (((-68.32280 46.48075, -68.32263 ...  \n",
      "2  175628.683793  MULTIPOLYGON (((-68.27113 46.47208, -68.27152 ...  \n",
      "\n",
      "[3 rows x 22 columns]\n",
      "shape:  (448512, 22)\n",
      "\n",
      "\n",
      "------layer name: HUC12------\n",
      "   OBJECTID_1  OBJECTID     HUC_8      HUC_10        HUC_12         ACRES  \\\n",
      "0           1     15772  04100003  0410000307  041000030706  20616.334079   \n",
      "1           2     15807  04050001  0405000116  040500011602  11804.047008   \n",
      "2           3     15817  04100003  0410000307  041000030704  15716.148880   \n",
      "\n",
      "   NCONTRB_A HU_10_GNIS HU_12_GNIS                  HU_10_NAME  ... GAZ_ID  \\\n",
      "0        0.0                                       Cedar Creek  ...  -1074   \n",
      "1        0.0                        South Branch Elkhart River  ...  -1075   \n",
      "2        0.0                                       Cedar Creek  ...  -1076   \n",
      "\n",
      "              WBD_Date VPUID  AreaHUC12 Shape_Length Shape_Area HUC_2 HUC_4  \\\n",
      "0  2010-08-31T00:00:00    04  83.431344     0.689155   0.008963    04  0410   \n",
      "1  2010-08-31T00:00:00    04  47.769283     0.518645   0.005136    04  0405   \n",
      "2  2010-08-31T00:00:00    04  63.600998     0.595397   0.006839    04  0410   \n",
      "\n",
      "    HUC_6                                           geometry  \n",
      "0  041000  MULTIPOLYGON (((-85.18915 41.26769, -85.18815 ...  \n",
      "1  040500  MULTIPOLYGON (((-85.50125 41.34290, -85.49983 ...  \n",
      "2  041000  MULTIPOLYGON (((-85.13571 41.28638, -85.13561 ...  \n",
      "\n",
      "[3 rows x 29 columns]\n",
      "shape:  (87700, 29)\n",
      "\n",
      "\n",
      "------layer name: NHDPlusComponentVersions------\n",
      "Component    NHDPlusV21_CA_18_EROMExtension_07.txt\n",
      "geometry                                      None\n",
      "Name: 0, dtype: object\n",
      "\n",
      "\n",
      "------layer name: PlusARPointEvent------\n",
      "Comid                   -90025001\n",
      "EventDate     2012-05-16T00:00:00\n",
      "ReachCode          01070004000106\n",
      "ReachResol                 Medium\n",
      "Source_Fea                       \n",
      "Measure                         0\n",
      "EventType                 Removal\n",
      "geometry                     None\n",
      "Name: 0, dtype: object\n",
      "\n",
      "\n",
      "------layer name: PlusFlowAR------\n",
      "FromComid             6078273\n",
      "FromFC            NHDFlowline\n",
      "ToComid             -90025001\n",
      "ToFC         PlusARPointEvent\n",
      "Quantity                  102\n",
      "Units                     CFS\n",
      "geometry                 None\n",
      "Name: 0, dtype: object\n",
      "\n",
      "\n",
      "------layer name: NHDFCode------\n",
      "FCode                       42000\n",
      "Descriptio    Underground Conduit\n",
      "CanalDitch                       \n",
      "Constructi                       \n",
      "Hydrograph                       \n",
      "Inundation                       \n",
      "Operationa                       \n",
      "PipelineTy                       \n",
      "Positional                       \n",
      "Relationsh                       \n",
      "ReservoirT                       \n",
      "Stage                            \n",
      "SpecialUse                       \n",
      "geometry                     None\n",
      "Name: 0, dtype: object\n",
      "\n",
      "\n",
      "------layer name: DivFracMP------\n",
      "NodeNumber    2.50054e+08\n",
      "ComID             9660810\n",
      "DivFrac             0.994\n",
      "geometry             None\n",
      "Name: 0, dtype: object\n",
      "\n",
      "\n",
      "------layer name: BurnLineEvent------\n",
      "could not read file\n",
      "\n",
      "\n",
      "------layer name: NHDFlowline_Network------\n",
      "    COMID                FDATE RESOLUTION GNIS_ID       GNIS_NAME  LENGTHKM  \\\n",
      "0  721640  2008-08-28T00:00:00     Medium  561174  Allagash River     7.634   \n",
      "1  717072  2008-08-28T00:00:00     Medium  561174  Allagash River     0.948   \n",
      "2  717076  2008-08-28T00:00:00     Medium  561174  Allagash River     2.151   \n",
      "\n",
      "        REACHCODE         FLOWDIR  WBAREACOMI           FTYPE  ...    VC_12  \\\n",
      "0  01010002000001  With Digitized   120049635  ArtificialPath  ...  1.79598   \n",
      "1  01010002000001  With Digitized   120049636  ArtificialPath  ...  0.95148   \n",
      "2  01010002000001  With Digitized   120049635  ArtificialPath  ...  1.69117   \n",
      "\n",
      "      QE_12    VE_12  LakeFract  SurfArea  RAreaHLoad  RPUID  VPUID  Enabled  \\\n",
      "0  1230.971  1.66764        NaN       NaN         NaN    01a     01        1   \n",
      "1  1231.605  0.89602        NaN       NaN         NaN    01a     01        1   \n",
      "2  1252.634  1.68824        NaN       NaN         NaN    01a     01        1   \n",
      "\n",
      "                                            geometry  \n",
      "0  MULTILINESTRING Z ((-69.08017 47.04794 0.00000...  \n",
      "1  MULTILINESTRING Z ((-69.04528 47.08419 0.00000...  \n",
      "2  MULTILINESTRING Z ((-69.07527 47.02969 0.00000...  \n",
      "\n",
      "[3 rows x 138 columns]\n",
      "shape:  (2691339, 138)\n",
      "\n",
      "\n",
      "------layer name: NHDFlowline_NonNetwork------\n",
      "    COMID                FDATE RESOLUTION GNIS_ID GNIS_NAME  LENGTHKM  \\\n",
      "0  718668  1999-06-22T00:00:00     Medium                       1.820   \n",
      "1  718674  1999-06-22T00:00:00     Medium                       1.340   \n",
      "2  718950  1999-06-22T00:00:00     Medium                       1.214   \n",
      "\n",
      "        REACHCODE        FLOWDIR  WBAREACOMI        FTYPE  FCODE  \\\n",
      "0  01010002000292  Uninitialized           0  StreamRiver  46006   \n",
      "1  01010002000293  Uninitialized           0  StreamRiver  46006   \n",
      "2  01010002000724  Uninitialized           0  StreamRiver  46006   \n",
      "\n",
      "   Shape_Length                                           geometry  \n",
      "0      0.019490  MULTILINESTRING Z ((-69.30088 46.50005 0.00000...  \n",
      "1      0.015529  MULTILINESTRING Z ((-69.14803 46.50005 0.00000...  \n",
      "2      0.013102  MULTILINESTRING Z ((-69.05984 46.58630 0.00000...  \n",
      "shape:  (302186, 13)\n",
      "\n",
      "\n",
      "------layer name: GeoNetwork_Junctions------\n",
      "   Enabled                     geometry\n",
      "0        1  POINT (-124.72442 48.38286)\n",
      "1        1  POINT (-124.71771 48.38887)\n",
      "2        1  POINT (-124.70778 48.18122)\n",
      "shape:  (2632060, 2)\n",
      "\n",
      "\n",
      "------layer name: PlusFlow------\n",
      "FROMCOMID         6075195\n",
      "FROMHYDSEQ    1.50035e+08\n",
      "FROMLVLPAT    1.50035e+08\n",
      "TOCOMID           6075995\n",
      "TOHYDSEQ      1.50022e+08\n",
      "TOLVLPAT      1.50012e+08\n",
      "NODENUMBER    1.50023e+08\n",
      "DELTALEVEL              1\n",
      "DIRECTION             709\n",
      "GAPDISTKM               0\n",
      "HasGeo                  Y\n",
      "TotDASqKM         10.3482\n",
      "DivDASqKM         10.3482\n",
      "geometry             None\n",
      "Name: 0, dtype: object\n",
      "\n",
      "\n"
     ]
    }
   ],
   "source": [
    "for layer in layerlist:\n",
    "    try: \n",
    "        print(f'------layer name: {layer}------')\n",
    "        gdf=gpd.read_file(datapath,layer=layer)\n",
    "        try:\n",
    "            print(gdf.head(3))\n",
    "            print('shape: ',gdf.shape)\n",
    "        except:\n",
    "            try:\n",
    "                print(gdf.iloc[0,:])\n",
    "            except:\n",
    "                try:\n",
    "                    print(gdf.columns)\n",
    "                except:\n",
    "                    print('cannot print')\n",
    "    except: print('could not read file')\n",
    "    print('\\n')"
   ]
  },
  {
   "cell_type": "code",
   "execution_count": 8,
   "metadata": {},
   "outputs": [
    {
     "ename": "SyntaxError",
     "evalue": "invalid syntax (<ipython-input-8-60215a10e730>, line 1)",
     "output_type": "error",
     "traceback": [
      "\u001b[0;36m  File \u001b[0;32m\"<ipython-input-8-60215a10e730>\"\u001b[0;36m, line \u001b[0;32m1\u001b[0m\n\u001b[0;31m    -\u001b[0m\n\u001b[0m     ^\u001b[0m\n\u001b[0;31mSyntaxError\u001b[0m\u001b[0;31m:\u001b[0m invalid syntax\n"
     ]
    }
   ],
   "source": [
    "-"
   ]
  },
  {
   "cell_type": "code",
   "execution_count": null,
   "metadata": {},
   "outputs": [],
   "source": [
    "gdf.columns"
   ]
  },
  {
   "cell_type": "code",
   "execution_count": null,
   "metadata": {},
   "outputs": [],
   "source": [
    "gdf.iloc[0]"
   ]
  },
  {
   "cell_type": "code",
   "execution_count": null,
   "metadata": {},
   "outputs": [],
   "source": [
    "gdf.index\n"
   ]
  },
  {
   "cell_type": "code",
   "execution_count": null,
   "metadata": {},
   "outputs": [],
   "source": [
    "for i in range(5):\n",
    "    print(gdf['NHDPlusID'].iloc[i])"
   ]
  },
  {
   "cell_type": "code",
   "execution_count": null,
   "metadata": {},
   "outputs": [],
   "source": [
    "gdf.plot()"
   ]
  },
  {
   "cell_type": "code",
   "execution_count": null,
   "metadata": {},
   "outputs": [],
   "source": []
  },
  {
   "cell_type": "code",
   "execution_count": null,
   "metadata": {},
   "outputs": [],
   "source": [
    "import requests"
   ]
  },
  {
   "cell_type": "code",
   "execution_count": null,
   "metadata": {},
   "outputs": [],
   "source": []
  },
  {
   "cell_type": "code",
   "execution_count": null,
   "metadata": {},
   "outputs": [],
   "source": [
    "fillable_s3_HUC4_url=lambda h4: f'https://prd-tnm.s3.amazonaws.com/StagedProducts/Hydrography/NHDPlusHR/Beta/GDB/NHDPLUS_H_{}_HU4_GDB.zip'"
   ]
  },
  {
   "cell_type": "code",
   "execution_count": null,
   "metadata": {},
   "outputs": [],
   "source": []
  },
  {
   "cell_type": "code",
   "execution_count": null,
   "metadata": {},
   "outputs": [],
   "source": []
  },
  {
   "cell_type": "code",
   "execution_count": null,
   "metadata": {},
   "outputs": [],
   "source": []
  },
  {
   "cell_type": "code",
   "execution_count": null,
   "metadata": {},
   "outputs": [],
   "source": []
  },
  {
   "cell_type": "code",
   "execution_count": null,
   "metadata": {},
   "outputs": [],
   "source": [
    "import urllib.request\n",
    "\n"
   ]
  },
  {
   "cell_type": "code",
   "execution_count": null,
   "metadata": {},
   "outputs": [],
   "source": [
    "with urllib.request.urlopen('https://prd-tnm.s3.amazonaws.com/index.html?prefix=StagedProducts/Hydrography/NHDPlusHR/Beta/GDB/') as response:\n",
    "    html=response.read()"
   ]
  },
  {
   "cell_type": "code",
   "execution_count": null,
   "metadata": {},
   "outputs": [],
   "source": []
  },
  {
   "cell_type": "code",
   "execution_count": null,
   "metadata": {},
   "outputs": [],
   "source": []
  }
 ],
 "metadata": {
  "kernelspec": {
   "display_name": "Python 3",
   "language": "python",
   "name": "python3"
  },
  "language_info": {
   "codemirror_mode": {
    "name": "ipython",
    "version": 3
   },
   "file_extension": ".py",
   "mimetype": "text/x-python",
   "name": "python",
   "nbconvert_exporter": "python",
   "pygments_lexer": "ipython3",
   "version": "3.8.2"
  }
 },
 "nbformat": 4,
 "nbformat_minor": 4
}
