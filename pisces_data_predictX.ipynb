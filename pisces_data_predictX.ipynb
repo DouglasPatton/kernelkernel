{
 "cells": [
  {
   "cell_type": "code",
   "execution_count": 1,
   "metadata": {},
   "outputs": [
    {
     "data": {
      "text/plain": [
       "'/home/dp/hdd/gits/kernelkernel'"
      ]
     },
     "execution_count": 1,
     "metadata": {},
     "output_type": "execute_result"
    }
   ],
   "source": [
    "import os ; os.getcwd()"
   ]
  },
  {
   "cell_type": "code",
   "execution_count": 2,
   "metadata": {},
   "outputs": [],
   "source": [
    "from pi_data_predict import PiscesPredictDataTool"
   ]
  },
  {
   "cell_type": "code",
   "execution_count": 3,
   "metadata": {},
   "outputs": [],
   "source": [
    "ppdt=PiscesPredictDataTool()"
   ]
  },
  {
   "cell_type": "code",
   "execution_count": 4,
   "metadata": {},
   "outputs": [
    {
     "name": "stdout",
     "output_type": "stream",
     "text": [
      "opening /home/dp/hdd/gits/kernelkernel/data_tool/specieshuc8files with length:4 and type:<class 'tuple'>\n"
     ]
    },
    {
     "data": {
      "text/plain": [
       "['01010006',\n",
       " '01010007',\n",
       " '01010008',\n",
       " '01010009',\n",
       " '01080201',\n",
       " '01080205',\n",
       " '01080207',\n",
       " '02020001',\n",
       " '02020002',\n",
       " '02020003',\n",
       " '02020004',\n",
       " '02020006',\n",
       " '02030101',\n",
       " '02040301',\n",
       " '02050102',\n",
       " '02050105',\n",
       " '02050107',\n",
       " '02070010',\n",
       " '04010101',\n",
       " '04010201',\n",
       " '04010301',\n",
       " '04010302',\n",
       " '04020101',\n",
       " '04020102',\n",
       " '04020103',\n",
       " '04020201',\n",
       " '04020202',\n",
       " '04020203',\n",
       " '04020300',\n",
       " '04030101',\n",
       " '04030102',\n",
       " '04030103',\n",
       " '04030104',\n",
       " '04030105',\n",
       " '04030106',\n",
       " '04030107',\n",
       " '04030108',\n",
       " '04030109',\n",
       " '04030110',\n",
       " '04030111',\n",
       " '04030112',\n",
       " '04030201',\n",
       " '04030202',\n",
       " '04030203',\n",
       " '04030204',\n",
       " '04040001',\n",
       " '04040002',\n",
       " '04040003',\n",
       " '04050001',\n",
       " '04050002',\n",
       " '04050003',\n",
       " '04050004',\n",
       " '04050005',\n",
       " '04050006',\n",
       " '04050007',\n",
       " '04060101',\n",
       " '04060102',\n",
       " '04060103',\n",
       " '04060104',\n",
       " '04060105',\n",
       " '04060106',\n",
       " '04060107',\n",
       " '04070001',\n",
       " '04070002',\n",
       " '04070003',\n",
       " '04070004',\n",
       " '04070005',\n",
       " '04070006',\n",
       " '04070007',\n",
       " '04080101',\n",
       " '04080102',\n",
       " '04080103',\n",
       " '04080104',\n",
       " '04080201',\n",
       " '04080202',\n",
       " '04080203',\n",
       " '04080204',\n",
       " '04080205',\n",
       " '04080206',\n",
       " '04090001',\n",
       " '04090003',\n",
       " '04090004',\n",
       " '04090005',\n",
       " '04100001',\n",
       " '04100002',\n",
       " '04100003',\n",
       " '04100004',\n",
       " '04100005',\n",
       " '04100006',\n",
       " '04100009',\n",
       " '04100010',\n",
       " '04100011',\n",
       " '04100012',\n",
       " '04110001',\n",
       " '04110002',\n",
       " '04110003',\n",
       " '04110004',\n",
       " '04120101',\n",
       " '04120102',\n",
       " '04120103',\n",
       " '04120104',\n",
       " '04130001',\n",
       " '04130002',\n",
       " '04130003',\n",
       " '04140101',\n",
       " '04140102',\n",
       " '04140201',\n",
       " '04140202',\n",
       " '04140203',\n",
       " '04150101',\n",
       " '04150102',\n",
       " '04150301',\n",
       " '04150302',\n",
       " '04150303',\n",
       " '04150304',\n",
       " '04150305',\n",
       " '04150306',\n",
       " '04150307',\n",
       " '04150308',\n",
       " '04150401',\n",
       " '04150404',\n",
       " '04150406',\n",
       " '04150408',\n",
       " '05010001',\n",
       " '05010002',\n",
       " '05010003',\n",
       " '05010004',\n",
       " '05030101',\n",
       " '05030102',\n",
       " '05030103',\n",
       " '05030105',\n",
       " '05030106',\n",
       " '05030204',\n",
       " '05040001',\n",
       " '05040002',\n",
       " '05040003',\n",
       " '05040006',\n",
       " '05060001',\n",
       " '05060002',\n",
       " '05080001',\n",
       " '05080003',\n",
       " '05090202',\n",
       " '05120101',\n",
       " '05120104',\n",
       " '05120105',\n",
       " '05120106',\n",
       " '05120110',\n",
       " '05120111',\n",
       " '05120113',\n",
       " '05120201',\n",
       " '05120202',\n",
       " '05120207',\n",
       " '05120208',\n",
       " '05120209',\n",
       " '06010205',\n",
       " '06040005',\n",
       " '06040006',\n",
       " '07010101',\n",
       " '07010102',\n",
       " '07010103',\n",
       " '07010104',\n",
       " '07010105',\n",
       " '07010106',\n",
       " '07010201',\n",
       " '07010204',\n",
       " '07010206',\n",
       " '07010207',\n",
       " '07020007',\n",
       " '07020012',\n",
       " '07030001',\n",
       " '07030002',\n",
       " '07030003',\n",
       " '07030004',\n",
       " '07030005',\n",
       " '07040001',\n",
       " '07040003',\n",
       " '07040005',\n",
       " '07040006',\n",
       " '07040007',\n",
       " '07050001',\n",
       " '07050002',\n",
       " '07050003',\n",
       " '07050004',\n",
       " '07050005',\n",
       " '07050006',\n",
       " '07050007',\n",
       " '07060001',\n",
       " '07060003',\n",
       " '07060005',\n",
       " '07070001',\n",
       " '07070002',\n",
       " '07070003',\n",
       " '07070004',\n",
       " '07070005',\n",
       " '07070006',\n",
       " '07080101',\n",
       " '07080102',\n",
       " '07080203',\n",
       " '07080204',\n",
       " '07080205',\n",
       " '07080206',\n",
       " '07080207',\n",
       " '07080209',\n",
       " '07090001',\n",
       " '07090002',\n",
       " '07090003',\n",
       " '07090004',\n",
       " '07090005',\n",
       " '07090006',\n",
       " '07090007',\n",
       " '07100004',\n",
       " '07100008',\n",
       " '07110001',\n",
       " '07110009',\n",
       " '07120001',\n",
       " '07120002',\n",
       " '07120003',\n",
       " '07120004',\n",
       " '07120005',\n",
       " '07120006',\n",
       " '07120007',\n",
       " '07130001',\n",
       " '07130003',\n",
       " '07130004',\n",
       " '07130008',\n",
       " '07140105',\n",
       " '07140106',\n",
       " '07140108',\n",
       " '08010100',\n",
       " '08010201',\n",
       " '08010202',\n",
       " '08010203',\n",
       " '08010204',\n",
       " '08010205',\n",
       " '08020203',\n",
       " '09020108',\n",
       " '09020301',\n",
       " '09020302',\n",
       " '09020303',\n",
       " '09020305',\n",
       " '09020309',\n",
       " '09020314',\n",
       " '09030001',\n",
       " '09030003',\n",
       " '09030005',\n",
       " '09030008',\n",
       " '09030009',\n",
       " '10170201',\n",
       " '10170202',\n",
       " '10170203',\n",
       " '10230003',\n",
       " '10230006',\n",
       " '17010201',\n",
       " '17010211']"
      ]
     },
     "execution_count": 4,
     "metadata": {},
     "output_type": "execute_result"
    }
   ],
   "source": [
    "#ppdt.getSpeciesHuc8List('umbra limi')"
   ]
  },
  {
   "cell_type": "code",
   "execution_count": 4,
   "metadata": {},
   "outputs": [],
   "source": [
    "hash_ids_in_Xresults=ppdt.XPredictHashIDComidHashResultsDB(hash_id=None)"
   ]
  },
  {
   "cell_type": "code",
   "execution_count": 5,
   "metadata": {},
   "outputs": [],
   "source": [
    "spec_idx=2000"
   ]
  },
  {
   "cell_type": "code",
   "execution_count": 6,
   "metadata": {},
   "outputs": [
    {
     "name": "stdout",
     "output_type": "stream",
     "text": [
      "fc15607cd67d34ad05797a87419e9128\n"
     ]
    }
   ],
   "source": [
    "print(hash_ids_in_Xresults[spec_idx])\n",
    "db=ppdt.XPredictHashIDComidHashResultsDB(hash_id=hash_ids_in_Xresults[spec_idx])"
   ]
  },
  {
   "cell_type": "code",
   "execution_count": 7,
   "metadata": {},
   "outputs": [
    {
     "data": {
      "text/plain": [
       "2"
      ]
     },
     "execution_count": 7,
     "metadata": {},
     "output_type": "execute_result"
    }
   ],
   "source": [
    "len(list(db.keys()))"
   ]
  },
  {
   "cell_type": "code",
   "execution_count": 8,
   "metadata": {},
   "outputs": [
    {
     "data": {
      "text/html": [
       "<div>\n",
       "<style scoped>\n",
       "    .dataframe tbody tr th:only-of-type {\n",
       "        vertical-align: middle;\n",
       "    }\n",
       "\n",
       "    .dataframe tbody tr th {\n",
       "        vertical-align: top;\n",
       "    }\n",
       "\n",
       "    .dataframe thead tr th {\n",
       "        text-align: left;\n",
       "    }\n",
       "\n",
       "    .dataframe thead tr:last-of-type th {\n",
       "        text-align: right;\n",
       "    }\n",
       "</style>\n",
       "<table border=\"1\" class=\"dataframe\">\n",
       "  <thead>\n",
       "    <tr>\n",
       "      <th></th>\n",
       "      <th></th>\n",
       "      <th></th>\n",
       "      <th>var</th>\n",
       "      <th>y</th>\n",
       "    </tr>\n",
       "    <tr>\n",
       "      <th></th>\n",
       "      <th></th>\n",
       "      <th></th>\n",
       "      <th>rep_idx</th>\n",
       "      <th>0</th>\n",
       "    </tr>\n",
       "    <tr>\n",
       "      <th></th>\n",
       "      <th></th>\n",
       "      <th></th>\n",
       "      <th>split_idx</th>\n",
       "      <th>0</th>\n",
       "    </tr>\n",
       "    <tr>\n",
       "      <th>species</th>\n",
       "      <th>estimator</th>\n",
       "      <th>HUC12</th>\n",
       "      <th>COMID</th>\n",
       "      <th></th>\n",
       "    </tr>\n",
       "  </thead>\n",
       "  <tbody>\n",
       "    <tr>\n",
       "      <th rowspan=\"11\" valign=\"top\">percina kathae</th>\n",
       "      <th rowspan=\"11\" valign=\"top\">hist-gradient-boosting-classifier</th>\n",
       "      <th rowspan=\"5\" valign=\"top\">051302060708</th>\n",
       "      <th>10170092</th>\n",
       "      <td>0</td>\n",
       "    </tr>\n",
       "    <tr>\n",
       "      <th>10169858</th>\n",
       "      <td>0</td>\n",
       "    </tr>\n",
       "    <tr>\n",
       "      <th>10172878</th>\n",
       "      <td>0</td>\n",
       "    </tr>\n",
       "    <tr>\n",
       "      <th>10170090</th>\n",
       "      <td>0</td>\n",
       "    </tr>\n",
       "    <tr>\n",
       "      <th>10170088</th>\n",
       "      <td>0</td>\n",
       "    </tr>\n",
       "    <tr>\n",
       "      <th>...</th>\n",
       "      <th>...</th>\n",
       "      <td>...</td>\n",
       "    </tr>\n",
       "    <tr>\n",
       "      <th rowspan=\"5\" valign=\"top\">031502010704</th>\n",
       "      <th>21686490</th>\n",
       "      <td>0</td>\n",
       "    </tr>\n",
       "    <tr>\n",
       "      <th>21686470</th>\n",
       "      <td>0</td>\n",
       "    </tr>\n",
       "    <tr>\n",
       "      <th>21680584</th>\n",
       "      <td>0</td>\n",
       "    </tr>\n",
       "    <tr>\n",
       "      <th>21680668</th>\n",
       "      <td>0</td>\n",
       "    </tr>\n",
       "    <tr>\n",
       "      <th>21680890</th>\n",
       "      <td>0</td>\n",
       "    </tr>\n",
       "  </tbody>\n",
       "</table>\n",
       "<p>97832 rows × 1 columns</p>\n",
       "</div>"
      ],
      "text/plain": [
       "var                                                                     y\n",
       "rep_idx                                                                 0\n",
       "split_idx                                                               0\n",
       "species        estimator                         HUC12        COMID      \n",
       "percina kathae hist-gradient-boosting-classifier 051302060708 10170092  0\n",
       "                                                              10169858  0\n",
       "                                                              10172878  0\n",
       "                                                              10170090  0\n",
       "                                                              10170088  0\n",
       "...                                                                    ..\n",
       "                                                 031502010704 21686490  0\n",
       "                                                              21686470  0\n",
       "                                                              21680584  0\n",
       "                                                              21680668  0\n",
       "                                                              21680890  0\n",
       "\n",
       "[97832 rows x 1 columns]"
      ]
     },
     "execution_count": 8,
     "metadata": {},
     "output_type": "execute_result"
    }
   ],
   "source": [
    "db[list(db.keys())[0]]"
   ]
  },
  {
   "cell_type": "code",
   "execution_count": 9,
   "metadata": {},
   "outputs": [
    {
     "data": {
      "text/plain": [
       "SqliteDict(data_tool/XPredictHashIDComidHashResults.sqlite)"
      ]
     },
     "execution_count": 9,
     "metadata": {},
     "output_type": "execute_result"
    }
   ],
   "source": [
    "db"
   ]
  },
  {
   "cell_type": "code",
   "execution_count": 10,
   "metadata": {},
   "outputs": [],
   "source": [
    "sdb=ppdt.XpredictSpeciesResults('percina kathae',hash_ids_in_Xresults[spec_idx])"
   ]
  },
  {
   "cell_type": "code",
   "execution_count": 11,
   "metadata": {},
   "outputs": [
    {
     "data": {
      "text/html": [
       "<div>\n",
       "<style scoped>\n",
       "    .dataframe tbody tr th:only-of-type {\n",
       "        vertical-align: middle;\n",
       "    }\n",
       "\n",
       "    .dataframe tbody tr th {\n",
       "        vertical-align: top;\n",
       "    }\n",
       "\n",
       "    .dataframe thead tr th {\n",
       "        text-align: left;\n",
       "    }\n",
       "\n",
       "    .dataframe thead tr:last-of-type th {\n",
       "        text-align: right;\n",
       "    }\n",
       "</style>\n",
       "<table border=\"1\" class=\"dataframe\">\n",
       "  <thead>\n",
       "    <tr>\n",
       "      <th></th>\n",
       "      <th></th>\n",
       "      <th></th>\n",
       "      <th>var</th>\n",
       "      <th>y</th>\n",
       "    </tr>\n",
       "    <tr>\n",
       "      <th></th>\n",
       "      <th></th>\n",
       "      <th></th>\n",
       "      <th>rep_idx</th>\n",
       "      <th>0</th>\n",
       "    </tr>\n",
       "    <tr>\n",
       "      <th></th>\n",
       "      <th></th>\n",
       "      <th></th>\n",
       "      <th>split_idx</th>\n",
       "      <th>0</th>\n",
       "    </tr>\n",
       "    <tr>\n",
       "      <th>species</th>\n",
       "      <th>estimator</th>\n",
       "      <th>HUC12</th>\n",
       "      <th>COMID</th>\n",
       "      <th></th>\n",
       "    </tr>\n",
       "  </thead>\n",
       "  <tbody>\n",
       "    <tr>\n",
       "      <th rowspan=\"11\" valign=\"top\">percina kathae</th>\n",
       "      <th rowspan=\"11\" valign=\"top\">hist-gradient-boosting-classifier</th>\n",
       "      <th rowspan=\"5\" valign=\"top\">051302060708</th>\n",
       "      <th>10170092</th>\n",
       "      <td>0</td>\n",
       "    </tr>\n",
       "    <tr>\n",
       "      <th>10169858</th>\n",
       "      <td>0</td>\n",
       "    </tr>\n",
       "    <tr>\n",
       "      <th>10172878</th>\n",
       "      <td>0</td>\n",
       "    </tr>\n",
       "    <tr>\n",
       "      <th>10170090</th>\n",
       "      <td>0</td>\n",
       "    </tr>\n",
       "    <tr>\n",
       "      <th>10170088</th>\n",
       "      <td>0</td>\n",
       "    </tr>\n",
       "    <tr>\n",
       "      <th>...</th>\n",
       "      <th>...</th>\n",
       "      <td>...</td>\n",
       "    </tr>\n",
       "    <tr>\n",
       "      <th rowspan=\"5\" valign=\"top\">031502010704</th>\n",
       "      <th>21686490</th>\n",
       "      <td>0</td>\n",
       "    </tr>\n",
       "    <tr>\n",
       "      <th>21686470</th>\n",
       "      <td>0</td>\n",
       "    </tr>\n",
       "    <tr>\n",
       "      <th>21680584</th>\n",
       "      <td>0</td>\n",
       "    </tr>\n",
       "    <tr>\n",
       "      <th>21680668</th>\n",
       "      <td>0</td>\n",
       "    </tr>\n",
       "    <tr>\n",
       "      <th>21680890</th>\n",
       "      <td>0</td>\n",
       "    </tr>\n",
       "  </tbody>\n",
       "</table>\n",
       "<p>97832 rows × 1 columns</p>\n",
       "</div>"
      ],
      "text/plain": [
       "var                                                                     y\n",
       "rep_idx                                                                 0\n",
       "split_idx                                                               0\n",
       "species        estimator                         HUC12        COMID      \n",
       "percina kathae hist-gradient-boosting-classifier 051302060708 10170092  0\n",
       "                                                              10169858  0\n",
       "                                                              10172878  0\n",
       "                                                              10170090  0\n",
       "                                                              10170088  0\n",
       "...                                                                    ..\n",
       "                                                 031502010704 21686490  0\n",
       "                                                              21686470  0\n",
       "                                                              21680584  0\n",
       "                                                              21680668  0\n",
       "                                                              21680890  0\n",
       "\n",
       "[97832 rows x 1 columns]"
      ]
     },
     "execution_count": 11,
     "metadata": {},
     "output_type": "execute_result"
    }
   ],
   "source": [
    "sdb[list(sdb.keys())[0]]"
   ]
  },
  {
   "cell_type": "code",
   "execution_count": 12,
   "metadata": {},
   "outputs": [
    {
     "ename": "SyntaxError",
     "evalue": "invalid syntax (<ipython-input-12-60215a10e730>, line 1)",
     "output_type": "error",
     "traceback": [
      "\u001b[0;36m  File \u001b[0;32m\"<ipython-input-12-60215a10e730>\"\u001b[0;36m, line \u001b[0;32m1\u001b[0m\n\u001b[0;31m    -\u001b[0m\n\u001b[0m     ^\u001b[0m\n\u001b[0;31mSyntaxError\u001b[0m\u001b[0;31m:\u001b[0m invalid syntax\n"
     ]
    }
   ],
   "source": [
    "-"
   ]
  },
  {
   "cell_type": "code",
   "execution_count": null,
   "metadata": {},
   "outputs": [],
   "source": [
    "#ppdt.generateXPredictSpeciesComidBlockDicts() # run once"
   ]
  },
  {
   "cell_type": "code",
   "execution_count": null,
   "metadata": {},
   "outputs": [],
   "source": [
    "c_hash_block_db=ppdt.c_hash_block_db()"
   ]
  },
  {
   "cell_type": "code",
   "execution_count": null,
   "metadata": {},
   "outputs": [],
   "source": [
    "keys=list(c_hash_block_db.keys())\n",
    "print(len(keys))\n",
    "keys[:5]"
   ]
  },
  {
   "cell_type": "code",
   "execution_count": null,
   "metadata": {},
   "outputs": [],
   "source": [
    "for hash_key,c_list in c_hash_block_db[keys[0]].items():\n",
    "    print(len(c_list))"
   ]
  },
  {
   "cell_type": "code",
   "execution_count": null,
   "metadata": {},
   "outputs": [],
   "source": [
    "assert False, 'old approach below'"
   ]
  },
  {
   "cell_type": "code",
   "execution_count": null,
   "metadata": {},
   "outputs": [],
   "source": [
    "#db=ppdt.comidsiteinfo_db()\n",
    "#len(db)"
   ]
  },
  {
   "cell_type": "code",
   "execution_count": null,
   "metadata": {},
   "outputs": [],
   "source": [
    "#speclist=ppdt.getXdb()"
   ]
  },
  {
   "cell_type": "code",
   "execution_count": null,
   "metadata": {},
   "outputs": [],
   "source": [
    "ppdt.generateXPredictData(spec_list=None,rebuild=True)"
   ]
  },
  {
   "cell_type": "code",
   "execution_count": null,
   "metadata": {},
   "outputs": [],
   "source": []
  },
  {
   "cell_type": "code",
   "execution_count": null,
   "metadata": {},
   "outputs": [],
   "source": []
  },
  {
   "cell_type": "code",
   "execution_count": null,
   "metadata": {},
   "outputs": [],
   "source": []
  },
  {
   "cell_type": "code",
   "execution_count": null,
   "metadata": {},
   "outputs": [],
   "source": []
  },
  {
   "cell_type": "code",
   "execution_count": null,
   "metadata": {},
   "outputs": [],
   "source": []
  }
 ],
 "metadata": {
  "kernelspec": {
   "display_name": "Python 3 (ipykernel)",
   "language": "python",
   "name": "python3"
  },
  "language_info": {
   "codemirror_mode": {
    "name": "ipython",
    "version": 3
   },
   "file_extension": ".py",
   "mimetype": "text/x-python",
   "name": "python",
   "nbconvert_exporter": "python",
   "pygments_lexer": "ipython3",
   "version": "3.8.12"
  }
 },
 "nbformat": 4,
 "nbformat_minor": 4
}
