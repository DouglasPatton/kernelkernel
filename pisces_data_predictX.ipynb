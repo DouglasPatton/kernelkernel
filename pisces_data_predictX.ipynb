{
 "cells": [
  {
   "cell_type": "code",
   "execution_count": 1,
   "metadata": {},
   "outputs": [
    {
     "data": {
      "text/plain": [
       "'/home/dp/hdd3/gits/kernelkernel'"
      ]
     },
     "execution_count": 1,
     "metadata": {},
     "output_type": "execute_result"
    }
   ],
   "source": [
    "import os ; os.getcwd()"
   ]
  },
  {
   "cell_type": "code",
   "execution_count": 2,
   "metadata": {},
   "outputs": [],
   "source": [
    "from pi_data_predict import PiscesPredictDataTool"
   ]
  },
  {
   "cell_type": "code",
   "execution_count": 3,
   "metadata": {},
   "outputs": [],
   "source": [
    "ppdt=PiscesPredictDataTool()"
   ]
  },
  {
   "cell_type": "code",
   "execution_count": 4,
   "metadata": {},
   "outputs": [],
   "source": [
    "#view an example of the data storage for xpredict with comids broken into chunks of 100k"
   ]
  },
  {
   "cell_type": "code",
   "execution_count": 5,
   "metadata": {},
   "outputs": [],
   "source": [
    "hash_id_list=ppdt.XPredictHashIDComidHashResultsDB(hash_id=None)"
   ]
  },
  {
   "cell_type": "code",
   "execution_count": 6,
   "metadata": {},
   "outputs": [],
   "source": [
    "key1=list(ppdt.XPredictHashIDComidHashResultsDB(hash_id=hash_id_list[0]).keys())[0]\n"
   ]
  },
  {
   "cell_type": "code",
   "execution_count": 7,
   "metadata": {},
   "outputs": [],
   "source": [
    "df=ppdt.XPredictHashIDComidHashResultsDB(hash_id=hash_id_list[0])[key1]"
   ]
  },
  {
   "cell_type": "code",
   "execution_count": 8,
   "metadata": {},
   "outputs": [
    {
     "name": "stdout",
     "output_type": "stream",
     "text": [
      "(61548, 50)\n"
     ]
    },
    {
     "data": {
      "text/html": [
       "<div>\n",
       "<style scoped>\n",
       "    .dataframe tbody tr th:only-of-type {\n",
       "        vertical-align: middle;\n",
       "    }\n",
       "\n",
       "    .dataframe tbody tr th {\n",
       "        vertical-align: top;\n",
       "    }\n",
       "\n",
       "    .dataframe thead tr th {\n",
       "        text-align: left;\n",
       "    }\n",
       "\n",
       "    .dataframe thead tr:last-of-type th {\n",
       "        text-align: right;\n",
       "    }\n",
       "</style>\n",
       "<table border=\"1\" class=\"dataframe\">\n",
       "  <thead>\n",
       "    <tr>\n",
       "      <th></th>\n",
       "      <th></th>\n",
       "      <th></th>\n",
       "      <th>var</th>\n",
       "      <th colspan=\"21\" halign=\"left\">y</th>\n",
       "    </tr>\n",
       "    <tr>\n",
       "      <th></th>\n",
       "      <th></th>\n",
       "      <th></th>\n",
       "      <th>rep_idx</th>\n",
       "      <th colspan=\"5\" halign=\"left\">0</th>\n",
       "      <th colspan=\"5\" halign=\"left\">1</th>\n",
       "      <th>...</th>\n",
       "      <th colspan=\"5\" halign=\"left\">8</th>\n",
       "      <th colspan=\"5\" halign=\"left\">9</th>\n",
       "    </tr>\n",
       "    <tr>\n",
       "      <th></th>\n",
       "      <th></th>\n",
       "      <th></th>\n",
       "      <th>split_idx</th>\n",
       "      <th>0</th>\n",
       "      <th>1</th>\n",
       "      <th>2</th>\n",
       "      <th>3</th>\n",
       "      <th>4</th>\n",
       "      <th>0</th>\n",
       "      <th>1</th>\n",
       "      <th>2</th>\n",
       "      <th>3</th>\n",
       "      <th>4</th>\n",
       "      <th>...</th>\n",
       "      <th>0</th>\n",
       "      <th>1</th>\n",
       "      <th>2</th>\n",
       "      <th>3</th>\n",
       "      <th>4</th>\n",
       "      <th>0</th>\n",
       "      <th>1</th>\n",
       "      <th>2</th>\n",
       "      <th>3</th>\n",
       "      <th>4</th>\n",
       "    </tr>\n",
       "    <tr>\n",
       "      <th>species</th>\n",
       "      <th>estimator</th>\n",
       "      <th>HUC12</th>\n",
       "      <th>COMID</th>\n",
       "      <th></th>\n",
       "      <th></th>\n",
       "      <th></th>\n",
       "      <th></th>\n",
       "      <th></th>\n",
       "      <th></th>\n",
       "      <th></th>\n",
       "      <th></th>\n",
       "      <th></th>\n",
       "      <th></th>\n",
       "      <th></th>\n",
       "      <th></th>\n",
       "      <th></th>\n",
       "      <th></th>\n",
       "      <th></th>\n",
       "      <th></th>\n",
       "      <th></th>\n",
       "      <th></th>\n",
       "      <th></th>\n",
       "      <th></th>\n",
       "      <th></th>\n",
       "    </tr>\n",
       "  </thead>\n",
       "  <tbody>\n",
       "    <tr>\n",
       "      <th rowspan=\"5\" valign=\"top\">notropis chrosomus</th>\n",
       "      <th rowspan=\"5\" valign=\"top\">linear-probability-model</th>\n",
       "      <th rowspan=\"5\" valign=\"top\">031501010504</th>\n",
       "      <th>12194274</th>\n",
       "      <td>0.0</td>\n",
       "      <td>0.0</td>\n",
       "      <td>0.0</td>\n",
       "      <td>0.0</td>\n",
       "      <td>0.0</td>\n",
       "      <td>0.0</td>\n",
       "      <td>0.0</td>\n",
       "      <td>0.0</td>\n",
       "      <td>0.0</td>\n",
       "      <td>0.0</td>\n",
       "      <td>...</td>\n",
       "      <td>0.0</td>\n",
       "      <td>0.0</td>\n",
       "      <td>0.0</td>\n",
       "      <td>0.0</td>\n",
       "      <td>0.0</td>\n",
       "      <td>0.0</td>\n",
       "      <td>0.0</td>\n",
       "      <td>0.0</td>\n",
       "      <td>0.0</td>\n",
       "      <td>0.0</td>\n",
       "    </tr>\n",
       "    <tr>\n",
       "      <th>12194272</th>\n",
       "      <td>0.0</td>\n",
       "      <td>0.0</td>\n",
       "      <td>0.0</td>\n",
       "      <td>0.0</td>\n",
       "      <td>0.0</td>\n",
       "      <td>0.0</td>\n",
       "      <td>0.0</td>\n",
       "      <td>0.0</td>\n",
       "      <td>0.0</td>\n",
       "      <td>0.0</td>\n",
       "      <td>...</td>\n",
       "      <td>0.0</td>\n",
       "      <td>0.0</td>\n",
       "      <td>0.0</td>\n",
       "      <td>0.0</td>\n",
       "      <td>0.0</td>\n",
       "      <td>0.0</td>\n",
       "      <td>0.0</td>\n",
       "      <td>0.0</td>\n",
       "      <td>0.0</td>\n",
       "      <td>0.0</td>\n",
       "    </tr>\n",
       "    <tr>\n",
       "      <th>12194426</th>\n",
       "      <td>0.0</td>\n",
       "      <td>0.0</td>\n",
       "      <td>0.0</td>\n",
       "      <td>0.0</td>\n",
       "      <td>0.0</td>\n",
       "      <td>0.0</td>\n",
       "      <td>0.0</td>\n",
       "      <td>0.0</td>\n",
       "      <td>0.0</td>\n",
       "      <td>0.0</td>\n",
       "      <td>...</td>\n",
       "      <td>0.0</td>\n",
       "      <td>0.0</td>\n",
       "      <td>0.0</td>\n",
       "      <td>0.0</td>\n",
       "      <td>0.0</td>\n",
       "      <td>0.0</td>\n",
       "      <td>0.0</td>\n",
       "      <td>0.0</td>\n",
       "      <td>0.0</td>\n",
       "      <td>0.0</td>\n",
       "    </tr>\n",
       "    <tr>\n",
       "      <th>12194242</th>\n",
       "      <td>0.0</td>\n",
       "      <td>0.0</td>\n",
       "      <td>0.0</td>\n",
       "      <td>0.0</td>\n",
       "      <td>0.0</td>\n",
       "      <td>0.0</td>\n",
       "      <td>0.0</td>\n",
       "      <td>0.0</td>\n",
       "      <td>0.0</td>\n",
       "      <td>0.0</td>\n",
       "      <td>...</td>\n",
       "      <td>0.0</td>\n",
       "      <td>0.0</td>\n",
       "      <td>0.0</td>\n",
       "      <td>0.0</td>\n",
       "      <td>0.0</td>\n",
       "      <td>0.0</td>\n",
       "      <td>0.0</td>\n",
       "      <td>0.0</td>\n",
       "      <td>0.0</td>\n",
       "      <td>0.0</td>\n",
       "    </tr>\n",
       "    <tr>\n",
       "      <th>12194234</th>\n",
       "      <td>0.0</td>\n",
       "      <td>0.0</td>\n",
       "      <td>0.0</td>\n",
       "      <td>0.0</td>\n",
       "      <td>0.0</td>\n",
       "      <td>0.0</td>\n",
       "      <td>0.0</td>\n",
       "      <td>0.0</td>\n",
       "      <td>0.0</td>\n",
       "      <td>0.0</td>\n",
       "      <td>...</td>\n",
       "      <td>0.0</td>\n",
       "      <td>0.0</td>\n",
       "      <td>0.0</td>\n",
       "      <td>0.0</td>\n",
       "      <td>0.0</td>\n",
       "      <td>0.0</td>\n",
       "      <td>0.0</td>\n",
       "      <td>0.0</td>\n",
       "      <td>0.0</td>\n",
       "      <td>0.0</td>\n",
       "    </tr>\n",
       "  </tbody>\n",
       "</table>\n",
       "<p>5 rows × 50 columns</p>\n",
       "</div>"
      ],
      "text/plain": [
       "var                                                                  y       \\\n",
       "rep_idx                                                              0        \n",
       "split_idx                                                            0    1   \n",
       "species            estimator                HUC12        COMID                \n",
       "notropis chrosomus linear-probability-model 031501010504 12194274  0.0  0.0   \n",
       "                                                         12194272  0.0  0.0   \n",
       "                                                         12194426  0.0  0.0   \n",
       "                                                         12194242  0.0  0.0   \n",
       "                                                         12194234  0.0  0.0   \n",
       "\n",
       "var                                                                          \\\n",
       "rep_idx                                                                       \n",
       "split_idx                                                            2    3   \n",
       "species            estimator                HUC12        COMID                \n",
       "notropis chrosomus linear-probability-model 031501010504 12194274  0.0  0.0   \n",
       "                                                         12194272  0.0  0.0   \n",
       "                                                         12194426  0.0  0.0   \n",
       "                                                         12194242  0.0  0.0   \n",
       "                                                         12194234  0.0  0.0   \n",
       "\n",
       "var                                                                          \\\n",
       "rep_idx                                                                   1   \n",
       "split_idx                                                            4    0   \n",
       "species            estimator                HUC12        COMID                \n",
       "notropis chrosomus linear-probability-model 031501010504 12194274  0.0  0.0   \n",
       "                                                         12194272  0.0  0.0   \n",
       "                                                         12194426  0.0  0.0   \n",
       "                                                         12194242  0.0  0.0   \n",
       "                                                         12194234  0.0  0.0   \n",
       "\n",
       "var                                                                          \\\n",
       "rep_idx                                                                       \n",
       "split_idx                                                            1    2   \n",
       "species            estimator                HUC12        COMID                \n",
       "notropis chrosomus linear-probability-model 031501010504 12194274  0.0  0.0   \n",
       "                                                         12194272  0.0  0.0   \n",
       "                                                         12194426  0.0  0.0   \n",
       "                                                         12194242  0.0  0.0   \n",
       "                                                         12194234  0.0  0.0   \n",
       "\n",
       "var                                                                          \\\n",
       "rep_idx                                                                       \n",
       "split_idx                                                            3    4   \n",
       "species            estimator                HUC12        COMID                \n",
       "notropis chrosomus linear-probability-model 031501010504 12194274  0.0  0.0   \n",
       "                                                         12194272  0.0  0.0   \n",
       "                                                         12194426  0.0  0.0   \n",
       "                                                         12194242  0.0  0.0   \n",
       "                                                         12194234  0.0  0.0   \n",
       "\n",
       "var                                                                ...       \\\n",
       "rep_idx                                                            ...    8   \n",
       "split_idx                                                          ...    0   \n",
       "species            estimator                HUC12        COMID     ...        \n",
       "notropis chrosomus linear-probability-model 031501010504 12194274  ...  0.0   \n",
       "                                                         12194272  ...  0.0   \n",
       "                                                         12194426  ...  0.0   \n",
       "                                                         12194242  ...  0.0   \n",
       "                                                         12194234  ...  0.0   \n",
       "\n",
       "var                                                                          \\\n",
       "rep_idx                                                                       \n",
       "split_idx                                                            1    2   \n",
       "species            estimator                HUC12        COMID                \n",
       "notropis chrosomus linear-probability-model 031501010504 12194274  0.0  0.0   \n",
       "                                                         12194272  0.0  0.0   \n",
       "                                                         12194426  0.0  0.0   \n",
       "                                                         12194242  0.0  0.0   \n",
       "                                                         12194234  0.0  0.0   \n",
       "\n",
       "var                                                                          \\\n",
       "rep_idx                                                                       \n",
       "split_idx                                                            3    4   \n",
       "species            estimator                HUC12        COMID                \n",
       "notropis chrosomus linear-probability-model 031501010504 12194274  0.0  0.0   \n",
       "                                                         12194272  0.0  0.0   \n",
       "                                                         12194426  0.0  0.0   \n",
       "                                                         12194242  0.0  0.0   \n",
       "                                                         12194234  0.0  0.0   \n",
       "\n",
       "var                                                                          \\\n",
       "rep_idx                                                              9        \n",
       "split_idx                                                            0    1   \n",
       "species            estimator                HUC12        COMID                \n",
       "notropis chrosomus linear-probability-model 031501010504 12194274  0.0  0.0   \n",
       "                                                         12194272  0.0  0.0   \n",
       "                                                         12194426  0.0  0.0   \n",
       "                                                         12194242  0.0  0.0   \n",
       "                                                         12194234  0.0  0.0   \n",
       "\n",
       "var                                                                          \\\n",
       "rep_idx                                                                       \n",
       "split_idx                                                            2    3   \n",
       "species            estimator                HUC12        COMID                \n",
       "notropis chrosomus linear-probability-model 031501010504 12194274  0.0  0.0   \n",
       "                                                         12194272  0.0  0.0   \n",
       "                                                         12194426  0.0  0.0   \n",
       "                                                         12194242  0.0  0.0   \n",
       "                                                         12194234  0.0  0.0   \n",
       "\n",
       "var                                                                     \n",
       "rep_idx                                                                 \n",
       "split_idx                                                            4  \n",
       "species            estimator                HUC12        COMID          \n",
       "notropis chrosomus linear-probability-model 031501010504 12194274  0.0  \n",
       "                                                         12194272  0.0  \n",
       "                                                         12194426  0.0  \n",
       "                                                         12194242  0.0  \n",
       "                                                         12194234  0.0  \n",
       "\n",
       "[5 rows x 50 columns]"
      ]
     },
     "execution_count": 8,
     "metadata": {},
     "output_type": "execute_result"
    }
   ],
   "source": [
    "print(df.shape)\n",
    "df.head()"
   ]
  },
  {
   "cell_type": "code",
   "execution_count": 9,
   "metadata": {},
   "outputs": [
    {
     "ename": "SyntaxError",
     "evalue": "invalid syntax (<ipython-input-9-60215a10e730>, line 1)",
     "output_type": "error",
     "traceback": [
      "\u001b[0;36m  File \u001b[0;32m\"<ipython-input-9-60215a10e730>\"\u001b[0;36m, line \u001b[0;32m1\u001b[0m\n\u001b[0;31m    -\u001b[0m\n\u001b[0m     ^\u001b[0m\n\u001b[0;31mSyntaxError\u001b[0m\u001b[0;31m:\u001b[0m invalid syntax\n"
     ]
    }
   ],
   "source": [
    "-"
   ]
  },
  {
   "cell_type": "code",
   "execution_count": null,
   "metadata": {},
   "outputs": [],
   "source": [
    "#ppdt.getSpeciesHuc8List('umbra limi')"
   ]
  },
  {
   "cell_type": "code",
   "execution_count": null,
   "metadata": {},
   "outputs": [],
   "source": [
    "hash_ids_in_Xresults=ppdt.XPredictHashIDComidHashResultsDB(hash_id=None)"
   ]
  },
  {
   "cell_type": "code",
   "execution_count": null,
   "metadata": {},
   "outputs": [],
   "source": [
    "spec_idx=2000"
   ]
  },
  {
   "cell_type": "code",
   "execution_count": null,
   "metadata": {},
   "outputs": [],
   "source": [
    "print(hash_ids_in_Xresults[spec_idx])\n",
    "db=ppdt.XPredictHashIDComidHashResultsDB(hash_id=hash_ids_in_Xresults[spec_idx])"
   ]
  },
  {
   "cell_type": "code",
   "execution_count": null,
   "metadata": {},
   "outputs": [],
   "source": [
    "len(list(db.keys()))"
   ]
  },
  {
   "cell_type": "code",
   "execution_count": null,
   "metadata": {},
   "outputs": [],
   "source": [
    "db[list(db.keys())[0]]"
   ]
  },
  {
   "cell_type": "code",
   "execution_count": null,
   "metadata": {},
   "outputs": [],
   "source": [
    "db"
   ]
  },
  {
   "cell_type": "code",
   "execution_count": null,
   "metadata": {},
   "outputs": [],
   "source": [
    "sdb=ppdt.XpredictSpeciesResults('percina kathae',hash_ids_in_Xresults[spec_idx])"
   ]
  },
  {
   "cell_type": "code",
   "execution_count": null,
   "metadata": {},
   "outputs": [],
   "source": [
    "sdb[list(sdb.keys())[0]]"
   ]
  },
  {
   "cell_type": "code",
   "execution_count": null,
   "metadata": {},
   "outputs": [],
   "source": [
    "-"
   ]
  },
  {
   "cell_type": "code",
   "execution_count": null,
   "metadata": {},
   "outputs": [],
   "source": [
    "#ppdt.generateXPredictSpeciesComidBlockDicts() # run once"
   ]
  },
  {
   "cell_type": "code",
   "execution_count": null,
   "metadata": {},
   "outputs": [],
   "source": [
    "c_hash_block_db=ppdt.c_hash_block_db()"
   ]
  },
  {
   "cell_type": "code",
   "execution_count": null,
   "metadata": {},
   "outputs": [],
   "source": [
    "keys=list(c_hash_block_db.keys())\n",
    "print(len(keys))\n",
    "keys[:5]"
   ]
  },
  {
   "cell_type": "code",
   "execution_count": null,
   "metadata": {},
   "outputs": [],
   "source": [
    "for hash_key,c_list in c_hash_block_db[keys[0]].items():\n",
    "    print(len(c_list))"
   ]
  },
  {
   "cell_type": "code",
   "execution_count": null,
   "metadata": {},
   "outputs": [],
   "source": [
    "assert False, 'old approach below'"
   ]
  },
  {
   "cell_type": "code",
   "execution_count": null,
   "metadata": {},
   "outputs": [],
   "source": [
    "#db=ppdt.comidsiteinfo_db()\n",
    "#len(db)"
   ]
  },
  {
   "cell_type": "code",
   "execution_count": null,
   "metadata": {},
   "outputs": [],
   "source": [
    "#speclist=ppdt.getXdb()"
   ]
  },
  {
   "cell_type": "code",
   "execution_count": null,
   "metadata": {},
   "outputs": [],
   "source": [
    "ppdt.generateXPredictData(spec_list=None,rebuild=True)"
   ]
  },
  {
   "cell_type": "code",
   "execution_count": null,
   "metadata": {},
   "outputs": [],
   "source": []
  },
  {
   "cell_type": "code",
   "execution_count": null,
   "metadata": {},
   "outputs": [],
   "source": []
  },
  {
   "cell_type": "code",
   "execution_count": null,
   "metadata": {},
   "outputs": [],
   "source": []
  },
  {
   "cell_type": "code",
   "execution_count": null,
   "metadata": {},
   "outputs": [],
   "source": []
  },
  {
   "cell_type": "code",
   "execution_count": null,
   "metadata": {},
   "outputs": [],
   "source": []
  }
 ],
 "metadata": {
  "kernelspec": {
   "display_name": "Python 3",
   "language": "python",
   "name": "python3"
  },
  "language_info": {
   "codemirror_mode": {
    "name": "ipython",
    "version": 3
   },
   "file_extension": ".py",
   "mimetype": "text/x-python",
   "name": "python",
   "nbconvert_exporter": "python",
   "pygments_lexer": "ipython3",
   "version": "3.8.2"
  }
 },
 "nbformat": 4,
 "nbformat_minor": 4
}
