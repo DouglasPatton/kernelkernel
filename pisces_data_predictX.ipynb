{
 "cells": [
  {
   "cell_type": "code",
   "execution_count": 1,
   "metadata": {},
   "outputs": [
    {
     "data": {
      "text/plain": [
       "'/home/dp/hdd4/kernelkernel'"
      ]
     },
     "execution_count": 1,
     "metadata": {},
     "output_type": "execute_result"
    }
   ],
   "source": [
    "import os ; os.getcwd()"
   ]
  },
  {
   "cell_type": "code",
   "execution_count": 2,
   "metadata": {},
   "outputs": [],
   "source": [
    "from pi_data_predict import PiscesPredictDataTool"
   ]
  },
  {
   "cell_type": "code",
   "execution_count": 20,
   "metadata": {},
   "outputs": [],
   "source": [
    "ppdt=PiscesPredictDataTool(cv_run=False)"
   ]
  },
  {
   "cell_type": "code",
   "execution_count": 21,
   "metadata": {},
   "outputs": [],
   "source": [
    "huc_species_series_dict=ppdt.BuildBigSpeciesXPredictDF(species='percina kathae',estimator_name=None,hucdigitcount=4)"
   ]
  },
  {
   "cell_type": "code",
   "execution_count": 22,
   "metadata": {},
   "outputs": [
    {
     "data": {
      "text/html": [
       "<div>\n",
       "<style scoped>\n",
       "    .dataframe tbody tr th:only-of-type {\n",
       "        vertical-align: middle;\n",
       "    }\n",
       "\n",
       "    .dataframe tbody tr th {\n",
       "        vertical-align: top;\n",
       "    }\n",
       "\n",
       "    .dataframe thead tr th {\n",
       "        text-align: left;\n",
       "    }\n",
       "\n",
       "    .dataframe thead tr:last-of-type th {\n",
       "        text-align: right;\n",
       "    }\n",
       "</style>\n",
       "<table border=\"1\" class=\"dataframe\">\n",
       "  <thead>\n",
       "    <tr>\n",
       "      <th></th>\n",
       "      <th>var</th>\n",
       "      <th>y</th>\n",
       "    </tr>\n",
       "    <tr>\n",
       "      <th></th>\n",
       "      <th>rep_idx</th>\n",
       "      <th>0</th>\n",
       "    </tr>\n",
       "    <tr>\n",
       "      <th></th>\n",
       "      <th>split_idx</th>\n",
       "      <th>0</th>\n",
       "    </tr>\n",
       "    <tr>\n",
       "      <th>COMID</th>\n",
       "      <th>HUC12</th>\n",
       "      <th></th>\n",
       "    </tr>\n",
       "  </thead>\n",
       "  <tbody>\n",
       "    <tr>\n",
       "      <th>10167780</th>\n",
       "      <th>051302060303</th>\n",
       "      <td>0.000000</td>\n",
       "    </tr>\n",
       "    <tr>\n",
       "      <th>10167782</th>\n",
       "      <th>051302060303</th>\n",
       "      <td>0.000000</td>\n",
       "    </tr>\n",
       "    <tr>\n",
       "      <th>10167786</th>\n",
       "      <th>051302060204</th>\n",
       "      <td>0.000000</td>\n",
       "    </tr>\n",
       "    <tr>\n",
       "      <th>10167788</th>\n",
       "      <th>051302060204</th>\n",
       "      <td>0.000000</td>\n",
       "    </tr>\n",
       "    <tr>\n",
       "      <th>10167790</th>\n",
       "      <th>051302060203</th>\n",
       "      <td>0.000000</td>\n",
       "    </tr>\n",
       "    <tr>\n",
       "      <th>...</th>\n",
       "      <th>...</th>\n",
       "      <td>...</td>\n",
       "    </tr>\n",
       "    <tr>\n",
       "      <th>935130082</th>\n",
       "      <th>051302050702</th>\n",
       "      <td>0.000000</td>\n",
       "    </tr>\n",
       "    <tr>\n",
       "      <th>935130083</th>\n",
       "      <th>051302050307</th>\n",
       "      <td>0.000000</td>\n",
       "    </tr>\n",
       "    <tr>\n",
       "      <th>935130084</th>\n",
       "      <th>051302050307</th>\n",
       "      <td>0.000000</td>\n",
       "    </tr>\n",
       "    <tr>\n",
       "      <th>935130085</th>\n",
       "      <th>051302050404</th>\n",
       "      <td>0.333333</td>\n",
       "    </tr>\n",
       "    <tr>\n",
       "      <th>935130086</th>\n",
       "      <th>051302050404</th>\n",
       "      <td>0.500000</td>\n",
       "    </tr>\n",
       "  </tbody>\n",
       "</table>\n",
       "<p>3660 rows × 1 columns</p>\n",
       "</div>"
      ],
      "text/plain": [
       "var                            y\n",
       "rep_idx                        0\n",
       "split_idx                      0\n",
       "COMID     HUC12                 \n",
       "10167780  051302060303  0.000000\n",
       "10167782  051302060303  0.000000\n",
       "10167786  051302060204  0.000000\n",
       "10167788  051302060204  0.000000\n",
       "10167790  051302060203  0.000000\n",
       "...                          ...\n",
       "935130082 051302050702  0.000000\n",
       "935130083 051302050307  0.000000\n",
       "935130084 051302050307  0.000000\n",
       "935130085 051302050404  0.333333\n",
       "935130086 051302050404  0.500000\n",
       "\n",
       "[3660 rows x 1 columns]"
      ]
     },
     "execution_count": 22,
     "metadata": {},
     "output_type": "execute_result"
    }
   ],
   "source": [
    "tdf=list(huc_species_series_dict.values())[0]\n",
    "tdf"
   ]
  },
  {
   "cell_type": "code",
   "execution_count": 23,
   "metadata": {},
   "outputs": [
    {
     "data": {
      "text/html": [
       "<div>\n",
       "<style scoped>\n",
       "    .dataframe tbody tr th:only-of-type {\n",
       "        vertical-align: middle;\n",
       "    }\n",
       "\n",
       "    .dataframe tbody tr th {\n",
       "        vertical-align: top;\n",
       "    }\n",
       "\n",
       "    .dataframe thead tr th {\n",
       "        text-align: left;\n",
       "    }\n",
       "\n",
       "    .dataframe thead tr:last-of-type th {\n",
       "        text-align: right;\n",
       "    }\n",
       "</style>\n",
       "<table border=\"1\" class=\"dataframe\">\n",
       "  <thead>\n",
       "    <tr>\n",
       "      <th></th>\n",
       "      <th>var</th>\n",
       "      <th>y</th>\n",
       "    </tr>\n",
       "    <tr>\n",
       "      <th></th>\n",
       "      <th>rep_idx</th>\n",
       "      <th>0</th>\n",
       "    </tr>\n",
       "    <tr>\n",
       "      <th></th>\n",
       "      <th>split_idx</th>\n",
       "      <th>0</th>\n",
       "    </tr>\n",
       "    <tr>\n",
       "      <th>COMID</th>\n",
       "      <th>HUC12</th>\n",
       "      <th></th>\n",
       "    </tr>\n",
       "  </thead>\n",
       "  <tbody>\n",
       "    <tr>\n",
       "      <th>10167780</th>\n",
       "      <th>051302060303</th>\n",
       "      <td>0.000000</td>\n",
       "    </tr>\n",
       "    <tr>\n",
       "      <th>10167782</th>\n",
       "      <th>051302060303</th>\n",
       "      <td>0.000000</td>\n",
       "    </tr>\n",
       "    <tr>\n",
       "      <th>10167786</th>\n",
       "      <th>051302060204</th>\n",
       "      <td>0.000000</td>\n",
       "    </tr>\n",
       "    <tr>\n",
       "      <th>10167788</th>\n",
       "      <th>051302060204</th>\n",
       "      <td>0.000000</td>\n",
       "    </tr>\n",
       "    <tr>\n",
       "      <th>10167790</th>\n",
       "      <th>051302060203</th>\n",
       "      <td>0.000000</td>\n",
       "    </tr>\n",
       "    <tr>\n",
       "      <th>...</th>\n",
       "      <th>...</th>\n",
       "      <td>...</td>\n",
       "    </tr>\n",
       "    <tr>\n",
       "      <th>935130082</th>\n",
       "      <th>051302050702</th>\n",
       "      <td>0.000000</td>\n",
       "    </tr>\n",
       "    <tr>\n",
       "      <th>935130083</th>\n",
       "      <th>051302050307</th>\n",
       "      <td>0.000000</td>\n",
       "    </tr>\n",
       "    <tr>\n",
       "      <th>935130084</th>\n",
       "      <th>051302050307</th>\n",
       "      <td>0.000000</td>\n",
       "    </tr>\n",
       "    <tr>\n",
       "      <th>935130085</th>\n",
       "      <th>051302050404</th>\n",
       "      <td>0.333333</td>\n",
       "    </tr>\n",
       "    <tr>\n",
       "      <th>935130086</th>\n",
       "      <th>051302050404</th>\n",
       "      <td>0.500000</td>\n",
       "    </tr>\n",
       "  </tbody>\n",
       "</table>\n",
       "<p>3660 rows × 1 columns</p>\n",
       "</div>"
      ],
      "text/plain": [
       "var                            y\n",
       "rep_idx                        0\n",
       "split_idx                      0\n",
       "COMID     HUC12                 \n",
       "10167780  051302060303  0.000000\n",
       "10167782  051302060303  0.000000\n",
       "10167786  051302060204  0.000000\n",
       "10167788  051302060204  0.000000\n",
       "10167790  051302060203  0.000000\n",
       "...                          ...\n",
       "935130082 051302050702  0.000000\n",
       "935130083 051302050307  0.000000\n",
       "935130084 051302050307  0.000000\n",
       "935130085 051302050404  0.333333\n",
       "935130086 051302050404  0.500000\n",
       "\n",
       "[3660 rows x 1 columns]"
      ]
     },
     "execution_count": 23,
     "metadata": {},
     "output_type": "execute_result"
    }
   ],
   "source": [
    "list(ppdt.huc_ydf_dict.values())[0]"
   ]
  },
  {
   "cell_type": "code",
   "execution_count": 7,
   "metadata": {},
   "outputs": [
    {
     "data": {
      "text/plain": [
       "MultiIndex([('y', 0, 0),\n",
       "            ('y', 0, 1),\n",
       "            ('y', 0, 2),\n",
       "            ('y', 0, 3),\n",
       "            ('y', 0, 4),\n",
       "            ('y', 1, 0),\n",
       "            ('y', 1, 1),\n",
       "            ('y', 1, 2),\n",
       "            ('y', 1, 3),\n",
       "            ('y', 1, 4),\n",
       "            ('y', 2, 0),\n",
       "            ('y', 2, 1),\n",
       "            ('y', 2, 2),\n",
       "            ('y', 2, 3),\n",
       "            ('y', 2, 4),\n",
       "            ('y', 3, 0),\n",
       "            ('y', 3, 1),\n",
       "            ('y', 3, 2),\n",
       "            ('y', 3, 3),\n",
       "            ('y', 3, 4),\n",
       "            ('y', 4, 0),\n",
       "            ('y', 4, 1),\n",
       "            ('y', 4, 2),\n",
       "            ('y', 4, 3),\n",
       "            ('y', 4, 4),\n",
       "            ('y', 5, 0),\n",
       "            ('y', 5, 1),\n",
       "            ('y', 5, 2),\n",
       "            ('y', 5, 3),\n",
       "            ('y', 5, 4),\n",
       "            ('y', 6, 0),\n",
       "            ('y', 6, 1),\n",
       "            ('y', 6, 2),\n",
       "            ('y', 6, 3),\n",
       "            ('y', 6, 4),\n",
       "            ('y', 7, 0),\n",
       "            ('y', 7, 1),\n",
       "            ('y', 7, 2),\n",
       "            ('y', 7, 3),\n",
       "            ('y', 7, 4),\n",
       "            ('y', 8, 0),\n",
       "            ('y', 8, 1),\n",
       "            ('y', 8, 2),\n",
       "            ('y', 8, 3),\n",
       "            ('y', 8, 4),\n",
       "            ('y', 9, 0),\n",
       "            ('y', 9, 1),\n",
       "            ('y', 9, 2),\n",
       "            ('y', 9, 3),\n",
       "            ('y', 9, 4)],\n",
       "           names=['var', 'rep_idx', 'split_idx'])"
      ]
     },
     "execution_count": 7,
     "metadata": {},
     "output_type": "execute_result"
    }
   ],
   "source": [
    "ppdt.df_list[0].iloc[0].index"
   ]
  },
  {
   "cell_type": "code",
   "execution_count": 8,
   "metadata": {},
   "outputs": [
    {
     "data": {
      "text/plain": [
       "[(97832, 50),\n",
       " (21671, 50),\n",
       " (97832, 50),\n",
       " (21671, 50),\n",
       " (97832, 50),\n",
       " (21671, 50),\n",
       " (97832, 50),\n",
       " (21671, 50),\n",
       " (97832, 50),\n",
       " (21671, 50),\n",
       " (97832, 50),\n",
       " (21671, 50)]"
      ]
     },
     "execution_count": 8,
     "metadata": {},
     "output_type": "execute_result"
    }
   ],
   "source": [
    "[df.shape for df in ppdt.df_list]"
   ]
  },
  {
   "cell_type": "code",
   "execution_count": null,
   "metadata": {},
   "outputs": [],
   "source": []
  },
  {
   "cell_type": "code",
   "execution_count": 9,
   "metadata": {},
   "outputs": [
    {
     "data": {
      "text/plain": [
       "array([0., 0., 0., 0., 0., 0., 0., 0., 0., 0., 0., 0., 0., 0., 0., 0., 0.,\n",
       "       0., 0., 0., 0., 0., 0., 0., 0., 0., 0., 0., 0., 0., 0., 1., 0., 0.,\n",
       "       0., 0., 0., 0., 0., 0., 0., 0., 0., 0., 0., 0., 0., 0., 0., 0.])"
      ]
     },
     "execution_count": 9,
     "metadata": {},
     "output_type": "execute_result"
    }
   ],
   "source": [
    "list(ppdt.huc_ylist_dict.values())[0][0]"
   ]
  },
  {
   "cell_type": "code",
   "execution_count": 10,
   "metadata": {},
   "outputs": [
    {
     "data": {
      "text/plain": [
       "(717018, 77578)"
      ]
     },
     "execution_count": 10,
     "metadata": {},
     "output_type": "execute_result"
    }
   ],
   "source": [
    "#df=ppdt.df_list[0]\n",
    "comids=[df.index.get_level_values('COMID').to_list() for df in ppdt.df_list]\n",
    "comids=[comid for comid_list in comids for comid in comid_list]\n",
    "len(comids),len(set(comids))"
   ]
  },
  {
   "cell_type": "code",
   "execution_count": 11,
   "metadata": {},
   "outputs": [
    {
     "name": "stdout",
     "output_type": "stream",
     "text": [
      "97832 55907\n",
      "21671 21671\n",
      "97832 55907\n",
      "21671 21671\n",
      "97832 55907\n",
      "21671 21671\n",
      "97832 55907\n",
      "21671 21671\n",
      "97832 55907\n",
      "21671 21671\n",
      "97832 55907\n",
      "21671 21671\n"
     ]
    }
   ],
   "source": [
    "for df in ppdt.df_list:\n",
    "    comids=df.index.get_level_values('COMID').to_list()\n",
    "    print(len(comids),len(set(comids)))"
   ]
  },
  {
   "cell_type": "code",
   "execution_count": 12,
   "metadata": {},
   "outputs": [],
   "source": [
    "import numpy as np\n",
    "ser=tdf.copy()['y']\n",
    "#cser=ser.copy()\n",
    "cser=tdf.copy()\n",
    "cser[:]='missing'\n",
    "cser.loc[ser>=0.5]='present'\n",
    "cser.loc[ser<0.5]='absent'\n",
    "pser=cser.loc[ser>=0.5]\n",
    "aser=cser.loc[ser<0.5]\n",
    "mser=cser.loc[cser['y']=='missing']"
   ]
  },
  {
   "cell_type": "code",
   "execution_count": 13,
   "metadata": {},
   "outputs": [
    {
     "data": {
      "text/plain": [
       "(                             y\n",
       " COMID     HUC12               \n",
       " 10167780  051302060303  absent\n",
       " 10167782  051302060303  absent\n",
       " 10167786  051302060204  absent\n",
       " 10167788  051302060204  absent\n",
       " 10167790  051302060203  absent\n",
       " ...                        ...\n",
       " 935130082 051302050702  absent\n",
       " 935130083 051302050307  absent\n",
       " 935130084 051302050307  absent\n",
       " 935130085 051302050404  absent\n",
       " 935130086 051302050404  absent\n",
       " \n",
       " [3659 rows x 1 columns],\n",
       "                              y\n",
       " COMID    HUC12                \n",
       " 11884398 051302050402  present,\n",
       " Empty DataFrame\n",
       " Columns: [y]\n",
       " Index: [])"
      ]
     },
     "execution_count": 13,
     "metadata": {},
     "output_type": "execute_result"
    }
   ],
   "source": [
    "aser,pser,mser"
   ]
  },
  {
   "cell_type": "code",
   "execution_count": 14,
   "metadata": {},
   "outputs": [
    {
     "data": {
      "text/plain": [
       "(Empty DataFrame\n",
       " Columns: [y]\n",
       " Index: [],\n",
       " Empty DataFrame\n",
       " Columns: [y]\n",
       " Index: [])"
      ]
     },
     "execution_count": 14,
     "metadata": {},
     "output_type": "execute_result"
    }
   ],
   "source": [
    "pser_idx=[tup[0] for tup in pser.index.to_list()]\n",
    "doubles=[idx  for idx in aser.index.to_list() if idx[0] in pser_idx]\n",
    "aser.loc[doubles],pser.loc[doubles]"
   ]
  },
  {
   "cell_type": "code",
   "execution_count": 15,
   "metadata": {},
   "outputs": [
    {
     "data": {
      "text/plain": [
       "3660"
      ]
     },
     "execution_count": 15,
     "metadata": {},
     "output_type": "execute_result"
    }
   ],
   "source": [
    "all_comids=tdf.index.get_level_values('COMID').to_list()\n",
    "len(all_comids)"
   ]
  },
  {
   "cell_type": "code",
   "execution_count": 16,
   "metadata": {},
   "outputs": [
    {
     "data": {
      "text/plain": [
       "3660"
      ]
     },
     "execution_count": 16,
     "metadata": {},
     "output_type": "execute_result"
    }
   ],
   "source": [
    "len(set(all_comids))"
   ]
  },
  {
   "cell_type": "code",
   "execution_count": 17,
   "metadata": {},
   "outputs": [
    {
     "data": {
      "text/plain": [
       "6.0"
      ]
     },
     "execution_count": 17,
     "metadata": {},
     "output_type": "execute_result"
    }
   ],
   "source": [
    "21960/3660"
   ]
  },
  {
   "cell_type": "code",
   "execution_count": 18,
   "metadata": {},
   "outputs": [
    {
     "ename": "ValueError",
     "evalue": "not enough values to unpack (expected 2, got 0)",
     "output_type": "error",
     "traceback": [
      "\u001b[0;31m---------------------------------------------------------------------------\u001b[0m",
      "\u001b[0;31mValueError\u001b[0m                                Traceback (most recent call last)",
      "\u001b[0;32m/tmp/ipykernel_60534/834186545.py\u001b[0m in \u001b[0;36m<module>\u001b[0;34m\u001b[0m\n\u001b[0;32m----> 1\u001b[0;31m \u001b[0mcomids\u001b[0m\u001b[0;34m,\u001b[0m\u001b[0m_\u001b[0m\u001b[0;34m=\u001b[0m\u001b[0mzip\u001b[0m\u001b[0;34m(\u001b[0m\u001b[0;34m*\u001b[0m\u001b[0mdoubles\u001b[0m\u001b[0;34m)\u001b[0m\u001b[0;34m\u001b[0m\u001b[0;34m\u001b[0m\u001b[0m\n\u001b[0m",
      "\u001b[0;31mValueError\u001b[0m: not enough values to unpack (expected 2, got 0)"
     ]
    }
   ],
   "source": [
    "comids,_=zip(*doubles)"
   ]
  },
  {
   "cell_type": "code",
   "execution_count": null,
   "metadata": {},
   "outputs": [],
   "source": [
    "len(set(list(comids)))"
   ]
  },
  {
   "cell_type": "code",
   "execution_count": null,
   "metadata": {},
   "outputs": [],
   "source": [
    "cser[ser.values>=0.5]"
   ]
  },
  {
   "cell_type": "code",
   "execution_count": null,
   "metadata": {},
   "outputs": [],
   "source": [
    "cser[ser.values<0.5]"
   ]
  },
  {
   "cell_type": "code",
   "execution_count": null,
   "metadata": {},
   "outputs": [],
   "source": [
    "tdf[(tdf.values>0) & (tdf.values>0.1)]"
   ]
  },
  {
   "cell_type": "code",
   "execution_count": null,
   "metadata": {},
   "outputs": [],
   "source": [
    "for c_hash,df in ppdt.XpredictSpeciesResults('percina kathae','fc15607cd67d34ad05797a87419e9128').items():\n",
    "    df_i=df\n",
    "    print(df)\n",
    "    break"
   ]
  },
  {
   "cell_type": "code",
   "execution_count": null,
   "metadata": {},
   "outputs": [],
   "source": [
    "df_i.index.names.index('HUC12')"
   ]
  },
  {
   "cell_type": "code",
   "execution_count": null,
   "metadata": {},
   "outputs": [],
   "source": []
  },
  {
   "cell_type": "code",
   "execution_count": null,
   "metadata": {},
   "outputs": [],
   "source": []
  },
  {
   "cell_type": "code",
   "execution_count": null,
   "metadata": {},
   "outputs": [],
   "source": [
    "#view an example of the data storage for xpredict with comids broken into chunks of 100k"
   ]
  },
  {
   "cell_type": "code",
   "execution_count": null,
   "metadata": {},
   "outputs": [],
   "source": [
    "hash_id_list=ppdt.XpredictHashIDComidHashResultsDB(hash_id=None)\n",
    "len(hash_id_list)"
   ]
  },
  {
   "cell_type": "code",
   "execution_count": null,
   "metadata": {},
   "outputs": [],
   "source": [
    "idx=2\n",
    "key1=list(ppdt.XpredictHashIDComidHashResultsDB(hash_id=hash_id_list[idx]).keys())[0]\n"
   ]
  },
  {
   "cell_type": "code",
   "execution_count": null,
   "metadata": {},
   "outputs": [],
   "source": [
    "df=ppdt.XpredictHashIDComidHashResultsDB(hash_id=hash_id_list[idx])[key1]"
   ]
  },
  {
   "cell_type": "code",
   "execution_count": null,
   "metadata": {},
   "outputs": [],
   "source": [
    "df.memory_usage(deep=True).sum()"
   ]
  },
  {
   "cell_type": "code",
   "execution_count": null,
   "metadata": {},
   "outputs": [],
   "source": [
    "df.astype('int64').memory_usage(deep=True).sum()"
   ]
  },
  {
   "cell_type": "code",
   "execution_count": null,
   "metadata": {},
   "outputs": [],
   "source": [
    "df"
   ]
  },
  {
   "cell_type": "code",
   "execution_count": null,
   "metadata": {},
   "outputs": [],
   "source": [
    "df.dtypes"
   ]
  },
  {
   "cell_type": "code",
   "execution_count": null,
   "metadata": {},
   "outputs": [],
   "source": [
    "print(df.shape)\n",
    "df.head()"
   ]
  },
  {
   "cell_type": "code",
   "execution_count": null,
   "metadata": {},
   "outputs": [],
   "source": [
    "-"
   ]
  },
  {
   "cell_type": "code",
   "execution_count": null,
   "metadata": {},
   "outputs": [],
   "source": [
    "#ppdt.getSpeciesHuc8List('umbra limi')"
   ]
  },
  {
   "cell_type": "code",
   "execution_count": null,
   "metadata": {},
   "outputs": [],
   "source": [
    "hash_ids_in_Xresults=ppdt.XpredictHashIDComidHashResultsDB(hash_id=None)"
   ]
  },
  {
   "cell_type": "code",
   "execution_count": null,
   "metadata": {},
   "outputs": [],
   "source": [
    "spec_idx=2000"
   ]
  },
  {
   "cell_type": "code",
   "execution_count": null,
   "metadata": {},
   "outputs": [],
   "source": [
    "print(hash_ids_in_Xresults[spec_idx])\n",
    "db=ppdt.XpredictHashIDComidHashResultsDB(hash_id=hash_ids_in_Xresults[spec_idx])"
   ]
  },
  {
   "cell_type": "code",
   "execution_count": null,
   "metadata": {},
   "outputs": [],
   "source": [
    "len(list(db.keys()))"
   ]
  },
  {
   "cell_type": "code",
   "execution_count": null,
   "metadata": {},
   "outputs": [],
   "source": [
    "db[list(db.keys())[0]]"
   ]
  },
  {
   "cell_type": "code",
   "execution_count": null,
   "metadata": {},
   "outputs": [],
   "source": [
    "db"
   ]
  },
  {
   "cell_type": "code",
   "execution_count": null,
   "metadata": {},
   "outputs": [],
   "source": [
    "sdb=ppdt.XpredictSpeciesResults('percina kathae',hash_ids_in_Xresults[spec_idx])"
   ]
  },
  {
   "cell_type": "code",
   "execution_count": null,
   "metadata": {},
   "outputs": [],
   "source": [
    "sdb[list(sdb.keys())[0]]"
   ]
  },
  {
   "cell_type": "code",
   "execution_count": null,
   "metadata": {},
   "outputs": [],
   "source": [
    "-"
   ]
  },
  {
   "cell_type": "code",
   "execution_count": null,
   "metadata": {},
   "outputs": [],
   "source": [
    "#ppdt.generateXPredictSpeciesComidBlockDicts() # run once"
   ]
  },
  {
   "cell_type": "code",
   "execution_count": null,
   "metadata": {},
   "outputs": [],
   "source": [
    "c_hash_block_db=ppdt.c_hash_block_db()"
   ]
  },
  {
   "cell_type": "code",
   "execution_count": null,
   "metadata": {},
   "outputs": [],
   "source": [
    "keys=list(c_hash_block_db.keys())\n",
    "print(len(keys))\n",
    "keys[:5]"
   ]
  },
  {
   "cell_type": "code",
   "execution_count": null,
   "metadata": {},
   "outputs": [],
   "source": [
    "for hash_key,c_list in c_hash_block_db[keys[0]].items():\n",
    "    print(len(c_list))"
   ]
  },
  {
   "cell_type": "code",
   "execution_count": null,
   "metadata": {},
   "outputs": [],
   "source": [
    "assert False, 'old approach below'"
   ]
  },
  {
   "cell_type": "code",
   "execution_count": null,
   "metadata": {},
   "outputs": [],
   "source": [
    "#db=ppdt.comidsiteinfo_db()\n",
    "#len(db)"
   ]
  },
  {
   "cell_type": "code",
   "execution_count": null,
   "metadata": {},
   "outputs": [],
   "source": [
    "#speclist=ppdt.getXdb()"
   ]
  },
  {
   "cell_type": "code",
   "execution_count": null,
   "metadata": {},
   "outputs": [],
   "source": [
    "ppdt.generateXPredictData(spec_list=None,rebuild=True)"
   ]
  },
  {
   "cell_type": "code",
   "execution_count": null,
   "metadata": {},
   "outputs": [],
   "source": []
  },
  {
   "cell_type": "code",
   "execution_count": null,
   "metadata": {},
   "outputs": [],
   "source": []
  },
  {
   "cell_type": "code",
   "execution_count": null,
   "metadata": {},
   "outputs": [],
   "source": []
  },
  {
   "cell_type": "code",
   "execution_count": null,
   "metadata": {},
   "outputs": [],
   "source": []
  },
  {
   "cell_type": "code",
   "execution_count": null,
   "metadata": {},
   "outputs": [],
   "source": []
  }
 ],
 "metadata": {
  "kernelspec": {
   "display_name": "Python 3 (ipykernel)",
   "language": "python",
   "name": "python3"
  },
  "language_info": {
   "codemirror_mode": {
    "name": "ipython",
    "version": 3
   },
   "file_extension": ".py",
   "mimetype": "text/x-python",
   "name": "python",
   "nbconvert_exporter": "python",
   "pygments_lexer": "ipython3",
   "version": "3.8.12"
  }
 },
 "nbformat": 4,
 "nbformat_minor": 4
}
